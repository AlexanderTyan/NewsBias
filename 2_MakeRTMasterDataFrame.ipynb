{
 "cells": [
  {
   "cell_type": "code",
   "execution_count": 33,
   "metadata": {},
   "outputs": [
    {
     "name": "stdout",
     "output_type": "stream",
     "text": [
      "The autoreload extension is already loaded. To reload it, use:\n",
      "  %reload_ext autoreload\n"
     ]
    }
   ],
   "source": [
    "%load_ext autoreload\n",
    "%autoreload 2\n",
    "import os\n",
    "import re\n",
    "from pprint import pprint\n",
    "import pandas as pd\n",
    "from helpers import functions"
   ]
  },
  {
   "cell_type": "markdown",
   "metadata": {},
   "source": [
    "There are two directories hosting the CSV files which store the news scraping data. The 'data' directory is an initial set of data. the 'data_extra' directory has results of additional scraping (does not contain CSV's from the 'data' directory), and is much larger than the 'data' directory."
   ]
  },
  {
   "cell_type": "code",
   "execution_count": 3,
   "metadata": {},
   "outputs": [],
   "source": [
    "# Directories:\n",
    "directory_custom = 'data/custom_data_pulls/'  # Main CSV's here\n",
    "directory_custom_extra = 'data_extra/custom_data_pulls/'  # Stashed extra data here"
   ]
  },
  {
   "cell_type": "markdown",
   "metadata": {},
   "source": [
    "From the 'data' directory:"
   ]
  },
  {
   "cell_type": "code",
   "execution_count": 4,
   "metadata": {
    "scrolled": true
   },
   "outputs": [
    {
     "name": "stdout",
     "output_type": "stream",
     "text": [
      "Processing file: 2019_1_31_rt_business_news.csv\n",
      "Processing file: 2019_1_31_rt_entertainment.csv\n",
      "Processing file: 2019_1_31_rt_health.csv\n",
      "Processing file: 2019_1_31_rt_main_page.csv\n",
      "Processing file: 2019_1_31_rt_most_recent.csv\n",
      "Processing file: 2019_1_31_rt_russia_news.csv\n",
      "Processing file: 2019_1_31_rt_sport_news.csv\n",
      "Processing file: 2019_1_31_rt_travel.csv\n",
      "Processing file: 2019_1_31_rt_uk_news.csv\n",
      "Processing file: 2019_1_31_rt_usa_news.csv\n",
      "Processing file: 2019_1_31_rt_world_news.csv\n",
      "Processing file: 2019_2_1_rt_business_news.csv\n",
      "Processing file: 2019_2_1_rt_entertainment.csv\n",
      "Processing file: 2019_2_1_rt_health.csv\n",
      "Processing file: 2019_2_1_rt_main_page.csv\n",
      "Processing file: 2019_2_1_rt_most_recent.csv\n",
      "Processing file: 2019_2_1_rt_russia_news.csv\n",
      "Processing file: 2019_2_1_rt_sport_news.csv\n",
      "Processing file: 2019_2_1_rt_travel.csv\n",
      "Processing file: 2019_2_1_rt_uk_news.csv\n",
      "Processing file: 2019_2_1_rt_usa_news.csv\n",
      "Processing file: 2019_2_1_rt_world_news.csv\n",
      "Processing file: 2019_2_2_rt_business_news.csv\n",
      "Processing file: 2019_2_2_rt_entertainment.csv\n",
      "Processing file: 2019_2_2_rt_health.csv\n",
      "Processing file: 2019_2_2_rt_main_page.csv\n",
      "Processing file: 2019_2_2_rt_most_recent.csv\n",
      "Processing file: 2019_2_2_rt_russia_news.csv\n",
      "Processing file: 2019_2_2_rt_sport_news.csv\n",
      "Processing file: 2019_2_2_rt_travel.csv\n",
      "Processing file: 2019_2_2_rt_uk_news.csv\n",
      "Processing file: 2019_2_2_rt_usa_news.csv\n",
      "Processing file: 2019_2_2_rt_world_news.csv\n",
      "Processing file: 2019_2_3_rt_business_news.csv\n",
      "Processing file: 2019_2_3_rt_entertainment.csv\n",
      "Processing file: 2019_2_3_rt_health.csv\n",
      "Processing file: 2019_2_3_rt_main_page.csv\n",
      "Processing file: 2019_2_3_rt_most_recent.csv\n",
      "Processing file: 2019_2_3_rt_russia_news.csv\n",
      "Processing file: 2019_2_3_rt_sport_news.csv\n",
      "Processing file: 2019_2_3_rt_travel.csv\n",
      "Processing file: 2019_2_3_rt_uk_news.csv\n",
      "Processing file: 2019_2_3_rt_usa_news.csv\n",
      "Processing file: 2019_2_3_rt_world_news.csv\n",
      "Processing file: 2019_2_4_rt_business_news.csv\n",
      "Processing file: 2019_2_4_rt_entertainment.csv\n",
      "Processing file: 2019_2_4_rt_health.csv\n",
      "Processing file: 2019_2_4_rt_main_page.csv\n",
      "Processing file: 2019_2_4_rt_most_recent.csv\n",
      "Processing file: 2019_2_4_rt_russia_news.csv\n",
      "Processing file: 2019_2_4_rt_sport_news.csv\n",
      "Processing file: 2019_2_4_rt_travel.csv\n",
      "Processing file: 2019_2_4_rt_uk_news.csv\n",
      "Processing file: 2019_2_4_rt_usa_news.csv\n",
      "Processing file: 2019_2_4_rt_world_news.csv\n",
      "Processing file: 2019_2_5_rt_business_news.csv\n",
      "Processing file: 2019_2_5_rt_entertainment.csv\n",
      "Processing file: 2019_2_5_rt_health.csv\n",
      "Processing file: 2019_2_5_rt_main_page.csv\n",
      "Processing file: 2019_2_5_rt_most_recent.csv\n",
      "Processing file: 2019_2_5_rt_russia_news.csv\n",
      "Processing file: 2019_2_5_rt_sport_news.csv\n",
      "Processing file: 2019_2_5_rt_travel.csv\n",
      "Processing file: 2019_2_5_rt_uk_news.csv\n",
      "Processing file: 2019_2_5_rt_usa_news.csv\n",
      "Processing file: 2019_2_5_rt_world_news.csv\n",
      "Processing file: 2019_2_6_rt_business_news.csv\n",
      "Processing file: 2019_2_6_rt_entertainment.csv\n",
      "Processing file: 2019_2_6_rt_health.csv\n",
      "Processing file: 2019_2_6_rt_main_page.csv\n",
      "Processing file: 2019_2_6_rt_most_recent.csv\n",
      "Processing file: 2019_2_6_rt_russia_news.csv\n",
      "Processing file: 2019_2_6_rt_sport_news.csv\n",
      "Processing file: 2019_2_6_rt_travel.csv\n",
      "Processing file: 2019_2_6_rt_uk_news.csv\n",
      "Processing file: 2019_2_6_rt_usa_news.csv\n",
      "Processing file: 2019_2_6_rt_world_news.csv\n",
      "Processing file: 2019_2_7_rt_business_news.csv\n",
      "Processing file: 2019_2_7_rt_entertainment.csv\n",
      "Processing file: 2019_2_7_rt_health.csv\n",
      "Processing file: 2019_2_7_rt_main_page.csv\n",
      "Processing file: 2019_2_7_rt_most_recent.csv\n",
      "Processing file: 2019_2_7_rt_russia_news.csv\n",
      "Processing file: 2019_2_7_rt_sport_news.csv\n",
      "Processing file: 2019_2_7_rt_travel.csv\n",
      "Processing file: 2019_2_7_rt_uk_news.csv\n",
      "Processing file: 2019_2_7_rt_usa_news.csv\n",
      "Processing file: 2019_2_7_rt_world_news.csv\n",
      "CPU times: user 20 s, sys: 3.21 s, total: 23.2 s\n",
      "Wall time: 23.5 s\n"
     ]
    }
   ],
   "source": [
    "%%time\n",
    "# TODO: remove duplicate code\n",
    "\n",
    "# Just the base CSV' for RT:\n",
    "directory = directory_custom\n",
    "\n",
    "pull_type = 'custom'\n",
    "\n",
    "# Year_month_day:\n",
    "pattern_date = '^\\d{4}_\\d{1,2}_\\d{1,2}'\n",
    "\n",
    "# Short source name:\n",
    "pattern_source = '[a-z]+'\n",
    "\n",
    "# Starts with lower-case word and followed by letters/numbers/underscores (long source name):\n",
    "pattern_source_detail = '[a-z]+\\w+'\n",
    "\n",
    "# Empty DataFrame to accumulate all csv's:\n",
    "df_master = pd.DataFrame()\n",
    "for filename in os.listdir(directory):\n",
    "        # Skip non-csv's and only include RT:\n",
    "        if filename.endswith(\".csv\") and ('_rt_' in filename):\n",
    "            print('Processing file:', filename)\n",
    "            \n",
    "            # Parse out date:\n",
    "            pull_date = re.search(pattern_date, filename).group()\n",
    "            pull_date = pd.to_datetime(pull_date, format='%Y_%m_%d')\n",
    "            \n",
    "            # Parse out short source name, e.g. 'rt':\n",
    "            source = re.search(pattern_source, filename).group()\n",
    "            if source == 'foxnews':\n",
    "                source = 'fox'\n",
    "\n",
    "            # And long source name, e.g. 'rt_main_page':\n",
    "            source_detail = re.search(pattern_source_detail, filename).group()\n",
    "            \n",
    "            current_df = pd.read_csv(directory + filename)\n",
    "\n",
    "            # Push pull_date and source name fields into the dataframe:\n",
    "            current_df['source'] = source\n",
    "            current_df['source_detail'] = source_detail\n",
    "            current_df['pull_type'] = pull_type\n",
    "            current_df['pull_date'] = pull_date\n",
    "\n",
    "            # Accumulate frame:\n",
    "            df_master = df_master.append(current_df, ignore_index=True)"
   ]
  },
  {
   "cell_type": "markdown",
   "metadata": {},
   "source": [
    "From the 'data_extra' directory:"
   ]
  },
  {
   "cell_type": "code",
   "execution_count": 5,
   "metadata": {},
   "outputs": [
    {
     "name": "stdout",
     "output_type": "stream",
     "text": [
      "Processing file: 2019_2_10_rt_business_news.csv\n",
      "Processing file: 2019_2_10_rt_entertainment.csv\n",
      "Processing file: 2019_2_10_rt_health.csv\n",
      "Processing file: 2019_2_10_rt_main_page.csv\n",
      "Processing file: 2019_2_10_rt_most_recent.csv\n",
      "Processing file: 2019_2_10_rt_russia_news.csv\n",
      "Processing file: 2019_2_10_rt_sport_news.csv\n",
      "Processing file: 2019_2_10_rt_travel.csv\n",
      "Processing file: 2019_2_10_rt_uk_news.csv\n",
      "Processing file: 2019_2_10_rt_usa_news.csv\n",
      "Processing file: 2019_2_10_rt_world_news.csv\n",
      "Processing file: 2019_2_12_rt_business_news.csv\n",
      "Processing file: 2019_2_12_rt_entertainment.csv\n",
      "Processing file: 2019_2_12_rt_health.csv\n",
      "Processing file: 2019_2_12_rt_main_page.csv\n",
      "Processing file: 2019_2_12_rt_most_recent.csv\n",
      "Processing file: 2019_2_12_rt_russia_news.csv\n",
      "Processing file: 2019_2_12_rt_sport_news.csv\n",
      "Processing file: 2019_2_12_rt_travel.csv\n",
      "Processing file: 2019_2_12_rt_uk_news.csv\n",
      "Processing file: 2019_2_12_rt_usa_news.csv\n",
      "Processing file: 2019_2_12_rt_world_news.csv\n",
      "Processing file: 2019_2_14_rt_business_news.csv\n",
      "Processing file: 2019_2_14_rt_entertainment.csv\n",
      "Processing file: 2019_2_14_rt_health.csv\n",
      "Processing file: 2019_2_14_rt_main_page.csv\n",
      "Processing file: 2019_2_14_rt_most_recent.csv\n",
      "Processing file: 2019_2_14_rt_russia_news.csv\n",
      "Processing file: 2019_2_14_rt_sport_news.csv\n",
      "Processing file: 2019_2_14_rt_travel.csv\n",
      "Processing file: 2019_2_14_rt_uk_news.csv\n",
      "Processing file: 2019_2_14_rt_usa_news.csv\n",
      "Processing file: 2019_2_14_rt_world_news.csv\n",
      "Processing file: 2019_2_15_rt_business_news.csv\n",
      "Processing file: 2019_2_15_rt_entertainment.csv\n",
      "Processing file: 2019_2_15_rt_health.csv\n",
      "Processing file: 2019_2_15_rt_main_page.csv\n",
      "Processing file: 2019_2_15_rt_most_recent.csv\n",
      "Processing file: 2019_2_15_rt_russia_news.csv\n",
      "Processing file: 2019_2_15_rt_sport_news.csv\n",
      "Processing file: 2019_2_15_rt_travel.csv\n",
      "Processing file: 2019_2_15_rt_uk_news.csv\n",
      "Processing file: 2019_2_15_rt_usa_news.csv\n",
      "Processing file: 2019_2_15_rt_world_news.csv\n",
      "Processing file: 2019_2_16_rt_business_news.csv\n",
      "Processing file: 2019_2_16_rt_entertainment.csv\n",
      "Processing file: 2019_2_16_rt_health.csv\n",
      "Processing file: 2019_2_16_rt_main_page.csv\n",
      "Processing file: 2019_2_16_rt_most_recent.csv\n",
      "Processing file: 2019_2_16_rt_russia_news.csv\n",
      "Processing file: 2019_2_16_rt_sport_news.csv\n",
      "Processing file: 2019_2_16_rt_travel.csv\n",
      "Processing file: 2019_2_16_rt_uk_news.csv\n",
      "Processing file: 2019_2_16_rt_usa_news.csv\n",
      "Processing file: 2019_2_16_rt_world_news.csv\n",
      "Processing file: 2019_2_17_rt_business_news.csv\n",
      "Processing file: 2019_2_17_rt_entertainment.csv\n",
      "Processing file: 2019_2_17_rt_health.csv\n",
      "Processing file: 2019_2_17_rt_main_page.csv\n",
      "Processing file: 2019_2_17_rt_most_recent.csv\n",
      "Processing file: 2019_2_17_rt_russia_news.csv\n",
      "Processing file: 2019_2_17_rt_sport_news.csv\n",
      "Processing file: 2019_2_17_rt_travel.csv\n",
      "Processing file: 2019_2_17_rt_uk_news.csv\n",
      "Processing file: 2019_2_17_rt_usa_news.csv\n",
      "Processing file: 2019_2_17_rt_world_news.csv\n",
      "Processing file: 2019_2_18_rt_business_news.csv\n",
      "Processing file: 2019_2_18_rt_entertainment.csv\n",
      "Processing file: 2019_2_18_rt_health.csv\n",
      "Processing file: 2019_2_18_rt_main_page.csv\n",
      "Processing file: 2019_2_18_rt_most_recent.csv\n",
      "Processing file: 2019_2_18_rt_russia_news.csv\n",
      "Processing file: 2019_2_18_rt_sport_news.csv\n",
      "Processing file: 2019_2_18_rt_travel.csv\n",
      "Processing file: 2019_2_18_rt_uk_news.csv\n",
      "Processing file: 2019_2_18_rt_usa_news.csv\n",
      "Processing file: 2019_2_18_rt_world_news.csv\n",
      "Processing file: 2019_2_19_rt_business_news.csv\n",
      "Processing file: 2019_2_19_rt_entertainment.csv\n",
      "Processing file: 2019_2_19_rt_health.csv\n",
      "Processing file: 2019_2_19_rt_main_page.csv\n",
      "Processing file: 2019_2_19_rt_most_recent.csv\n",
      "Processing file: 2019_2_19_rt_russia_news.csv\n",
      "Processing file: 2019_2_19_rt_sport_news.csv\n",
      "Processing file: 2019_2_19_rt_travel.csv\n",
      "Processing file: 2019_2_19_rt_uk_news.csv\n",
      "Processing file: 2019_2_19_rt_usa_news.csv\n",
      "Processing file: 2019_2_19_rt_world_news.csv\n",
      "Processing file: 2019_2_20_rt_business_news.csv\n",
      "Processing file: 2019_2_20_rt_entertainment.csv\n",
      "Processing file: 2019_2_20_rt_health.csv\n",
      "Processing file: 2019_2_20_rt_main_page.csv\n",
      "Processing file: 2019_2_20_rt_most_recent.csv\n",
      "Processing file: 2019_2_20_rt_russia_news.csv\n",
      "Processing file: 2019_2_20_rt_sport_news.csv\n",
      "Processing file: 2019_2_20_rt_travel.csv\n",
      "Processing file: 2019_2_20_rt_uk_news.csv\n",
      "Processing file: 2019_2_20_rt_usa_news.csv\n",
      "Processing file: 2019_2_20_rt_world_news.csv\n",
      "Processing file: 2019_2_22_rt_business_news.csv\n",
      "Processing file: 2019_2_22_rt_entertainment.csv\n",
      "Processing file: 2019_2_22_rt_health.csv\n",
      "Processing file: 2019_2_22_rt_main_page.csv\n",
      "Processing file: 2019_2_22_rt_most_recent.csv\n",
      "Processing file: 2019_2_22_rt_russia_news.csv\n",
      "Processing file: 2019_2_22_rt_sport_news.csv\n",
      "Processing file: 2019_2_22_rt_travel.csv\n",
      "Processing file: 2019_2_22_rt_uk_news.csv\n",
      "Processing file: 2019_2_22_rt_usa_news.csv\n",
      "Processing file: 2019_2_22_rt_world_news.csv\n",
      "Processing file: 2019_2_24_rt_business_news.csv\n",
      "Processing file: 2019_2_24_rt_entertainment.csv\n",
      "Processing file: 2019_2_24_rt_health.csv\n",
      "Processing file: 2019_2_24_rt_main_page.csv\n",
      "Processing file: 2019_2_24_rt_most_recent.csv\n",
      "Processing file: 2019_2_24_rt_russia_news.csv\n",
      "Processing file: 2019_2_24_rt_sport_news.csv\n",
      "Processing file: 2019_2_24_rt_travel.csv\n",
      "Processing file: 2019_2_24_rt_uk_news.csv\n",
      "Processing file: 2019_2_24_rt_usa_news.csv\n",
      "Processing file: 2019_2_24_rt_world_news.csv\n",
      "Processing file: 2019_2_25_rt_business_news.csv\n",
      "Processing file: 2019_2_25_rt_entertainment.csv\n",
      "Processing file: 2019_2_25_rt_health.csv\n",
      "Processing file: 2019_2_25_rt_main_page.csv\n",
      "Processing file: 2019_2_25_rt_most_recent.csv\n",
      "Processing file: 2019_2_25_rt_russia_news.csv\n",
      "Processing file: 2019_2_25_rt_sport_news.csv\n",
      "Processing file: 2019_2_25_rt_travel.csv\n",
      "Processing file: 2019_2_25_rt_uk_news.csv\n",
      "Processing file: 2019_2_25_rt_usa_news.csv\n",
      "Processing file: 2019_2_25_rt_world_news.csv\n",
      "Processing file: 2019_2_26_rt_business_news.csv\n",
      "Processing file: 2019_2_26_rt_entertainment.csv\n",
      "Processing file: 2019_2_26_rt_health.csv\n",
      "Processing file: 2019_2_26_rt_main_page.csv\n",
      "Processing file: 2019_2_26_rt_most_recent.csv\n",
      "Processing file: 2019_2_26_rt_russia_news.csv\n",
      "Processing file: 2019_2_26_rt_sport_news.csv\n",
      "Processing file: 2019_2_26_rt_travel.csv\n",
      "Processing file: 2019_2_26_rt_uk_news.csv\n",
      "Processing file: 2019_2_26_rt_usa_news.csv\n",
      "Processing file: 2019_2_26_rt_world_news.csv\n",
      "Processing file: 2019_2_27_rt_business_news.csv\n",
      "Processing file: 2019_2_27_rt_entertainment.csv\n",
      "Processing file: 2019_2_27_rt_health.csv\n",
      "Processing file: 2019_2_27_rt_main_page.csv\n",
      "Processing file: 2019_2_27_rt_most_recent.csv\n",
      "Processing file: 2019_2_27_rt_russia_news.csv\n",
      "Processing file: 2019_2_27_rt_sport_news.csv\n",
      "Processing file: 2019_2_27_rt_travel.csv\n",
      "Processing file: 2019_2_27_rt_uk_news.csv\n",
      "Processing file: 2019_2_27_rt_usa_news.csv\n",
      "Processing file: 2019_2_27_rt_world_news.csv\n",
      "Processing file: 2019_2_28_rt_business_news.csv\n",
      "Processing file: 2019_2_28_rt_entertainment.csv\n",
      "Processing file: 2019_2_28_rt_health.csv\n",
      "Processing file: 2019_2_28_rt_main_page.csv\n",
      "Processing file: 2019_2_28_rt_most_recent.csv\n",
      "Processing file: 2019_2_28_rt_russia_news.csv\n",
      "Processing file: 2019_2_28_rt_sport_news.csv\n",
      "Processing file: 2019_2_28_rt_travel.csv\n",
      "Processing file: 2019_2_28_rt_uk_news.csv\n",
      "Processing file: 2019_2_28_rt_usa_news.csv\n",
      "Processing file: 2019_2_28_rt_world_news.csv\n",
      "Processing file: 2019_3_11_rt_business_news.csv\n",
      "Processing file: 2019_3_11_rt_entertainment.csv\n",
      "Processing file: 2019_3_11_rt_health.csv\n",
      "Processing file: 2019_3_11_rt_main_page.csv\n",
      "Processing file: 2019_3_11_rt_most_recent.csv\n",
      "Processing file: 2019_3_11_rt_russia_news.csv\n",
      "Processing file: 2019_3_11_rt_sport_news.csv\n",
      "Processing file: 2019_3_11_rt_travel.csv\n",
      "Processing file: 2019_3_11_rt_uk_news.csv\n",
      "Processing file: 2019_3_11_rt_usa_news.csv\n",
      "Processing file: 2019_3_11_rt_world_news.csv\n",
      "Processing file: 2019_3_12_rt_business_news.csv\n",
      "Processing file: 2019_3_12_rt_main_page.csv\n",
      "Processing file: 2019_3_12_rt_russia_news.csv\n",
      "Processing file: 2019_3_12_rt_sport_news.csv\n",
      "Processing file: 2019_3_12_rt_uk_news.csv\n",
      "Processing file: 2019_3_12_rt_usa_news.csv\n",
      "Processing file: 2019_3_12_rt_world_news.csv\n",
      "Processing file: 2019_3_13_rt_business_news.csv\n",
      "Processing file: 2019_3_13_rt_main_page.csv\n",
      "Processing file: 2019_3_13_rt_russia_news.csv\n"
     ]
    },
    {
     "name": "stdout",
     "output_type": "stream",
     "text": [
      "Processing file: 2019_3_13_rt_sport_news.csv\n",
      "Processing file: 2019_3_13_rt_uk_news.csv\n",
      "Processing file: 2019_3_13_rt_usa_news.csv\n",
      "Processing file: 2019_3_13_rt_world_news.csv\n",
      "Processing file: 2019_3_14_rt_business_news.csv\n",
      "Processing file: 2019_3_14_rt_main_page.csv\n",
      "Processing file: 2019_3_14_rt_russia_news.csv\n",
      "Processing file: 2019_3_14_rt_sport_news.csv\n",
      "Processing file: 2019_3_14_rt_uk_news.csv\n",
      "Processing file: 2019_3_14_rt_usa_news.csv\n",
      "Processing file: 2019_3_14_rt_world_news.csv\n",
      "Processing file: 2019_3_16_rt_business_news.csv\n",
      "Processing file: 2019_3_16_rt_main_page.csv\n",
      "Processing file: 2019_3_16_rt_russia_news.csv\n",
      "Processing file: 2019_3_16_rt_sport_news.csv\n",
      "Processing file: 2019_3_16_rt_uk_news.csv\n",
      "Processing file: 2019_3_16_rt_usa_news.csv\n",
      "Processing file: 2019_3_16_rt_world_news.csv\n",
      "Processing file: 2019_3_17_rt_business_news.csv\n",
      "Processing file: 2019_3_17_rt_main_page.csv\n",
      "Processing file: 2019_3_17_rt_russia_news.csv\n",
      "Processing file: 2019_3_17_rt_sport_news.csv\n",
      "Processing file: 2019_3_17_rt_uk_news.csv\n",
      "Processing file: 2019_3_17_rt_usa_news.csv\n",
      "Processing file: 2019_3_17_rt_world_news.csv\n",
      "Processing file: 2019_3_18_rt_business_news.csv\n",
      "Processing file: 2019_3_18_rt_main_page.csv\n",
      "Processing file: 2019_3_18_rt_russia_news.csv\n",
      "Processing file: 2019_3_18_rt_sport_news.csv\n",
      "Processing file: 2019_3_18_rt_uk_news.csv\n",
      "Processing file: 2019_3_18_rt_usa_news.csv\n",
      "Processing file: 2019_3_18_rt_world_news.csv\n",
      "Processing file: 2019_3_19_rt_business_news.csv\n",
      "Processing file: 2019_3_19_rt_main_page.csv\n",
      "Processing file: 2019_3_19_rt_russia_news.csv\n",
      "Processing file: 2019_3_19_rt_sport_news.csv\n",
      "Processing file: 2019_3_19_rt_uk_news.csv\n",
      "Processing file: 2019_3_19_rt_usa_news.csv\n",
      "Processing file: 2019_3_19_rt_world_news.csv\n",
      "Processing file: 2019_3_1_rt_business_news.csv\n",
      "Processing file: 2019_3_1_rt_entertainment.csv\n",
      "Processing file: 2019_3_1_rt_health.csv\n",
      "Processing file: 2019_3_1_rt_main_page.csv\n",
      "Processing file: 2019_3_1_rt_most_recent.csv\n",
      "Processing file: 2019_3_1_rt_russia_news.csv\n",
      "Processing file: 2019_3_1_rt_sport_news.csv\n",
      "Processing file: 2019_3_1_rt_travel.csv\n",
      "Processing file: 2019_3_1_rt_uk_news.csv\n",
      "Processing file: 2019_3_1_rt_usa_news.csv\n",
      "Processing file: 2019_3_1_rt_world_news.csv\n",
      "Processing file: 2019_3_20_rt_business_news.csv\n",
      "Processing file: 2019_3_20_rt_main_page.csv\n",
      "Processing file: 2019_3_20_rt_russia_news.csv\n",
      "Processing file: 2019_3_20_rt_sport_news.csv\n",
      "Processing file: 2019_3_20_rt_uk_news.csv\n",
      "Processing file: 2019_3_20_rt_usa_news.csv\n",
      "Processing file: 2019_3_20_rt_world_news.csv\n",
      "Processing file: 2019_3_22_rt_business_news.csv\n",
      "Processing file: 2019_3_22_rt_main_page.csv\n",
      "Processing file: 2019_3_22_rt_russia_news.csv\n",
      "Processing file: 2019_3_22_rt_sport_news.csv\n",
      "Processing file: 2019_3_22_rt_uk_news.csv\n",
      "Processing file: 2019_3_22_rt_usa_news.csv\n",
      "Processing file: 2019_3_22_rt_world_news.csv\n",
      "Processing file: 2019_3_23_rt_business_news.csv\n",
      "Processing file: 2019_3_23_rt_main_page.csv\n",
      "Processing file: 2019_3_23_rt_russia_news.csv\n",
      "Processing file: 2019_3_23_rt_sport_news.csv\n",
      "Processing file: 2019_3_23_rt_uk_news.csv\n",
      "Processing file: 2019_3_23_rt_usa_news.csv\n",
      "Processing file: 2019_3_23_rt_world_news.csv\n",
      "Processing file: 2019_3_24_rt_business_news.csv\n",
      "Processing file: 2019_3_24_rt_main_page.csv\n",
      "Processing file: 2019_3_24_rt_russia_news.csv\n",
      "Processing file: 2019_3_24_rt_sport_news.csv\n",
      "Processing file: 2019_3_24_rt_uk_news.csv\n",
      "Processing file: 2019_3_24_rt_usa_news.csv\n",
      "Processing file: 2019_3_24_rt_world_news.csv\n",
      "Processing file: 2019_3_26_rt_business_news.csv\n",
      "Processing file: 2019_3_26_rt_main_page.csv\n",
      "Processing file: 2019_3_26_rt_russia_news.csv\n",
      "Processing file: 2019_3_26_rt_sport_news.csv\n",
      "Processing file: 2019_3_26_rt_uk_news.csv\n",
      "Processing file: 2019_3_26_rt_usa_news.csv\n",
      "Processing file: 2019_3_26_rt_world_news.csv\n",
      "Processing file: 2019_3_2_rt_business_news.csv\n",
      "Processing file: 2019_3_2_rt_entertainment.csv\n",
      "Processing file: 2019_3_2_rt_health.csv\n",
      "Processing file: 2019_3_2_rt_main_page.csv\n",
      "Processing file: 2019_3_2_rt_most_recent.csv\n",
      "Processing file: 2019_3_2_rt_russia_news.csv\n",
      "Processing file: 2019_3_2_rt_sport_news.csv\n",
      "Processing file: 2019_3_2_rt_travel.csv\n",
      "Processing file: 2019_3_2_rt_uk_news.csv\n",
      "Processing file: 2019_3_2_rt_usa_news.csv\n",
      "Processing file: 2019_3_2_rt_world_news.csv\n",
      "Processing file: 2019_3_3_rt_business_news.csv\n",
      "Processing file: 2019_3_3_rt_entertainment.csv\n",
      "Processing file: 2019_3_3_rt_health.csv\n",
      "Processing file: 2019_3_3_rt_main_page.csv\n",
      "Processing file: 2019_3_3_rt_most_recent.csv\n",
      "Processing file: 2019_3_3_rt_russia_news.csv\n",
      "Processing file: 2019_3_3_rt_sport_news.csv\n",
      "Processing file: 2019_3_3_rt_travel.csv\n",
      "Processing file: 2019_3_3_rt_uk_news.csv\n",
      "Processing file: 2019_3_3_rt_usa_news.csv\n",
      "Processing file: 2019_3_3_rt_world_news.csv\n",
      "Processing file: 2019_3_4_rt_business_news.csv\n",
      "Processing file: 2019_3_4_rt_entertainment.csv\n",
      "Processing file: 2019_3_4_rt_health.csv\n",
      "Processing file: 2019_3_4_rt_main_page.csv\n",
      "Processing file: 2019_3_4_rt_most_recent.csv\n",
      "Processing file: 2019_3_4_rt_russia_news.csv\n",
      "Processing file: 2019_3_4_rt_sport_news.csv\n",
      "Processing file: 2019_3_4_rt_travel.csv\n",
      "Processing file: 2019_3_4_rt_uk_news.csv\n",
      "Processing file: 2019_3_4_rt_usa_news.csv\n",
      "Processing file: 2019_3_4_rt_world_news.csv\n",
      "Processing file: 2019_3_5_rt_business_news.csv\n",
      "Processing file: 2019_3_5_rt_entertainment.csv\n",
      "Processing file: 2019_3_5_rt_health.csv\n",
      "Processing file: 2019_3_5_rt_main_page.csv\n",
      "Processing file: 2019_3_5_rt_most_recent.csv\n",
      "Processing file: 2019_3_5_rt_russia_news.csv\n",
      "Processing file: 2019_3_5_rt_sport_news.csv\n",
      "Processing file: 2019_3_5_rt_travel.csv\n",
      "Processing file: 2019_3_5_rt_uk_news.csv\n",
      "Processing file: 2019_3_5_rt_usa_news.csv\n",
      "Processing file: 2019_3_5_rt_world_news.csv\n",
      "Processing file: 2019_3_6_rt_business_news.csv\n",
      "Processing file: 2019_3_6_rt_entertainment.csv\n",
      "Processing file: 2019_3_6_rt_health.csv\n",
      "Processing file: 2019_3_6_rt_main_page.csv\n",
      "Processing file: 2019_3_6_rt_most_recent.csv\n",
      "Processing file: 2019_3_6_rt_russia_news.csv\n",
      "Processing file: 2019_3_6_rt_sport_news.csv\n",
      "Processing file: 2019_3_6_rt_travel.csv\n",
      "Processing file: 2019_3_6_rt_uk_news.csv\n",
      "Processing file: 2019_3_6_rt_usa_news.csv\n",
      "Processing file: 2019_3_6_rt_world_news.csv\n",
      "Processing file: 2019_3_7_rt_business_news.csv\n",
      "Processing file: 2019_3_7_rt_entertainment.csv\n",
      "Processing file: 2019_3_7_rt_health.csv\n",
      "Processing file: 2019_3_7_rt_main_page.csv\n",
      "Processing file: 2019_3_7_rt_most_recent.csv\n",
      "Processing file: 2019_3_7_rt_russia_news.csv\n",
      "Processing file: 2019_3_7_rt_sport_news.csv\n",
      "Processing file: 2019_3_7_rt_travel.csv\n",
      "Processing file: 2019_3_7_rt_uk_news.csv\n",
      "Processing file: 2019_3_7_rt_usa_news.csv\n",
      "Processing file: 2019_3_7_rt_world_news.csv\n",
      "Processing file: 2019_3_8_rt_business_news.csv\n",
      "Processing file: 2019_3_8_rt_entertainment.csv\n",
      "Processing file: 2019_3_8_rt_health.csv\n",
      "Processing file: 2019_3_8_rt_main_page.csv\n",
      "Processing file: 2019_3_8_rt_most_recent.csv\n",
      "Processing file: 2019_3_8_rt_russia_news.csv\n",
      "Processing file: 2019_3_8_rt_sport_news.csv\n",
      "Processing file: 2019_3_8_rt_travel.csv\n",
      "Processing file: 2019_3_8_rt_uk_news.csv\n",
      "Processing file: 2019_3_8_rt_usa_news.csv\n",
      "Processing file: 2019_3_8_rt_world_news.csv\n",
      "Processing file: 2019_3_9_rt_business_news.csv\n",
      "Processing file: 2019_3_9_rt_entertainment.csv\n",
      "Processing file: 2019_3_9_rt_health.csv\n",
      "Processing file: 2019_3_9_rt_main_page.csv\n",
      "Processing file: 2019_3_9_rt_most_recent.csv\n",
      "Processing file: 2019_3_9_rt_russia_news.csv\n",
      "Processing file: 2019_3_9_rt_sport_news.csv\n",
      "Processing file: 2019_3_9_rt_travel.csv\n",
      "Processing file: 2019_3_9_rt_uk_news.csv\n",
      "Processing file: 2019_3_9_rt_usa_news.csv\n",
      "Processing file: 2019_3_9_rt_world_news.csv\n",
      "CPU times: user 1min 31s, sys: 15.5 s, total: 1min 46s\n",
      "Wall time: 1min 56s\n"
     ]
    }
   ],
   "source": [
    "%%time\n",
    "\n",
    "# Additional CSV's for RT:\n",
    "\n",
    "directory = directory_custom_extra\n",
    "\n",
    "pull_type = 'custom'\n",
    "\n",
    "# Year_month_day:\n",
    "pattern_date = '^\\d{4}_\\d{1,2}_\\d{1,2}'\n",
    "\n",
    "# Short source name:\n",
    "pattern_source = '[a-z]+'\n",
    "\n",
    "# Starts with lower-case word and followed by letters/numbers/underscores (long source name):\n",
    "pattern_source_detail = '[a-z]+\\w+'\n",
    "\n",
    "# Empty DataFrame to accumulate all csv's:\n",
    "df_master_extra = pd.DataFrame()\n",
    "for filename in os.listdir(directory):\n",
    "        # Skip non-csv's and only include RT:\n",
    "        if filename.endswith(\".csv\") and ('_rt_' in filename):\n",
    "            print('Processing file:', filename)\n",
    "            \n",
    "            # Parse out date:\n",
    "            pull_date = re.search(pattern_date, filename).group()\n",
    "            pull_date = pd.to_datetime(pull_date, format='%Y_%m_%d')\n",
    "            \n",
    "            # Parse out short source name, e.g. 'rt':\n",
    "            source = re.search(pattern_source, filename).group()\n",
    "            if source == 'foxnews':\n",
    "                source = 'fox'\n",
    "\n",
    "            # And long source name, e.g. 'rt_main_page':\n",
    "            source_detail = re.search(pattern_source_detail, filename).group()\n",
    "            \n",
    "            current_df = pd.read_csv(directory + filename)\n",
    "\n",
    "            # Push pull_date and source name fields into the dataframe:\n",
    "            current_df['source'] = source\n",
    "            current_df['source_detail'] = source_detail\n",
    "            current_df['pull_type'] = pull_type\n",
    "            current_df['pull_date'] = pull_date\n",
    "\n",
    "            # Accumulate frame:\n",
    "            df_master_extra = df_master_extra.append(current_df, ignore_index=True)"
   ]
  },
  {
   "cell_type": "markdown",
   "metadata": {},
   "source": [
    "In the data scraping process, I have made a typo in some of RT's RSS links, causing the RT CSV's to have some data from CNN. Let's clean that up."
   ]
  },
  {
   "cell_type": "code",
   "execution_count": 13,
   "metadata": {},
   "outputs": [],
   "source": [
    "cnn_filter = df_master['rss_feedburner_origlink'].str.contains('www.cnn.com')\n",
    "cnn_filter_extra = df_master_extra['rss_feedburner_origlink'].str.contains('www.cnn.com')"
   ]
  },
  {
   "cell_type": "code",
   "execution_count": 37,
   "metadata": {},
   "outputs": [],
   "source": [
    "df_master_clean = df_master.drop(df_master[cnn_filter].index)\n",
    "df_master_extra_clean = df_master_extra.drop(df_master_extra[cnn_filter_extra].index)"
   ]
  },
  {
   "cell_type": "code",
   "execution_count": 41,
   "metadata": {
    "scrolled": true
   },
   "outputs": [
    {
     "data": {
      "text/plain": [
       "(3200, 27)"
      ]
     },
     "execution_count": 41,
     "metadata": {},
     "output_type": "execute_result"
    }
   ],
   "source": [
    "df_master_clean.shape"
   ]
  },
  {
   "cell_type": "code",
   "execution_count": 42,
   "metadata": {
    "scrolled": true
   },
   "outputs": [
    {
     "data": {
      "text/plain": [
       "(17787, 27)"
      ]
     },
     "execution_count": 42,
     "metadata": {},
     "output_type": "execute_result"
    }
   ],
   "source": [
    "df_master_extra_clean.shape"
   ]
  },
  {
   "cell_type": "code",
   "execution_count": 43,
   "metadata": {},
   "outputs": [],
   "source": [
    "df_rt_clean = df_master_clean.append(df_master_extra_clean, ignore_index=True)"
   ]
  },
  {
   "cell_type": "code",
   "execution_count": 46,
   "metadata": {},
   "outputs": [
    {
     "data": {
      "text/plain": [
       "0"
      ]
     },
     "execution_count": 46,
     "metadata": {},
     "output_type": "execute_result"
    }
   ],
   "source": [
    "# Check that there are no more CNN links:\n",
    "df_rt_clean['rss_feedburner_origlink'].str.contains('www.cnn.com').sum()"
   ]
  },
  {
   "cell_type": "markdown",
   "metadata": {},
   "source": [
    "It is highly likely that there are duplicate entries between different RSS feeds and within same RSS feed. Let's clean that up."
   ]
  },
  {
   "cell_type": "code",
   "execution_count": 106,
   "metadata": {},
   "outputs": [],
   "source": [
    "# This deletes dupes WITHIN same RSS feed:\n",
    "df_rt_clean_nodupes = df_rt_clean.drop_duplicates(subset=['paper_section_name', 'url'])"
   ]
  },
  {
   "cell_type": "code",
   "execution_count": 107,
   "metadata": {},
   "outputs": [
    {
     "data": {
      "text/plain": [
       "(6112, 27)"
      ]
     },
     "execution_count": 107,
     "metadata": {},
     "output_type": "execute_result"
    }
   ],
   "source": [
    "df_rt_clean_nodupes.shape"
   ]
  },
  {
   "cell_type": "code",
   "execution_count": 112,
   "metadata": {},
   "outputs": [],
   "source": [
    "# This deletes dupes BETWEEN RSS feeds:\n",
    "df_rt_clean_nodupes_atall = df_rt_clean_nodupes.drop_duplicates(subset=['url'])"
   ]
  },
  {
   "cell_type": "code",
   "execution_count": 113,
   "metadata": {},
   "outputs": [
    {
     "data": {
      "text/plain": [
       "(3766, 27)"
      ]
     },
     "execution_count": 113,
     "metadata": {},
     "output_type": "execute_result"
    }
   ],
   "source": [
    "df_rt_clean_nodupes_atall.shape"
   ]
  },
  {
   "cell_type": "markdown",
   "metadata": {},
   "source": [
    "Save and test loading back:"
   ]
  },
  {
   "cell_type": "code",
   "execution_count": 4,
   "metadata": {},
   "outputs": [],
   "source": [
    "processed_dir_file_1 = 'data/processed/2019_03_26_RT_NoDupesWithin.csv'\n",
    "processed_dir_file_2 = 'data/processed/2019_03_26_RT_NoDupesAtAll.csv'"
   ]
  },
  {
   "cell_type": "code",
   "execution_count": 115,
   "metadata": {},
   "outputs": [],
   "source": [
    "df_rt_clean_nodupes.to_csv(path_or_buf=processed_dir_file_1, index=False)\n",
    "df_rt_clean_nodupes_atall.to_csv(path_or_buf=processed_dir_file_2, index=False)"
   ]
  },
  {
   "cell_type": "code",
   "execution_count": 5,
   "metadata": {},
   "outputs": [
    {
     "name": "stdout",
     "output_type": "stream",
     "text": [
      "CPU times: user 7.34 s, sys: 1.19 s, total: 8.53 s\n",
      "Wall time: 8.55 s\n"
     ]
    }
   ],
   "source": [
    "%%time\n",
    "df_rt_clean_nodupes_csv = pd.read_csv(processed_dir_file_1)\n",
    "df_rt_clean_nodupes_atall_csv = pd.read_csv(processed_dir_file_2)"
   ]
  },
  {
   "cell_type": "code",
   "execution_count": null,
   "metadata": {},
   "outputs": [],
   "source": [
    "print(df_rt_clean_nodupes_csv.text[400])"
   ]
  },
  {
   "cell_type": "code",
   "execution_count": 8,
   "metadata": {},
   "outputs": [
    {
     "name": "stdout",
     "output_type": "stream",
     "text": [
      "(6112, 27)\n",
      "(3766, 27)\n"
     ]
    }
   ],
   "source": [
    "print(df_rt_clean_nodupes_csv.shape)\n",
    "print(df_rt_clean_nodupes_atall_csv.shape)"
   ]
  },
  {
   "cell_type": "code",
   "execution_count": 29,
   "metadata": {},
   "outputs": [
    {
     "name": "stdout",
     "output_type": "stream",
     "text": [
      "Russian boxer Sergey Kovalev, one of the most decorated light heavyweights of his generation, has been slapped with an $8 million dollar lawsuit stemming from an alleged assault of a woman and her dog in June of last year.\n",
      "\n",
      "Per a report from TMZ on Wednesday, the Russian boxer is being sued by Jamie Frontz, who volunteered to be named, after she alleged that she was beaten by the boxer at a residence in California last summer.\n",
      "\n",
      "Model and TV actress Frontz claims that she met Kovalev at the opening of a boxing gym in Big Bear, California, after which the Russian and a friend followed her home.\n",
      "\n",
      "READ MORE: Khabib given $500k fine and 9-month suspension for McGregor brawl at UFC 229\n",
      "\n",
      "The lawsuit states that the boxer attempted to aggressively have sex with Frontz, which prompted her dog to attempt to intervene. She claims that Kovalev pushed and kicked the dog away.\n",
      "\n",
      "After that, it states that the former world champion punched Frontz \"with full force directly in the face one time with a closed fist,\" causing a broken nose, concussion and other related head injuries.\n",
      "\n",
      "Writing on Instagram on Tuesday, Frontz said that the \"truth\" of what happened between them will come out.\n",
      "\n",
      "\"I hear that he is denying on his social media that he punched me in the face,\" she wrote.\n",
      "\n",
      "\"I’m curious as to how he explains the fact that I suddenly wound up with a shattered nose, an open head wound, a concussion and two spinal injuries when he was standing 3 feet away from me in the living room of my own cabin (infuriated because I wouldn’t have sex with him, so much so that he had just viciously kicked my dog Annie), and there’s an eye witness who saw the whole thing.\n",
      "\n",
      "READ MORE: Conor McGregor gets 6-month suspension, fined $50k for his role in UFC 229 chaos\n",
      "\n",
      "\"Nice try, Krusher. Fortunately, he’s facing felony assault charges and I’m also suing him for $8 million, so one way or the other I suspect the truth will come out.\n",
      "\n",
      "\"Sadly, I know all too well what its like to get punched in the face by Kovalev, only when he hit me he wasn’t wearing gloves,\" she added.\n",
      "\n",
      "Frontz is understood to be suing the boxer for $8 million in damages.\n",
      "\n",
      "She also claims that she observed Kovalev crawl out of bushes near her residence the morning after the alleged assault, which prompted her to contact the police and acquire a restraining order against the 35-year-old.\n",
      "\n",
      "He was arrested at the scene for a charge of felony assault and has pleaded not guilty.\n",
      "\n",
      "Addressing the matter on his own Instagram account, Kovalev asked his fans for patience and called for people to reserve judgement until all of the facts are available.\n",
      "\n",
      "\"I would like to ask all of you not to make hasty conclusions on the situation in which I am accused and put into the light in a not entirely biased manner,\" he wrote.\n",
      "\n",
      "\"After all, you do not know the details of what happened. For me, this most of all seems to be a performance in which I play the main role by not will.\n",
      "\n",
      "\"Doesn't it seem strange to you that the incident happened in June of last year, and they announced it on the eve of my rematch against Alvarez?\"\n",
      "\n",
      "Kovalev is scheduled to rematch Eleider Alvarez in Texas this weekend. The Russian suffered a seventh-round TKO defeat to the Colombian fighter in their first meeting last August.\n"
     ]
    }
   ],
   "source": [
    "print(df_rt_clean_nodupes_csv.loc[29].text)"
   ]
  },
  {
   "cell_type": "code",
   "execution_count": 30,
   "metadata": {},
   "outputs": [
    {
     "name": "stdout",
     "output_type": "stream",
     "text": [
      "Four police officers have been shot and a fifth injured in a residential neighborhood in Houston, Texas after a shootout broke out during the serving of a narcotics warrant. Two suspects were killed.\n",
      "\n",
      "Two officers were shot in the neck and are in critical but stable condition, while two more are under observation at Memorial Hermann Medical Center, Houston Police Chief Art Acevedo told the media on Monday evening, hours after the gun battle. One officer has already been discharged.\n",
      "\n",
      "The police were on the scene at the Pecan Park address serving a search warrant related to reports that black tar heroin was being sold there, when they came under fire from the suspects. In a press conference on Monday evening, Chief Acevedo said that the investigation was ongoing.\n"
     ]
    }
   ],
   "source": [
    "print(df_rt_clean_nodupes_csv.loc[229].text)"
   ]
  },
  {
   "cell_type": "code",
   "execution_count": 32,
   "metadata": {},
   "outputs": [
    {
     "data": {
      "text/plain": [
       "'US President Donald Trump has said that the time has come for the United States to \"fully recognize\" Israel\\'s sovereignty over the disputed Golan Heights, seized from Syria during the Six-Day War in 1967.\\n\\nIn a tweet on Thursday, Trump said the Golan Heights are \"of critical strategic and security importance to the State of Israel\" and to \"regional security.\" His decision will be seen as a diplomatic coup for Israeli Prime Minister Benjamin Netanyahu.\\n\\nThe move comes after the US State Department dropped the word \"occupied\" in relation to the Golan Heights in its annual human rights report for 2018, published last week. Responding on Twitter, Netanyahu thanked Trump for \"boldly recognizing\" Israel\\'s sovereignty over the land.\\n\\nNetanyahu had previously urged top US officials to make the declaration and he is expected to meet with Trump at the White House in the coming days.\\n\\nMeanwhile, the Secretary General of the Arab League, Ahmed Aboul Gheit, said that the organization “strongly supports” Syria’s sovereignty over the Occupied Golan Heights. Russia also criticized Trump’s idea, saying that it is aimed at sowing discord within the Arab world.\\n\\n“Russia will never support such a recognition,” Oleg Morozov, a member of the Russian Senate’s International Affairs Committee said, as cited by the RIA news agency.\\n\\nThe Golan Heights were seized in 1967, but officially annexed the territory in a 1981 law. Syria, on the other hand, has sought to regain its sovereignty over the region.\\n\\nThe strategically important land is recognized as part of Syria by the United Nations and UN resolutions have called for Israel to withdraw from the areas, as well as other occupied territories, including Gaza and the West Bank.\\n\\nTrump has consistently backed Israel when it comes to major regional disputes and last year sparked controversy and outrage among Palestinians and others when he moved the US embassy in Israel from Tel-Aviv to Jerusalem and said the US officially recognized Jerusalem as Israel\\'s capital.\\n\\nThink your friends would be interested? Share this story!'"
      ]
     },
     "execution_count": 32,
     "metadata": {},
     "output_type": "execute_result"
    }
   ],
   "source": [
    "(df_rt_clean_nodupes_csv.loc[5000].text)"
   ]
  },
  {
   "cell_type": "code",
   "execution_count": null,
   "metadata": {},
   "outputs": [],
   "source": []
  }
 ],
 "metadata": {
  "kernelspec": {
   "display_name": "Python 3",
   "language": "python",
   "name": "python3"
  },
  "language_info": {
   "codemirror_mode": {
    "name": "ipython",
    "version": 3
   },
   "file_extension": ".py",
   "mimetype": "text/x-python",
   "name": "python",
   "nbconvert_exporter": "python",
   "pygments_lexer": "ipython3",
   "version": "3.6.8"
  }
 },
 "nbformat": 4,
 "nbformat_minor": 2
}
