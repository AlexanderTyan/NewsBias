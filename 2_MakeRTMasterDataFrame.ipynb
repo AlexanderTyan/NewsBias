{
 "cells": [
  {
   "cell_type": "code",
   "execution_count": 2,
   "metadata": {},
   "outputs": [],
   "source": [
    "%load_ext autoreload\n",
    "%autoreload 2\n",
    "import os\n",
    "import re\n",
    "import pandas as pd"
   ]
  },
  {
   "cell_type": "markdown",
   "metadata": {},
   "source": [
    "There are two directories hosting the CSV files which store the news scraping data. The 'data' directory is an initial set of data. the 'data_extra' directory has results of additional scraping (does not contain CSV's from the 'data' directory), and is much larger than the 'data' directory."
   ]
  },
  {
   "cell_type": "code",
   "execution_count": 3,
   "metadata": {},
   "outputs": [],
   "source": [
    "# Directories:\n",
    "directory_custom = 'data/custom_data_pulls/'  # Main CSV's here\n",
    "directory_custom_extra = 'data_extra/custom_data_pulls/'  # Stashed extra data here"
   ]
  },
  {
   "cell_type": "markdown",
   "metadata": {},
   "source": [
    "From the 'data' directory:"
   ]
  },
  {
   "cell_type": "code",
   "execution_count": 4,
   "metadata": {
    "scrolled": true
   },
   "outputs": [
    {
     "name": "stdout",
     "output_type": "stream",
     "text": [
      "Processing file: 2019_1_31_rt_business_news.csv\n",
      "Processing file: 2019_1_31_rt_entertainment.csv\n",
      "Processing file: 2019_1_31_rt_health.csv\n",
      "Processing file: 2019_1_31_rt_main_page.csv\n",
      "Processing file: 2019_1_31_rt_most_recent.csv\n",
      "Processing file: 2019_1_31_rt_russia_news.csv\n",
      "Processing file: 2019_1_31_rt_sport_news.csv\n",
      "Processing file: 2019_1_31_rt_travel.csv\n",
      "Processing file: 2019_1_31_rt_uk_news.csv\n",
      "Processing file: 2019_1_31_rt_usa_news.csv\n",
      "Processing file: 2019_1_31_rt_world_news.csv\n",
      "Processing file: 2019_2_1_rt_business_news.csv\n",
      "Processing file: 2019_2_1_rt_entertainment.csv\n",
      "Processing file: 2019_2_1_rt_health.csv\n",
      "Processing file: 2019_2_1_rt_main_page.csv\n",
      "Processing file: 2019_2_1_rt_most_recent.csv\n",
      "Processing file: 2019_2_1_rt_russia_news.csv\n",
      "Processing file: 2019_2_1_rt_sport_news.csv\n",
      "Processing file: 2019_2_1_rt_travel.csv\n",
      "Processing file: 2019_2_1_rt_uk_news.csv\n",
      "Processing file: 2019_2_1_rt_usa_news.csv\n",
      "Processing file: 2019_2_1_rt_world_news.csv\n",
      "Processing file: 2019_2_2_rt_business_news.csv\n",
      "Processing file: 2019_2_2_rt_entertainment.csv\n",
      "Processing file: 2019_2_2_rt_health.csv\n",
      "Processing file: 2019_2_2_rt_main_page.csv\n",
      "Processing file: 2019_2_2_rt_most_recent.csv\n",
      "Processing file: 2019_2_2_rt_russia_news.csv\n",
      "Processing file: 2019_2_2_rt_sport_news.csv\n",
      "Processing file: 2019_2_2_rt_travel.csv\n",
      "Processing file: 2019_2_2_rt_uk_news.csv\n",
      "Processing file: 2019_2_2_rt_usa_news.csv\n",
      "Processing file: 2019_2_2_rt_world_news.csv\n",
      "Processing file: 2019_2_3_rt_business_news.csv\n",
      "Processing file: 2019_2_3_rt_entertainment.csv\n",
      "Processing file: 2019_2_3_rt_health.csv\n",
      "Processing file: 2019_2_3_rt_main_page.csv\n",
      "Processing file: 2019_2_3_rt_most_recent.csv\n",
      "Processing file: 2019_2_3_rt_russia_news.csv\n",
      "Processing file: 2019_2_3_rt_sport_news.csv\n",
      "Processing file: 2019_2_3_rt_travel.csv\n",
      "Processing file: 2019_2_3_rt_uk_news.csv\n",
      "Processing file: 2019_2_3_rt_usa_news.csv\n",
      "Processing file: 2019_2_3_rt_world_news.csv\n",
      "Processing file: 2019_2_4_rt_business_news.csv\n",
      "Processing file: 2019_2_4_rt_entertainment.csv\n",
      "Processing file: 2019_2_4_rt_health.csv\n",
      "Processing file: 2019_2_4_rt_main_page.csv\n",
      "Processing file: 2019_2_4_rt_most_recent.csv\n",
      "Processing file: 2019_2_4_rt_russia_news.csv\n",
      "Processing file: 2019_2_4_rt_sport_news.csv\n",
      "Processing file: 2019_2_4_rt_travel.csv\n",
      "Processing file: 2019_2_4_rt_uk_news.csv\n",
      "Processing file: 2019_2_4_rt_usa_news.csv\n",
      "Processing file: 2019_2_4_rt_world_news.csv\n",
      "Processing file: 2019_2_5_rt_business_news.csv\n",
      "Processing file: 2019_2_5_rt_entertainment.csv\n",
      "Processing file: 2019_2_5_rt_health.csv\n",
      "Processing file: 2019_2_5_rt_main_page.csv\n",
      "Processing file: 2019_2_5_rt_most_recent.csv\n",
      "Processing file: 2019_2_5_rt_russia_news.csv\n",
      "Processing file: 2019_2_5_rt_sport_news.csv\n",
      "Processing file: 2019_2_5_rt_travel.csv\n",
      "Processing file: 2019_2_5_rt_uk_news.csv\n",
      "Processing file: 2019_2_5_rt_usa_news.csv\n",
      "Processing file: 2019_2_5_rt_world_news.csv\n",
      "Processing file: 2019_2_6_rt_business_news.csv\n",
      "Processing file: 2019_2_6_rt_entertainment.csv\n",
      "Processing file: 2019_2_6_rt_health.csv\n",
      "Processing file: 2019_2_6_rt_main_page.csv\n",
      "Processing file: 2019_2_6_rt_most_recent.csv\n",
      "Processing file: 2019_2_6_rt_russia_news.csv\n",
      "Processing file: 2019_2_6_rt_sport_news.csv\n",
      "Processing file: 2019_2_6_rt_travel.csv\n",
      "Processing file: 2019_2_6_rt_uk_news.csv\n",
      "Processing file: 2019_2_6_rt_usa_news.csv\n",
      "Processing file: 2019_2_6_rt_world_news.csv\n",
      "Processing file: 2019_2_7_rt_business_news.csv\n",
      "Processing file: 2019_2_7_rt_entertainment.csv\n",
      "Processing file: 2019_2_7_rt_health.csv\n",
      "Processing file: 2019_2_7_rt_main_page.csv\n",
      "Processing file: 2019_2_7_rt_most_recent.csv\n",
      "Processing file: 2019_2_7_rt_russia_news.csv\n",
      "Processing file: 2019_2_7_rt_sport_news.csv\n",
      "Processing file: 2019_2_7_rt_travel.csv\n",
      "Processing file: 2019_2_7_rt_uk_news.csv\n",
      "Processing file: 2019_2_7_rt_usa_news.csv\n",
      "Processing file: 2019_2_7_rt_world_news.csv\n",
      "CPU times: user 20 s, sys: 3.21 s, total: 23.2 s\n",
      "Wall time: 23.5 s\n"
     ]
    }
   ],
   "source": [
    "%%time\n",
    "# TODO: remove duplicate code\n",
    "\n",
    "# Just the base CSV' for RT:\n",
    "directory = directory_custom\n",
    "\n",
    "pull_type = 'custom'\n",
    "\n",
    "# Year_month_day:\n",
    "pattern_date = '^\\d{4}_\\d{1,2}_\\d{1,2}'\n",
    "\n",
    "# Short source name:\n",
    "pattern_source = '[a-z]+'\n",
    "\n",
    "# Starts with lower-case word and followed by letters/numbers/underscores (long source name):\n",
    "pattern_source_detail = '[a-z]+\\w+'\n",
    "\n",
    "# Empty DataFrame to accumulate all csv's:\n",
    "df_master = pd.DataFrame()\n",
    "for filename in os.listdir(directory):\n",
    "        # Skip non-csv's and only include RT:\n",
    "        if filename.endswith(\".csv\") and ('_rt_' in filename):\n",
    "            print('Processing file:', filename)\n",
    "            \n",
    "            # Parse out date:\n",
    "            pull_date = re.search(pattern_date, filename).group()\n",
    "            pull_date = pd.to_datetime(pull_date, format='%Y_%m_%d')\n",
    "            \n",
    "            # Parse out short source name, e.g. 'rt':\n",
    "            source = re.search(pattern_source, filename).group()\n",
    "            if source == 'foxnews':\n",
    "                source = 'fox'\n",
    "\n",
    "            # And long source name, e.g. 'rt_main_page':\n",
    "            source_detail = re.search(pattern_source_detail, filename).group()\n",
    "            \n",
    "            current_df = pd.read_csv(directory + filename)\n",
    "\n",
    "            # Push pull_date and source name fields into the dataframe:\n",
    "            current_df['source'] = source\n",
    "            current_df['source_detail'] = source_detail\n",
    "            current_df['pull_type'] = pull_type\n",
    "            current_df['pull_date'] = pull_date\n",
    "\n",
    "            # Accumulate frame:\n",
    "            df_master = df_master.append(current_df, ignore_index=True)"
   ]
  },
  {
   "cell_type": "markdown",
   "metadata": {},
   "source": [
    "From the 'data_extra' directory:"
   ]
  },
  {
   "cell_type": "code",
   "execution_count": 5,
   "metadata": {},
   "outputs": [
    {
     "name": "stdout",
     "output_type": "stream",
     "text": [
      "Processing file: 2019_2_10_rt_business_news.csv\n",
      "Processing file: 2019_2_10_rt_entertainment.csv\n",
      "Processing file: 2019_2_10_rt_health.csv\n",
      "Processing file: 2019_2_10_rt_main_page.csv\n",
      "Processing file: 2019_2_10_rt_most_recent.csv\n",
      "Processing file: 2019_2_10_rt_russia_news.csv\n",
      "Processing file: 2019_2_10_rt_sport_news.csv\n",
      "Processing file: 2019_2_10_rt_travel.csv\n",
      "Processing file: 2019_2_10_rt_uk_news.csv\n",
      "Processing file: 2019_2_10_rt_usa_news.csv\n",
      "Processing file: 2019_2_10_rt_world_news.csv\n",
      "Processing file: 2019_2_12_rt_business_news.csv\n",
      "Processing file: 2019_2_12_rt_entertainment.csv\n",
      "Processing file: 2019_2_12_rt_health.csv\n",
      "Processing file: 2019_2_12_rt_main_page.csv\n",
      "Processing file: 2019_2_12_rt_most_recent.csv\n",
      "Processing file: 2019_2_12_rt_russia_news.csv\n",
      "Processing file: 2019_2_12_rt_sport_news.csv\n",
      "Processing file: 2019_2_12_rt_travel.csv\n",
      "Processing file: 2019_2_12_rt_uk_news.csv\n",
      "Processing file: 2019_2_12_rt_usa_news.csv\n",
      "Processing file: 2019_2_12_rt_world_news.csv\n",
      "Processing file: 2019_2_14_rt_business_news.csv\n",
      "Processing file: 2019_2_14_rt_entertainment.csv\n",
      "Processing file: 2019_2_14_rt_health.csv\n",
      "Processing file: 2019_2_14_rt_main_page.csv\n",
      "Processing file: 2019_2_14_rt_most_recent.csv\n",
      "Processing file: 2019_2_14_rt_russia_news.csv\n",
      "Processing file: 2019_2_14_rt_sport_news.csv\n",
      "Processing file: 2019_2_14_rt_travel.csv\n",
      "Processing file: 2019_2_14_rt_uk_news.csv\n",
      "Processing file: 2019_2_14_rt_usa_news.csv\n",
      "Processing file: 2019_2_14_rt_world_news.csv\n",
      "Processing file: 2019_2_15_rt_business_news.csv\n",
      "Processing file: 2019_2_15_rt_entertainment.csv\n",
      "Processing file: 2019_2_15_rt_health.csv\n",
      "Processing file: 2019_2_15_rt_main_page.csv\n",
      "Processing file: 2019_2_15_rt_most_recent.csv\n",
      "Processing file: 2019_2_15_rt_russia_news.csv\n",
      "Processing file: 2019_2_15_rt_sport_news.csv\n",
      "Processing file: 2019_2_15_rt_travel.csv\n",
      "Processing file: 2019_2_15_rt_uk_news.csv\n",
      "Processing file: 2019_2_15_rt_usa_news.csv\n",
      "Processing file: 2019_2_15_rt_world_news.csv\n",
      "Processing file: 2019_2_16_rt_business_news.csv\n",
      "Processing file: 2019_2_16_rt_entertainment.csv\n",
      "Processing file: 2019_2_16_rt_health.csv\n",
      "Processing file: 2019_2_16_rt_main_page.csv\n",
      "Processing file: 2019_2_16_rt_most_recent.csv\n",
      "Processing file: 2019_2_16_rt_russia_news.csv\n",
      "Processing file: 2019_2_16_rt_sport_news.csv\n",
      "Processing file: 2019_2_16_rt_travel.csv\n",
      "Processing file: 2019_2_16_rt_uk_news.csv\n",
      "Processing file: 2019_2_16_rt_usa_news.csv\n",
      "Processing file: 2019_2_16_rt_world_news.csv\n",
      "Processing file: 2019_2_17_rt_business_news.csv\n",
      "Processing file: 2019_2_17_rt_entertainment.csv\n",
      "Processing file: 2019_2_17_rt_health.csv\n",
      "Processing file: 2019_2_17_rt_main_page.csv\n",
      "Processing file: 2019_2_17_rt_most_recent.csv\n",
      "Processing file: 2019_2_17_rt_russia_news.csv\n",
      "Processing file: 2019_2_17_rt_sport_news.csv\n",
      "Processing file: 2019_2_17_rt_travel.csv\n",
      "Processing file: 2019_2_17_rt_uk_news.csv\n",
      "Processing file: 2019_2_17_rt_usa_news.csv\n",
      "Processing file: 2019_2_17_rt_world_news.csv\n",
      "Processing file: 2019_2_18_rt_business_news.csv\n",
      "Processing file: 2019_2_18_rt_entertainment.csv\n",
      "Processing file: 2019_2_18_rt_health.csv\n",
      "Processing file: 2019_2_18_rt_main_page.csv\n",
      "Processing file: 2019_2_18_rt_most_recent.csv\n",
      "Processing file: 2019_2_18_rt_russia_news.csv\n",
      "Processing file: 2019_2_18_rt_sport_news.csv\n",
      "Processing file: 2019_2_18_rt_travel.csv\n",
      "Processing file: 2019_2_18_rt_uk_news.csv\n",
      "Processing file: 2019_2_18_rt_usa_news.csv\n",
      "Processing file: 2019_2_18_rt_world_news.csv\n",
      "Processing file: 2019_2_19_rt_business_news.csv\n",
      "Processing file: 2019_2_19_rt_entertainment.csv\n",
      "Processing file: 2019_2_19_rt_health.csv\n",
      "Processing file: 2019_2_19_rt_main_page.csv\n",
      "Processing file: 2019_2_19_rt_most_recent.csv\n",
      "Processing file: 2019_2_19_rt_russia_news.csv\n",
      "Processing file: 2019_2_19_rt_sport_news.csv\n",
      "Processing file: 2019_2_19_rt_travel.csv\n",
      "Processing file: 2019_2_19_rt_uk_news.csv\n",
      "Processing file: 2019_2_19_rt_usa_news.csv\n",
      "Processing file: 2019_2_19_rt_world_news.csv\n",
      "Processing file: 2019_2_20_rt_business_news.csv\n",
      "Processing file: 2019_2_20_rt_entertainment.csv\n",
      "Processing file: 2019_2_20_rt_health.csv\n",
      "Processing file: 2019_2_20_rt_main_page.csv\n",
      "Processing file: 2019_2_20_rt_most_recent.csv\n",
      "Processing file: 2019_2_20_rt_russia_news.csv\n",
      "Processing file: 2019_2_20_rt_sport_news.csv\n",
      "Processing file: 2019_2_20_rt_travel.csv\n",
      "Processing file: 2019_2_20_rt_uk_news.csv\n",
      "Processing file: 2019_2_20_rt_usa_news.csv\n",
      "Processing file: 2019_2_20_rt_world_news.csv\n",
      "Processing file: 2019_2_22_rt_business_news.csv\n",
      "Processing file: 2019_2_22_rt_entertainment.csv\n",
      "Processing file: 2019_2_22_rt_health.csv\n",
      "Processing file: 2019_2_22_rt_main_page.csv\n",
      "Processing file: 2019_2_22_rt_most_recent.csv\n",
      "Processing file: 2019_2_22_rt_russia_news.csv\n",
      "Processing file: 2019_2_22_rt_sport_news.csv\n",
      "Processing file: 2019_2_22_rt_travel.csv\n",
      "Processing file: 2019_2_22_rt_uk_news.csv\n",
      "Processing file: 2019_2_22_rt_usa_news.csv\n",
      "Processing file: 2019_2_22_rt_world_news.csv\n",
      "Processing file: 2019_2_24_rt_business_news.csv\n",
      "Processing file: 2019_2_24_rt_entertainment.csv\n",
      "Processing file: 2019_2_24_rt_health.csv\n",
      "Processing file: 2019_2_24_rt_main_page.csv\n",
      "Processing file: 2019_2_24_rt_most_recent.csv\n",
      "Processing file: 2019_2_24_rt_russia_news.csv\n",
      "Processing file: 2019_2_24_rt_sport_news.csv\n",
      "Processing file: 2019_2_24_rt_travel.csv\n",
      "Processing file: 2019_2_24_rt_uk_news.csv\n",
      "Processing file: 2019_2_24_rt_usa_news.csv\n",
      "Processing file: 2019_2_24_rt_world_news.csv\n",
      "Processing file: 2019_2_25_rt_business_news.csv\n",
      "Processing file: 2019_2_25_rt_entertainment.csv\n",
      "Processing file: 2019_2_25_rt_health.csv\n",
      "Processing file: 2019_2_25_rt_main_page.csv\n",
      "Processing file: 2019_2_25_rt_most_recent.csv\n",
      "Processing file: 2019_2_25_rt_russia_news.csv\n",
      "Processing file: 2019_2_25_rt_sport_news.csv\n",
      "Processing file: 2019_2_25_rt_travel.csv\n",
      "Processing file: 2019_2_25_rt_uk_news.csv\n",
      "Processing file: 2019_2_25_rt_usa_news.csv\n",
      "Processing file: 2019_2_25_rt_world_news.csv\n",
      "Processing file: 2019_2_26_rt_business_news.csv\n",
      "Processing file: 2019_2_26_rt_entertainment.csv\n",
      "Processing file: 2019_2_26_rt_health.csv\n",
      "Processing file: 2019_2_26_rt_main_page.csv\n",
      "Processing file: 2019_2_26_rt_most_recent.csv\n",
      "Processing file: 2019_2_26_rt_russia_news.csv\n",
      "Processing file: 2019_2_26_rt_sport_news.csv\n",
      "Processing file: 2019_2_26_rt_travel.csv\n",
      "Processing file: 2019_2_26_rt_uk_news.csv\n",
      "Processing file: 2019_2_26_rt_usa_news.csv\n",
      "Processing file: 2019_2_26_rt_world_news.csv\n",
      "Processing file: 2019_2_27_rt_business_news.csv\n",
      "Processing file: 2019_2_27_rt_entertainment.csv\n",
      "Processing file: 2019_2_27_rt_health.csv\n",
      "Processing file: 2019_2_27_rt_main_page.csv\n",
      "Processing file: 2019_2_27_rt_most_recent.csv\n",
      "Processing file: 2019_2_27_rt_russia_news.csv\n",
      "Processing file: 2019_2_27_rt_sport_news.csv\n",
      "Processing file: 2019_2_27_rt_travel.csv\n",
      "Processing file: 2019_2_27_rt_uk_news.csv\n",
      "Processing file: 2019_2_27_rt_usa_news.csv\n",
      "Processing file: 2019_2_27_rt_world_news.csv\n",
      "Processing file: 2019_2_28_rt_business_news.csv\n",
      "Processing file: 2019_2_28_rt_entertainment.csv\n",
      "Processing file: 2019_2_28_rt_health.csv\n",
      "Processing file: 2019_2_28_rt_main_page.csv\n",
      "Processing file: 2019_2_28_rt_most_recent.csv\n",
      "Processing file: 2019_2_28_rt_russia_news.csv\n",
      "Processing file: 2019_2_28_rt_sport_news.csv\n",
      "Processing file: 2019_2_28_rt_travel.csv\n",
      "Processing file: 2019_2_28_rt_uk_news.csv\n",
      "Processing file: 2019_2_28_rt_usa_news.csv\n",
      "Processing file: 2019_2_28_rt_world_news.csv\n",
      "Processing file: 2019_3_11_rt_business_news.csv\n",
      "Processing file: 2019_3_11_rt_entertainment.csv\n",
      "Processing file: 2019_3_11_rt_health.csv\n",
      "Processing file: 2019_3_11_rt_main_page.csv\n",
      "Processing file: 2019_3_11_rt_most_recent.csv\n",
      "Processing file: 2019_3_11_rt_russia_news.csv\n",
      "Processing file: 2019_3_11_rt_sport_news.csv\n",
      "Processing file: 2019_3_11_rt_travel.csv\n",
      "Processing file: 2019_3_11_rt_uk_news.csv\n",
      "Processing file: 2019_3_11_rt_usa_news.csv\n",
      "Processing file: 2019_3_11_rt_world_news.csv\n",
      "Processing file: 2019_3_12_rt_business_news.csv\n",
      "Processing file: 2019_3_12_rt_main_page.csv\n",
      "Processing file: 2019_3_12_rt_russia_news.csv\n",
      "Processing file: 2019_3_12_rt_sport_news.csv\n",
      "Processing file: 2019_3_12_rt_uk_news.csv\n",
      "Processing file: 2019_3_12_rt_usa_news.csv\n",
      "Processing file: 2019_3_12_rt_world_news.csv\n",
      "Processing file: 2019_3_13_rt_business_news.csv\n",
      "Processing file: 2019_3_13_rt_main_page.csv\n",
      "Processing file: 2019_3_13_rt_russia_news.csv\n"
     ]
    },
    {
     "name": "stdout",
     "output_type": "stream",
     "text": [
      "Processing file: 2019_3_13_rt_sport_news.csv\n",
      "Processing file: 2019_3_13_rt_uk_news.csv\n",
      "Processing file: 2019_3_13_rt_usa_news.csv\n",
      "Processing file: 2019_3_13_rt_world_news.csv\n",
      "Processing file: 2019_3_14_rt_business_news.csv\n",
      "Processing file: 2019_3_14_rt_main_page.csv\n",
      "Processing file: 2019_3_14_rt_russia_news.csv\n",
      "Processing file: 2019_3_14_rt_sport_news.csv\n",
      "Processing file: 2019_3_14_rt_uk_news.csv\n",
      "Processing file: 2019_3_14_rt_usa_news.csv\n",
      "Processing file: 2019_3_14_rt_world_news.csv\n",
      "Processing file: 2019_3_16_rt_business_news.csv\n",
      "Processing file: 2019_3_16_rt_main_page.csv\n",
      "Processing file: 2019_3_16_rt_russia_news.csv\n",
      "Processing file: 2019_3_16_rt_sport_news.csv\n",
      "Processing file: 2019_3_16_rt_uk_news.csv\n",
      "Processing file: 2019_3_16_rt_usa_news.csv\n",
      "Processing file: 2019_3_16_rt_world_news.csv\n",
      "Processing file: 2019_3_17_rt_business_news.csv\n",
      "Processing file: 2019_3_17_rt_main_page.csv\n",
      "Processing file: 2019_3_17_rt_russia_news.csv\n",
      "Processing file: 2019_3_17_rt_sport_news.csv\n",
      "Processing file: 2019_3_17_rt_uk_news.csv\n",
      "Processing file: 2019_3_17_rt_usa_news.csv\n",
      "Processing file: 2019_3_17_rt_world_news.csv\n",
      "Processing file: 2019_3_18_rt_business_news.csv\n",
      "Processing file: 2019_3_18_rt_main_page.csv\n",
      "Processing file: 2019_3_18_rt_russia_news.csv\n",
      "Processing file: 2019_3_18_rt_sport_news.csv\n",
      "Processing file: 2019_3_18_rt_uk_news.csv\n",
      "Processing file: 2019_3_18_rt_usa_news.csv\n",
      "Processing file: 2019_3_18_rt_world_news.csv\n",
      "Processing file: 2019_3_19_rt_business_news.csv\n",
      "Processing file: 2019_3_19_rt_main_page.csv\n",
      "Processing file: 2019_3_19_rt_russia_news.csv\n",
      "Processing file: 2019_3_19_rt_sport_news.csv\n",
      "Processing file: 2019_3_19_rt_uk_news.csv\n",
      "Processing file: 2019_3_19_rt_usa_news.csv\n",
      "Processing file: 2019_3_19_rt_world_news.csv\n",
      "Processing file: 2019_3_1_rt_business_news.csv\n",
      "Processing file: 2019_3_1_rt_entertainment.csv\n",
      "Processing file: 2019_3_1_rt_health.csv\n",
      "Processing file: 2019_3_1_rt_main_page.csv\n",
      "Processing file: 2019_3_1_rt_most_recent.csv\n",
      "Processing file: 2019_3_1_rt_russia_news.csv\n",
      "Processing file: 2019_3_1_rt_sport_news.csv\n",
      "Processing file: 2019_3_1_rt_travel.csv\n",
      "Processing file: 2019_3_1_rt_uk_news.csv\n",
      "Processing file: 2019_3_1_rt_usa_news.csv\n",
      "Processing file: 2019_3_1_rt_world_news.csv\n",
      "Processing file: 2019_3_20_rt_business_news.csv\n",
      "Processing file: 2019_3_20_rt_main_page.csv\n",
      "Processing file: 2019_3_20_rt_russia_news.csv\n",
      "Processing file: 2019_3_20_rt_sport_news.csv\n",
      "Processing file: 2019_3_20_rt_uk_news.csv\n",
      "Processing file: 2019_3_20_rt_usa_news.csv\n",
      "Processing file: 2019_3_20_rt_world_news.csv\n",
      "Processing file: 2019_3_22_rt_business_news.csv\n",
      "Processing file: 2019_3_22_rt_main_page.csv\n",
      "Processing file: 2019_3_22_rt_russia_news.csv\n",
      "Processing file: 2019_3_22_rt_sport_news.csv\n",
      "Processing file: 2019_3_22_rt_uk_news.csv\n",
      "Processing file: 2019_3_22_rt_usa_news.csv\n",
      "Processing file: 2019_3_22_rt_world_news.csv\n",
      "Processing file: 2019_3_23_rt_business_news.csv\n",
      "Processing file: 2019_3_23_rt_main_page.csv\n",
      "Processing file: 2019_3_23_rt_russia_news.csv\n",
      "Processing file: 2019_3_23_rt_sport_news.csv\n",
      "Processing file: 2019_3_23_rt_uk_news.csv\n",
      "Processing file: 2019_3_23_rt_usa_news.csv\n",
      "Processing file: 2019_3_23_rt_world_news.csv\n",
      "Processing file: 2019_3_24_rt_business_news.csv\n",
      "Processing file: 2019_3_24_rt_main_page.csv\n",
      "Processing file: 2019_3_24_rt_russia_news.csv\n",
      "Processing file: 2019_3_24_rt_sport_news.csv\n",
      "Processing file: 2019_3_24_rt_uk_news.csv\n",
      "Processing file: 2019_3_24_rt_usa_news.csv\n",
      "Processing file: 2019_3_24_rt_world_news.csv\n",
      "Processing file: 2019_3_26_rt_business_news.csv\n",
      "Processing file: 2019_3_26_rt_main_page.csv\n",
      "Processing file: 2019_3_26_rt_russia_news.csv\n",
      "Processing file: 2019_3_26_rt_sport_news.csv\n",
      "Processing file: 2019_3_26_rt_uk_news.csv\n",
      "Processing file: 2019_3_26_rt_usa_news.csv\n",
      "Processing file: 2019_3_26_rt_world_news.csv\n",
      "Processing file: 2019_3_2_rt_business_news.csv\n",
      "Processing file: 2019_3_2_rt_entertainment.csv\n",
      "Processing file: 2019_3_2_rt_health.csv\n",
      "Processing file: 2019_3_2_rt_main_page.csv\n",
      "Processing file: 2019_3_2_rt_most_recent.csv\n",
      "Processing file: 2019_3_2_rt_russia_news.csv\n",
      "Processing file: 2019_3_2_rt_sport_news.csv\n",
      "Processing file: 2019_3_2_rt_travel.csv\n",
      "Processing file: 2019_3_2_rt_uk_news.csv\n",
      "Processing file: 2019_3_2_rt_usa_news.csv\n",
      "Processing file: 2019_3_2_rt_world_news.csv\n",
      "Processing file: 2019_3_3_rt_business_news.csv\n",
      "Processing file: 2019_3_3_rt_entertainment.csv\n",
      "Processing file: 2019_3_3_rt_health.csv\n",
      "Processing file: 2019_3_3_rt_main_page.csv\n",
      "Processing file: 2019_3_3_rt_most_recent.csv\n",
      "Processing file: 2019_3_3_rt_russia_news.csv\n",
      "Processing file: 2019_3_3_rt_sport_news.csv\n",
      "Processing file: 2019_3_3_rt_travel.csv\n",
      "Processing file: 2019_3_3_rt_uk_news.csv\n",
      "Processing file: 2019_3_3_rt_usa_news.csv\n",
      "Processing file: 2019_3_3_rt_world_news.csv\n",
      "Processing file: 2019_3_4_rt_business_news.csv\n",
      "Processing file: 2019_3_4_rt_entertainment.csv\n",
      "Processing file: 2019_3_4_rt_health.csv\n",
      "Processing file: 2019_3_4_rt_main_page.csv\n",
      "Processing file: 2019_3_4_rt_most_recent.csv\n",
      "Processing file: 2019_3_4_rt_russia_news.csv\n",
      "Processing file: 2019_3_4_rt_sport_news.csv\n",
      "Processing file: 2019_3_4_rt_travel.csv\n",
      "Processing file: 2019_3_4_rt_uk_news.csv\n",
      "Processing file: 2019_3_4_rt_usa_news.csv\n",
      "Processing file: 2019_3_4_rt_world_news.csv\n",
      "Processing file: 2019_3_5_rt_business_news.csv\n",
      "Processing file: 2019_3_5_rt_entertainment.csv\n",
      "Processing file: 2019_3_5_rt_health.csv\n",
      "Processing file: 2019_3_5_rt_main_page.csv\n",
      "Processing file: 2019_3_5_rt_most_recent.csv\n",
      "Processing file: 2019_3_5_rt_russia_news.csv\n",
      "Processing file: 2019_3_5_rt_sport_news.csv\n",
      "Processing file: 2019_3_5_rt_travel.csv\n",
      "Processing file: 2019_3_5_rt_uk_news.csv\n",
      "Processing file: 2019_3_5_rt_usa_news.csv\n",
      "Processing file: 2019_3_5_rt_world_news.csv\n",
      "Processing file: 2019_3_6_rt_business_news.csv\n",
      "Processing file: 2019_3_6_rt_entertainment.csv\n",
      "Processing file: 2019_3_6_rt_health.csv\n",
      "Processing file: 2019_3_6_rt_main_page.csv\n",
      "Processing file: 2019_3_6_rt_most_recent.csv\n",
      "Processing file: 2019_3_6_rt_russia_news.csv\n",
      "Processing file: 2019_3_6_rt_sport_news.csv\n",
      "Processing file: 2019_3_6_rt_travel.csv\n",
      "Processing file: 2019_3_6_rt_uk_news.csv\n",
      "Processing file: 2019_3_6_rt_usa_news.csv\n",
      "Processing file: 2019_3_6_rt_world_news.csv\n",
      "Processing file: 2019_3_7_rt_business_news.csv\n",
      "Processing file: 2019_3_7_rt_entertainment.csv\n",
      "Processing file: 2019_3_7_rt_health.csv\n",
      "Processing file: 2019_3_7_rt_main_page.csv\n",
      "Processing file: 2019_3_7_rt_most_recent.csv\n",
      "Processing file: 2019_3_7_rt_russia_news.csv\n",
      "Processing file: 2019_3_7_rt_sport_news.csv\n",
      "Processing file: 2019_3_7_rt_travel.csv\n",
      "Processing file: 2019_3_7_rt_uk_news.csv\n",
      "Processing file: 2019_3_7_rt_usa_news.csv\n",
      "Processing file: 2019_3_7_rt_world_news.csv\n",
      "Processing file: 2019_3_8_rt_business_news.csv\n",
      "Processing file: 2019_3_8_rt_entertainment.csv\n",
      "Processing file: 2019_3_8_rt_health.csv\n",
      "Processing file: 2019_3_8_rt_main_page.csv\n",
      "Processing file: 2019_3_8_rt_most_recent.csv\n",
      "Processing file: 2019_3_8_rt_russia_news.csv\n",
      "Processing file: 2019_3_8_rt_sport_news.csv\n",
      "Processing file: 2019_3_8_rt_travel.csv\n",
      "Processing file: 2019_3_8_rt_uk_news.csv\n",
      "Processing file: 2019_3_8_rt_usa_news.csv\n",
      "Processing file: 2019_3_8_rt_world_news.csv\n",
      "Processing file: 2019_3_9_rt_business_news.csv\n",
      "Processing file: 2019_3_9_rt_entertainment.csv\n",
      "Processing file: 2019_3_9_rt_health.csv\n",
      "Processing file: 2019_3_9_rt_main_page.csv\n",
      "Processing file: 2019_3_9_rt_most_recent.csv\n",
      "Processing file: 2019_3_9_rt_russia_news.csv\n",
      "Processing file: 2019_3_9_rt_sport_news.csv\n",
      "Processing file: 2019_3_9_rt_travel.csv\n",
      "Processing file: 2019_3_9_rt_uk_news.csv\n",
      "Processing file: 2019_3_9_rt_usa_news.csv\n",
      "Processing file: 2019_3_9_rt_world_news.csv\n",
      "CPU times: user 1min 31s, sys: 15.5 s, total: 1min 46s\n",
      "Wall time: 1min 56s\n"
     ]
    }
   ],
   "source": [
    "%%time\n",
    "\n",
    "# Additional CSV's for RT:\n",
    "\n",
    "directory = directory_custom_extra\n",
    "\n",
    "pull_type = 'custom'\n",
    "\n",
    "# Year_month_day:\n",
    "pattern_date = '^\\d{4}_\\d{1,2}_\\d{1,2}'\n",
    "\n",
    "# Short source name:\n",
    "pattern_source = '[a-z]+'\n",
    "\n",
    "# Starts with lower-case word and followed by letters/numbers/underscores (long source name):\n",
    "pattern_source_detail = '[a-z]+\\w+'\n",
    "\n",
    "# Empty DataFrame to accumulate all csv's:\n",
    "df_master_extra = pd.DataFrame()\n",
    "for filename in os.listdir(directory):\n",
    "        # Skip non-csv's and only include RT:\n",
    "        if filename.endswith(\".csv\") and ('_rt_' in filename):\n",
    "            print('Processing file:', filename)\n",
    "            \n",
    "            # Parse out date:\n",
    "            pull_date = re.search(pattern_date, filename).group()\n",
    "            pull_date = pd.to_datetime(pull_date, format='%Y_%m_%d')\n",
    "            \n",
    "            # Parse out short source name, e.g. 'rt':\n",
    "            source = re.search(pattern_source, filename).group()\n",
    "            if source == 'foxnews':\n",
    "                source = 'fox'\n",
    "\n",
    "            # And long source name, e.g. 'rt_main_page':\n",
    "            source_detail = re.search(pattern_source_detail, filename).group()\n",
    "            \n",
    "            current_df = pd.read_csv(directory + filename)\n",
    "\n",
    "            # Push pull_date and source name fields into the dataframe:\n",
    "            current_df['source'] = source\n",
    "            current_df['source_detail'] = source_detail\n",
    "            current_df['pull_type'] = pull_type\n",
    "            current_df['pull_date'] = pull_date\n",
    "\n",
    "            # Accumulate frame:\n",
    "            df_master_extra = df_master_extra.append(current_df, ignore_index=True)"
   ]
  },
  {
   "cell_type": "markdown",
   "metadata": {},
   "source": [
    "In the data scraping process, I have made a typo in some of RT's RSS links, causing the RT CSV's to have some data from CNN. Let's clean that up."
   ]
  },
  {
   "cell_type": "code",
   "execution_count": 13,
   "metadata": {},
   "outputs": [],
   "source": [
    "cnn_filter = df_master['rss_feedburner_origlink'].str.contains('www.cnn.com')\n",
    "cnn_filter_extra = df_master_extra['rss_feedburner_origlink'].str.contains('www.cnn.com')"
   ]
  },
  {
   "cell_type": "code",
   "execution_count": 37,
   "metadata": {},
   "outputs": [],
   "source": [
    "df_master_clean = df_master.drop(df_master[cnn_filter].index)\n",
    "df_master_extra_clean = df_master_extra.drop(df_master_extra[cnn_filter_extra].index)"
   ]
  },
  {
   "cell_type": "code",
   "execution_count": 41,
   "metadata": {
    "scrolled": true
   },
   "outputs": [
    {
     "data": {
      "text/plain": [
       "(3200, 27)"
      ]
     },
     "execution_count": 41,
     "metadata": {},
     "output_type": "execute_result"
    }
   ],
   "source": [
    "df_master_clean.shape"
   ]
  },
  {
   "cell_type": "code",
   "execution_count": 42,
   "metadata": {
    "scrolled": true
   },
   "outputs": [
    {
     "data": {
      "text/plain": [
       "(17787, 27)"
      ]
     },
     "execution_count": 42,
     "metadata": {},
     "output_type": "execute_result"
    }
   ],
   "source": [
    "df_master_extra_clean.shape"
   ]
  },
  {
   "cell_type": "code",
   "execution_count": 43,
   "metadata": {},
   "outputs": [],
   "source": [
    "df_rt_clean = df_master_clean.append(df_master_extra_clean, ignore_index=True)"
   ]
  },
  {
   "cell_type": "code",
   "execution_count": 46,
   "metadata": {},
   "outputs": [
    {
     "data": {
      "text/plain": [
       "0"
      ]
     },
     "execution_count": 46,
     "metadata": {},
     "output_type": "execute_result"
    }
   ],
   "source": [
    "# Check that there are no more CNN links:\n",
    "df_rt_clean['rss_feedburner_origlink'].str.contains('www.cnn.com').sum()"
   ]
  },
  {
   "cell_type": "markdown",
   "metadata": {},
   "source": [
    "It is highly likely that there are duplicate entries between different RSS feeds and within same RSS feed. Let's clean that up."
   ]
  },
  {
   "cell_type": "code",
   "execution_count": 106,
   "metadata": {},
   "outputs": [],
   "source": [
    "# This deletes dupes WITHIN same RSS feed:\n",
    "df_rt_clean_nodupes = df_rt_clean.drop_duplicates(subset=['paper_section_name', 'url'])"
   ]
  },
  {
   "cell_type": "code",
   "execution_count": 107,
   "metadata": {},
   "outputs": [
    {
     "data": {
      "text/plain": [
       "(6112, 27)"
      ]
     },
     "execution_count": 107,
     "metadata": {},
     "output_type": "execute_result"
    }
   ],
   "source": [
    "df_rt_clean_nodupes.shape"
   ]
  },
  {
   "cell_type": "code",
   "execution_count": 112,
   "metadata": {},
   "outputs": [],
   "source": [
    "# This deletes dupes BETWEEN RSS feeds:\n",
    "df_rt_clean_nodupes_atall = df_rt_clean_nodupes.drop_duplicates(subset=['url'])"
   ]
  },
  {
   "cell_type": "code",
   "execution_count": 113,
   "metadata": {},
   "outputs": [
    {
     "data": {
      "text/plain": [
       "(3766, 27)"
      ]
     },
     "execution_count": 113,
     "metadata": {},
     "output_type": "execute_result"
    }
   ],
   "source": [
    "df_rt_clean_nodupes_atall.shape"
   ]
  },
  {
   "cell_type": "markdown",
   "metadata": {},
   "source": [
    "Save and test loading back:"
   ]
  },
  {
   "cell_type": "code",
   "execution_count": 114,
   "metadata": {},
   "outputs": [],
   "source": [
    "processed_dir_file_1 = 'data/processed/2019_03_26_RT_NoDupesWithin.csv'\n",
    "processed_dir_file_2 = 'data/processed/2019_03_26_RT_NoDupesAtAll.csv'"
   ]
  },
  {
   "cell_type": "code",
   "execution_count": 115,
   "metadata": {},
   "outputs": [],
   "source": [
    "df_rt_clean_nodupes.to_csv(path_or_buf=processed_dir_file_1, index=False)\n",
    "df_rt_clean_nodupes_atall.to_csv(path_or_buf=processed_dir_file_2, index=False)"
   ]
  },
  {
   "cell_type": "code",
   "execution_count": 116,
   "metadata": {},
   "outputs": [],
   "source": [
    "df_rt_clean_nodupes_csv = pd.read_csv(processed_dir_file_1)\n",
    "df_rt_clean_nodupes_atall_csv = pd.read_csv(processed_dir_file_2)"
   ]
  },
  {
   "cell_type": "code",
   "execution_count": 130,
   "metadata": {},
   "outputs": [
    {
     "name": "stdout",
     "output_type": "stream",
     "text": [
      "Scientists have solved a mystery that has bothered stargazers in the wake of a total lunar eclipse on January 21, when a tiny object struck the moon as it captivated millions with its copper-red makeover.\n",
      "\n",
      "A team of scientists from Colombia and the Dominican Republic have authored a paper offering a detailed account of the object that slammed into the Moon during a recent lunar eclipse. The moment the suspected meteor hit the lunar surface was captured only by a few, but triggered a vivid guessing game regarding the object’s origin and size. The impact itself was very brief, with only a bright flash discernible in the top left quadrant of the Earth’s satellite at the time.\n",
      "\n",
      "Drawing on images and videos by amateur astronomers from Colombia, the Dominican Republican and Morocco, the researchers sought to determine the size, orbit, energy and impact left by the meteor that caught eye of many sky-watchers.\n",
      "\n",
      "Yes, it was indeed a small meteoroid, and they estimate that could have weighed anything from 20 to 100 kg (44 to 220 pounds). It was a bit bigger than a basketball and measured somewhere between 30 and 50 cm (11 and 19 inches).\n",
      "\n",
      "Being relatively heavy for its size, the space rock left quite a trail of destruction when it smashed into the Moon at a speed of some 47,000 km/h. According to the researchers, the collision left a crater 7 to 14 meters wide that could be detected in the future by a lunar probe.\n",
      "\n",
      "Researches note that such encounters are relatively common, but this one stands out because it was observed by numerous people around the world, providing a rare insight into the phenomenon. The surface of the moon is hit by an estimated 2,800kg worth of meteor material, predominantly rock and ice, each day.\n",
      "\n",
      "Social networks and easy access to technology lent a big helping hand in the increased awareness of celestial events, argued Karls Peña, member of the Dominican Astronomical Society and coauthor of the work, stating that they “have brought humanity closer than ever to science (especially to non-experts).”\n",
      "\n",
      "The ‘Super Blood Wolf Moon’ is a rare concurrence of three cosmic phenomena. “Wolf moon” is a name given by Native American tribes to a full moon that happens in January, whereas a total lunar eclipse is called a “blood moon.” It is also called a ‘supermoon’ due to the moon reaching its closest orbital point to Earth.\n",
      "\n",
      "Think your friends would be interested? Share this story!\n"
     ]
    }
   ],
   "source": [
    "print(df_rt_clean_nodupes.text[400])"
   ]
  },
  {
   "cell_type": "code",
   "execution_count": null,
   "metadata": {},
   "outputs": [],
   "source": []
  }
 ],
 "metadata": {
  "kernelspec": {
   "display_name": "Python 3",
   "language": "python",
   "name": "python3"
  },
  "language_info": {
   "codemirror_mode": {
    "name": "ipython",
    "version": 3
   },
   "file_extension": ".py",
   "mimetype": "text/x-python",
   "name": "python",
   "nbconvert_exporter": "python",
   "pygments_lexer": "ipython3",
   "version": "3.6.8"
  }
 },
 "nbformat": 4,
 "nbformat_minor": 2
}
