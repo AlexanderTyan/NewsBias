{
 "cells": [
  {
   "cell_type": "code",
   "execution_count": 1,
   "metadata": {},
   "outputs": [],
   "source": [
    "%load_ext autoreload\n",
    "%autoreload 2\n",
    "\n",
    "import unicodecsv as csv\n",
    "import datetime\n",
    "import feedparser as fp\n",
    "import newspaper\n",
    "import helpers\n",
    "from newspaper import Source, Article\n",
    "import multiprocessing \n",
    "import pandas as pd"
   ]
  },
  {
   "cell_type": "code",
   "execution_count": 2,
   "metadata": {},
   "outputs": [
    {
     "name": "stdout",
     "output_type": "stream",
     "text": [
      "[Parse lxml ERR] Unicode strings with encoding declaration are not supported. Please use bytes input or XML fragments without declaration.\n",
      "[Source parse ERR] http://rss.cnn.com/rss/cnn_topstories.rss\n",
      "[Parse lxml ERR] Unicode strings with encoding declaration are not supported. Please use bytes input or XML fragments without declaration.\n",
      "[Source parse ERR] http://rss.cnn.com/rss/cnn_world.rss\n",
      "[Parse lxml ERR] Unicode strings with encoding declaration are not supported. Please use bytes input or XML fragments without declaration.\n",
      "[Source parse ERR] http://rss.cnn.com/rss/cnn_us.rss\n",
      "[Parse lxml ERR] Unicode strings with encoding declaration are not supported. Please use bytes input or XML fragments without declaration.\n",
      "[Source parse ERR] http://rss.cnn.com/rss/cnn_allpolitics.rss\n",
      "[Parse lxml ERR] Unicode strings with encoding declaration are not supported. Please use bytes input or XML fragments without declaration.\n",
      "[Source parse ERR] http://rss.cnn.com/rss/cnn_tech.rss\n",
      "[Parse lxml ERR] Unicode strings with encoding declaration are not supported. Please use bytes input or XML fragments without declaration.\n",
      "[Source parse ERR] http://rss.cnn.com/rss/cnn_health.rss\n",
      "[Parse lxml ERR] Unicode strings with encoding declaration are not supported. Please use bytes input or XML fragments without declaration.\n",
      "[Source parse ERR] http://rss.cnn.com/rss/cnn_showbiz.rss\n",
      "[Parse lxml ERR] Unicode strings with encoding declaration are not supported. Please use bytes input or XML fragments without declaration.\n",
      "[Source parse ERR] http://rss.cnn.com/rss/cnn_travel.rss\n",
      "[Parse lxml ERR] Unicode strings with encoding declaration are not supported. Please use bytes input or XML fragments without declaration.\n",
      "[Source parse ERR] http://rss.cnn.com/rss/cnn_latest.rss\n",
      "[Parse lxml ERR] Unicode strings with encoding declaration are not supported. Please use bytes input or XML fragments without declaration.\n",
      "[Source parse ERR] http://feeds.bbci.co.uk/news/rss.xml\n",
      "[Parse lxml ERR] Unicode strings with encoding declaration are not supported. Please use bytes input or XML fragments without declaration.\n",
      "[Source parse ERR] http://feeds.bbci.co.uk/news/world/rss.xml\n",
      "[Parse lxml ERR] Unicode strings with encoding declaration are not supported. Please use bytes input or XML fragments without declaration.\n",
      "[Source parse ERR] http://feeds.bbci.co.uk/news/world/us_and_canada/rss.xml\n",
      "[Parse lxml ERR] Unicode strings with encoding declaration are not supported. Please use bytes input or XML fragments without declaration.\n",
      "[Source parse ERR] http://feeds.bbci.co.uk/news/uk/rss.xml\n",
      "[Parse lxml ERR] Unicode strings with encoding declaration are not supported. Please use bytes input or XML fragments without declaration.\n",
      "[Source parse ERR] http://feeds.bbci.co.uk/news/business/rss.xml\n",
      "[Parse lxml ERR] Unicode strings with encoding declaration are not supported. Please use bytes input or XML fragments without declaration.\n",
      "[Source parse ERR] http://feeds.bbci.co.uk/news/technology/rss.xml\n",
      "[Parse lxml ERR] Unicode strings with encoding declaration are not supported. Please use bytes input or XML fragments without declaration.\n",
      "[Source parse ERR] http://feeds.bbci.co.uk/news/science_and_environment/rss.xml\n",
      "[Parse lxml ERR] Unicode strings with encoding declaration are not supported. Please use bytes input or XML fragments without declaration.\n",
      "[Source parse ERR] http://feeds.bbci.co.uk/news/entertainment_and_arts/rss.xml\n",
      "[Parse lxml ERR] Unicode strings with encoding declaration are not supported. Please use bytes input or XML fragments without declaration.\n",
      "[Source parse ERR] http://feeds.bbci.co.uk/news/health/rss.xml\n",
      "[Parse lxml ERR] Document is empty\n",
      "[Source parse ERR] http://www.feeds.foxnews.com/foxnews/latest\n",
      "[Parse lxml ERR] Unicode strings with encoding declaration are not supported. Please use bytes input or XML fragments without declaration.\n",
      "[Source parse ERR] http://feeds.foxnews.com/foxnews/most-popular\n",
      "[Parse lxml ERR] Unicode strings with encoding declaration are not supported. Please use bytes input or XML fragments without declaration.\n",
      "[Source parse ERR] http://feeds.foxnews.com/foxnews/entertainment\n",
      "[Parse lxml ERR] Unicode strings with encoding declaration are not supported. Please use bytes input or XML fragments without declaration.\n",
      "[Source parse ERR] http://feeds.foxnews.com/foxnews/health\n",
      "[Parse lxml ERR] Unicode strings with encoding declaration are not supported. Please use bytes input or XML fragments without declaration.\n",
      "[Source parse ERR] http://feeds.foxnews.com/foxnews/section/lifestyle\n",
      "[Parse lxml ERR] Unicode strings with encoding declaration are not supported. Please use bytes input or XML fragments without declaration.\n",
      "[Source parse ERR] http://feeds.foxnews.com/foxnews/politics\n",
      "[Parse lxml ERR] Unicode strings with encoding declaration are not supported. Please use bytes input or XML fragments without declaration.\n",
      "[Source parse ERR] http://feeds.foxnews.com/foxnews/science\n",
      "[Parse lxml ERR] Unicode strings with encoding declaration are not supported. Please use bytes input or XML fragments without declaration.\n",
      "[Source parse ERR] http://feeds.foxnews.com/foxnews/sports\n",
      "[Parse lxml ERR] Unicode strings with encoding declaration are not supported. Please use bytes input or XML fragments without declaration.\n",
      "[Source parse ERR] http://feeds.foxnews.com/foxnews/tech\n",
      "[Parse lxml ERR] Unicode strings with encoding declaration are not supported. Please use bytes input or XML fragments without declaration.\n",
      "[Source parse ERR] http://feeds.foxnews.com/foxnews/national\n",
      "[Parse lxml ERR] Unicode strings with encoding declaration are not supported. Please use bytes input or XML fragments without declaration.\n",
      "[Source parse ERR] http://feeds.foxnews.com/foxnews/world\n",
      "[Parse lxml ERR] Unicode strings with encoding declaration are not supported. Please use bytes input or XML fragments without declaration.\n",
      "[Source parse ERR] https://www.rt.com/rss/\n",
      "[Parse lxml ERR] Unicode strings with encoding declaration are not supported. Please use bytes input or XML fragments without declaration.\n",
      "[Source parse ERR] https://www.rt.com/rss/news/\n",
      "[Parse lxml ERR] Unicode strings with encoding declaration are not supported. Please use bytes input or XML fragments without declaration.\n",
      "[Source parse ERR] https://www.rt.com/rss/usa/\n",
      "[Parse lxml ERR] Unicode strings with encoding declaration are not supported. Please use bytes input or XML fragments without declaration.\n",
      "[Source parse ERR] https://www.rt.com/rss/uk/\n",
      "[Parse lxml ERR] Unicode strings with encoding declaration are not supported. Please use bytes input or XML fragments without declaration.\n",
      "[Source parse ERR] http://rss.cnn.com/rss/cnn_health.rss\n",
      "[Parse lxml ERR] Unicode strings with encoding declaration are not supported. Please use bytes input or XML fragments without declaration.\n",
      "[Source parse ERR] http://rss.cnn.com/rss/cnn_showbiz.rss\n",
      "[Parse lxml ERR] Unicode strings with encoding declaration are not supported. Please use bytes input or XML fragments without declaration.\n",
      "[Source parse ERR] http://rss.cnn.com/rss/cnn_travel.rss\n",
      "[Parse lxml ERR] Unicode strings with encoding declaration are not supported. Please use bytes input or XML fragments without declaration.\n",
      "[Source parse ERR] http://rss.cnn.com/rss/cnn_latest.rss\n",
      "CPU times: user 7.01 s, sys: 565 ms, total: 7.57 s\n",
      "Wall time: 21.1 s\n"
     ]
    }
   ],
   "source": [
    "%%time\n",
    "# Compiling papers with using rss information, producing newspaper objects:\n",
    "all_cnn_papers = helpers.compile_papers(rss_feeds_dict=helpers.CNN_LINKS_DICT)\n",
    "all_bbc_papers = helpers.compile_papers(rss_feeds_dict=helpers.BBC_LINKS_DICT)\n",
    "all_fox_papers = helpers.compile_papers(rss_feeds_dict=helpers.FOX_LINKS_DICT)\n",
    "all_rt_papers = helpers.compile_papers(rss_feeds_dict=helpers.RT_LINKS_DICT)\n",
    "# No msnbc rss, so can't used this method with msnbc"
   ]
  },
  {
   "cell_type": "code",
   "execution_count": 3,
   "metadata": {},
   "outputs": [
    {
     "name": "stdout",
     "output_type": "stream",
     "text": [
      "CPU times: user 34.4 s, sys: 6.53 s, total: 41 s\n",
      "Wall time: 2min 3s\n"
     ]
    }
   ],
   "source": [
    "%%time\n",
    "# Download articles, i.e. scrapeoff text and other data:\n",
    "helpers.art_multithread_downloads(papers=all_cnn_papers, threads_per_source=2)\n",
    "helpers.art_multithread_downloads(papers=all_bbc_papers, threads_per_source=2)\n",
    "helpers.art_multithread_downloads(papers=all_fox_papers, threads_per_source=2)\n",
    "helpers.art_multithread_downloads(papers=all_rt_papers, threads_per_source=2)"
   ]
  },
  {
   "cell_type": "code",
   "execution_count": 4,
   "metadata": {},
   "outputs": [],
   "source": [
    "master_paper_list = [all_cnn_papers, \n",
    "                     all_bbc_papers,\n",
    "                     all_fox_papers,\n",
    "                     all_rt_papers]"
   ]
  },
  {
   "cell_type": "code",
   "execution_count": null,
   "metadata": {
    "scrolled": false
   },
   "outputs": [
    {
     "name": "stdout",
     "output_type": "stream",
     "text": [
      "('Paper:', 'http://rss.cnn.com/rss/cnn_topstories.rss')\n"
     ]
    },
    {
     "name": "stderr",
     "output_type": "stream",
     "text": [
      "/Users/alexander/anaconda3/envs/NewsBiasPython2/lib/python2.7/site-packages/PIL/TiffImagePlugin.py:763: UserWarning: Possibly corrupt EXIF data.  Expecting to read 264 bytes but only got 88. Skipping tag 37510\n",
      "  \" Skipping tag %s\" % (size, len(data), tag))\n",
      "/Users/alexander/anaconda3/envs/NewsBiasPython2/lib/python2.7/site-packages/PIL/TiffImagePlugin.py:763: UserWarning: Possibly corrupt EXIF data.  Expecting to read 8 bytes but only got 0. Skipping tag 41486\n",
      "  \" Skipping tag %s\" % (size, len(data), tag))\n",
      "/Users/alexander/anaconda3/envs/NewsBiasPython2/lib/python2.7/site-packages/PIL/TiffImagePlugin.py:763: UserWarning: Possibly corrupt EXIF data.  Expecting to read 8 bytes but only got 0. Skipping tag 41487\n",
      "  \" Skipping tag %s\" % (size, len(data), tag))\n",
      "/Users/alexander/anaconda3/envs/NewsBiasPython2/lib/python2.7/site-packages/PIL/TiffImagePlugin.py:763: UserWarning: Possibly corrupt EXIF data.  Expecting to read 13 bytes but only got 0. Skipping tag 42033\n",
      "  \" Skipping tag %s\" % (size, len(data), tag))\n",
      "/Users/alexander/anaconda3/envs/NewsBiasPython2/lib/python2.7/site-packages/PIL/TiffImagePlugin.py:763: UserWarning: Possibly corrupt EXIF data.  Expecting to read 32 bytes but only got 0. Skipping tag 42034\n",
      "  \" Skipping tag %s\" % (size, len(data), tag))\n",
      "/Users/alexander/anaconda3/envs/NewsBiasPython2/lib/python2.7/site-packages/PIL/TiffImagePlugin.py:763: UserWarning: Possibly corrupt EXIF data.  Expecting to read 33 bytes but only got 0. Skipping tag 42036\n",
      "  \" Skipping tag %s\" % (size, len(data), tag))\n",
      "/Users/alexander/anaconda3/envs/NewsBiasPython2/lib/python2.7/site-packages/PIL/TiffImagePlugin.py:763: UserWarning: Possibly corrupt EXIF data.  Expecting to read 11 bytes but only got 0. Skipping tag 42037\n",
      "  \" Skipping tag %s\" % (size, len(data), tag))\n",
      "/Users/alexander/anaconda3/envs/NewsBiasPython2/lib/python2.7/site-packages/PIL/TiffImagePlugin.py:780: UserWarning: Corrupt EXIF data.  Expecting to read 2 bytes but only got 0. \n",
      "  warnings.warn(str(msg))\n",
      "/Users/alexander/anaconda3/envs/NewsBiasPython2/lib/python2.7/site-packages/PIL/TiffImagePlugin.py:763: UserWarning: Possibly corrupt EXIF data.  Expecting to read 8 bytes but only got 0. Skipping tag 33434\n",
      "  \" Skipping tag %s\" % (size, len(data), tag))\n",
      "/Users/alexander/anaconda3/envs/NewsBiasPython2/lib/python2.7/site-packages/PIL/TiffImagePlugin.py:763: UserWarning: Possibly corrupt EXIF data.  Expecting to read 8 bytes but only got 0. Skipping tag 33437\n",
      "  \" Skipping tag %s\" % (size, len(data), tag))\n",
      "/Users/alexander/anaconda3/envs/NewsBiasPython2/lib/python2.7/site-packages/PIL/TiffImagePlugin.py:763: UserWarning: Possibly corrupt EXIF data.  Expecting to read 21 bytes but only got 0. Skipping tag 36867\n",
      "  \" Skipping tag %s\" % (size, len(data), tag))\n",
      "/Users/alexander/anaconda3/envs/NewsBiasPython2/lib/python2.7/site-packages/PIL/TiffImagePlugin.py:763: UserWarning: Possibly corrupt EXIF data.  Expecting to read 21 bytes but only got 0. Skipping tag 36868\n",
      "  \" Skipping tag %s\" % (size, len(data), tag))\n",
      "/Users/alexander/anaconda3/envs/NewsBiasPython2/lib/python2.7/site-packages/PIL/TiffImagePlugin.py:763: UserWarning: Possibly corrupt EXIF data.  Expecting to read 8 bytes but only got 0. Skipping tag 37377\n",
      "  \" Skipping tag %s\" % (size, len(data), tag))\n",
      "/Users/alexander/anaconda3/envs/NewsBiasPython2/lib/python2.7/site-packages/PIL/TiffImagePlugin.py:763: UserWarning: Possibly corrupt EXIF data.  Expecting to read 8 bytes but only got 0. Skipping tag 37378\n",
      "  \" Skipping tag %s\" % (size, len(data), tag))\n",
      "/Users/alexander/anaconda3/envs/NewsBiasPython2/lib/python2.7/site-packages/PIL/TiffImagePlugin.py:763: UserWarning: Possibly corrupt EXIF data.  Expecting to read 8 bytes but only got 0. Skipping tag 37380\n",
      "  \" Skipping tag %s\" % (size, len(data), tag))\n",
      "/Users/alexander/anaconda3/envs/NewsBiasPython2/lib/python2.7/site-packages/PIL/TiffImagePlugin.py:763: UserWarning: Possibly corrupt EXIF data.  Expecting to read 8 bytes but only got 0. Skipping tag 37381\n",
      "  \" Skipping tag %s\" % (size, len(data), tag))\n",
      "/Users/alexander/anaconda3/envs/NewsBiasPython2/lib/python2.7/site-packages/PIL/TiffImagePlugin.py:763: UserWarning: Possibly corrupt EXIF data.  Expecting to read 8 bytes but only got 0. Skipping tag 37386\n",
      "  \" Skipping tag %s\" % (size, len(data), tag))\n",
      "/Users/alexander/anaconda3/envs/NewsBiasPython2/lib/python2.7/site-packages/PIL/TiffImagePlugin.py:780: UserWarning: Corrupt EXIF data.  Expecting to read 12 bytes but only got 6. \n",
      "  warnings.warn(str(msg))\n",
      "/Users/alexander/anaconda3/envs/NewsBiasPython2/lib/python2.7/site-packages/PIL/TiffImagePlugin.py:763: UserWarning: Possibly corrupt EXIF data.  Expecting to read 20 bytes but only got 0. Skipping tag 36867\n",
      "  \" Skipping tag %s\" % (size, len(data), tag))\n",
      "/Users/alexander/anaconda3/envs/NewsBiasPython2/lib/python2.7/site-packages/PIL/TiffImagePlugin.py:763: UserWarning: Possibly corrupt EXIF data.  Expecting to read 20 bytes but only got 0. Skipping tag 36868\n",
      "  \" Skipping tag %s\" % (size, len(data), tag))\n",
      "/Users/alexander/anaconda3/envs/NewsBiasPython2/lib/python2.7/site-packages/PIL/TiffImagePlugin.py:780: UserWarning: Corrupt EXIF data.  Expecting to read 12 bytes but only got 2. \n",
      "  warnings.warn(str(msg))\n",
      "/Users/alexander/anaconda3/envs/NewsBiasPython2/lib/python2.7/site-packages/PIL/TiffImagePlugin.py:780: UserWarning: Corrupt EXIF data.  Expecting to read 12 bytes but only got 10. \n",
      "  warnings.warn(str(msg))\n",
      "/Users/alexander/anaconda3/envs/NewsBiasPython2/lib/python2.7/site-packages/PIL/TiffImagePlugin.py:763: UserWarning: Possibly corrupt EXIF data.  Expecting to read 264 bytes but only got 16. Skipping tag 37510\n",
      "  \" Skipping tag %s\" % (size, len(data), tag))\n",
      "/Users/alexander/anaconda3/envs/NewsBiasPython2/lib/python2.7/site-packages/PIL/TiffImagePlugin.py:763: UserWarning: Possibly corrupt EXIF data.  Expecting to read 25 bytes but only got 0. Skipping tag 42036\n",
      "  \" Skipping tag %s\" % (size, len(data), tag))\n",
      "/Users/alexander/anaconda3/envs/NewsBiasPython2/lib/python2.7/site-packages/PIL/TiffImagePlugin.py:763: UserWarning: Possibly corrupt EXIF data.  Expecting to read 44 bytes but only got 36. Skipping tag 37510\n",
      "  \" Skipping tag %s\" % (size, len(data), tag))\n",
      "/Users/alexander/anaconda3/envs/NewsBiasPython2/lib/python2.7/site-packages/PIL/TiffImagePlugin.py:763: UserWarning: Possibly corrupt EXIF data.  Expecting to read 8 bytes but only got 0. Skipping tag 41730\n",
      "  \" Skipping tag %s\" % (size, len(data), tag))\n",
      "/Users/alexander/anaconda3/envs/NewsBiasPython2/lib/python2.7/site-packages/PIL/TiffImagePlugin.py:763: UserWarning: Possibly corrupt EXIF data.  Expecting to read 8 bytes but only got 0. Skipping tag 41988\n",
      "  \" Skipping tag %s\" % (size, len(data), tag))\n",
      "/Users/alexander/anaconda3/envs/NewsBiasPython2/lib/python2.7/site-packages/PIL/TiffImagePlugin.py:763: UserWarning: Possibly corrupt EXIF data.  Expecting to read 8 bytes but only got 0. Skipping tag 37379\n",
      "  \" Skipping tag %s\" % (size, len(data), tag))\n",
      "/Users/alexander/anaconda3/envs/NewsBiasPython2/lib/python2.7/site-packages/PIL/TiffImagePlugin.py:763: UserWarning: Possibly corrupt EXIF data.  Expecting to read 7 bytes but only got 0. Skipping tag 36880\n",
      "  \" Skipping tag %s\" % (size, len(data), tag))\n",
      "/Users/alexander/anaconda3/envs/NewsBiasPython2/lib/python2.7/site-packages/PIL/TiffImagePlugin.py:763: UserWarning: Possibly corrupt EXIF data.  Expecting to read 7 bytes but only got 0. Skipping tag 36881\n",
      "  \" Skipping tag %s\" % (size, len(data), tag))\n",
      "/Users/alexander/anaconda3/envs/NewsBiasPython2/lib/python2.7/site-packages/PIL/TiffImagePlugin.py:763: UserWarning: Possibly corrupt EXIF data.  Expecting to read 7 bytes but only got 0. Skipping tag 36882\n",
      "  \" Skipping tag %s\" % (size, len(data), tag))\n",
      "/Users/alexander/anaconda3/envs/NewsBiasPython2/lib/python2.7/site-packages/PIL/TiffImagePlugin.py:763: UserWarning: Possibly corrupt EXIF data.  Expecting to read 8 bytes but only got 0. Skipping tag 37122\n",
      "  \" Skipping tag %s\" % (size, len(data), tag))\n",
      "/Users/alexander/anaconda3/envs/NewsBiasPython2/lib/python2.7/site-packages/PIL/TiffImagePlugin.py:763: UserWarning: Possibly corrupt EXIF data.  Expecting to read 44 bytes but only got 0. Skipping tag 37510\n",
      "  \" Skipping tag %s\" % (size, len(data), tag))\n"
     ]
    },
    {
     "name": "stderr",
     "output_type": "stream",
     "text": [
      "/Users/alexander/anaconda3/envs/NewsBiasPython2/lib/python2.7/site-packages/PIL/TiffImagePlugin.py:763: UserWarning: Possibly corrupt EXIF data.  Expecting to read 264 bytes but only got 0. Skipping tag 37510\n",
      "  \" Skipping tag %s\" % (size, len(data), tag))\n"
     ]
    },
    {
     "name": "stdout",
     "output_type": "stream",
     "text": [
      "('Paper:', 'http://rss.cnn.com/rss/cnn_world.rss')\n"
     ]
    },
    {
     "name": "stderr",
     "output_type": "stream",
     "text": [
      "/Users/alexander/anaconda3/envs/NewsBiasPython2/lib/python2.7/site-packages/PIL/TiffImagePlugin.py:763: UserWarning: Possibly corrupt EXIF data.  Expecting to read 264 bytes but only got 20. Skipping tag 37510\n",
      "  \" Skipping tag %s\" % (size, len(data), tag))\n",
      "/Users/alexander/anaconda3/envs/NewsBiasPython2/lib/python2.7/site-packages/PIL/TiffImagePlugin.py:763: UserWarning: Possibly corrupt EXIF data.  Expecting to read 21 bytes but only got 0. Skipping tag 42036\n",
      "  \" Skipping tag %s\" % (size, len(data), tag))\n",
      "/Users/alexander/anaconda3/envs/NewsBiasPython2/lib/python2.7/site-packages/PIL/TiffImagePlugin.py:763: UserWarning: Possibly corrupt EXIF data.  Expecting to read 12 bytes but only got 0. Skipping tag 42032\n",
      "  \" Skipping tag %s\" % (size, len(data), tag))\n",
      "/Users/alexander/anaconda3/envs/NewsBiasPython2/lib/python2.7/site-packages/PIL/TiffImagePlugin.py:763: UserWarning: Possibly corrupt EXIF data.  Expecting to read 20 bytes but only got 0. Skipping tag 42036\n",
      "  \" Skipping tag %s\" % (size, len(data), tag))\n",
      "/Users/alexander/anaconda3/envs/NewsBiasPython2/lib/python2.7/site-packages/PIL/TiffImagePlugin.py:780: UserWarning: Corrupt EXIF data.  Expecting to read 4 bytes but only got 2. \n",
      "  warnings.warn(str(msg))\n",
      "/Users/alexander/anaconda3/envs/NewsBiasPython2/lib/python2.7/site-packages/PIL/TiffImagePlugin.py:763: UserWarning: Possibly corrupt EXIF data.  Expecting to read 28 bytes but only got 0. Skipping tag 42036\n",
      "  \" Skipping tag %s\" % (size, len(data), tag))\n",
      "/Users/alexander/anaconda3/envs/NewsBiasPython2/lib/python2.7/site-packages/PIL/TiffImagePlugin.py:763: UserWarning: Possibly corrupt EXIF data.  Expecting to read 20 bytes but only got 4. Skipping tag 36867\n",
      "  \" Skipping tag %s\" % (size, len(data), tag))\n",
      "/Users/alexander/anaconda3/envs/NewsBiasPython2/lib/python2.7/site-packages/PIL/TiffImagePlugin.py:763: UserWarning: Possibly corrupt EXIF data.  Expecting to read 35 bytes but only got 0. Skipping tag 42036\n",
      "  \" Skipping tag %s\" % (size, len(data), tag))\n"
     ]
    },
    {
     "name": "stdout",
     "output_type": "stream",
     "text": [
      "('Paper:', 'http://rss.cnn.com/rss/cnn_us.rss')\n"
     ]
    },
    {
     "name": "stderr",
     "output_type": "stream",
     "text": [
      "/Users/alexander/anaconda3/envs/NewsBiasPython2/lib/python2.7/site-packages/PIL/TiffImagePlugin.py:763: UserWarning: Possibly corrupt EXIF data.  Expecting to read 8 bytes but only got 4. Skipping tag 37386\n",
      "  \" Skipping tag %s\" % (size, len(data), tag))\n"
     ]
    },
    {
     "name": "stdout",
     "output_type": "stream",
     "text": [
      "('Paper:', 'http://rss.cnn.com/rss/money_latest.rss')\n",
      "('Paper:', 'http://rss.cnn.com/rss/cnn_allpolitics.rss')\n"
     ]
    },
    {
     "name": "stderr",
     "output_type": "stream",
     "text": [
      "/Users/alexander/anaconda3/envs/NewsBiasPython2/lib/python2.7/site-packages/PIL/TiffImagePlugin.py:763: UserWarning: Possibly corrupt EXIF data.  Expecting to read 8 bytes but only got 0. Skipping tag 37510\n",
      "  \" Skipping tag %s\" % (size, len(data), tag))\n"
     ]
    },
    {
     "name": "stdout",
     "output_type": "stream",
     "text": [
      "('Paper:', 'http://rss.cnn.com/rss/cnn_tech.rss')\n"
     ]
    },
    {
     "name": "stderr",
     "output_type": "stream",
     "text": [
      "/Users/alexander/anaconda3/envs/NewsBiasPython2/lib/python2.7/site-packages/PIL/TiffImagePlugin.py:763: UserWarning: Possibly corrupt EXIF data.  Expecting to read 8 bytes but only got 0. Skipping tag 37382\n",
      "  \" Skipping tag %s\" % (size, len(data), tag))\n",
      "/Users/alexander/anaconda3/envs/NewsBiasPython2/lib/python2.7/site-packages/PIL/TiffImagePlugin.py:763: UserWarning: Possibly corrupt EXIF data.  Expecting to read 23 bytes but only got 0. Skipping tag 42036\n",
      "  \" Skipping tag %s\" % (size, len(data), tag))\n",
      "/Users/alexander/anaconda3/envs/NewsBiasPython2/lib/python2.7/site-packages/PIL/TiffImagePlugin.py:763: UserWarning: Possibly corrupt EXIF data.  Expecting to read 8 bytes but only got 0. Skipping tag 42240\n",
      "  \" Skipping tag %s\" % (size, len(data), tag))\n"
     ]
    },
    {
     "name": "stdout",
     "output_type": "stream",
     "text": [
      "('Paper:', 'http://rss.cnn.com/rss/cnn_health.rss')\n"
     ]
    },
    {
     "name": "stderr",
     "output_type": "stream",
     "text": [
      "/Users/alexander/anaconda3/envs/NewsBiasPython2/lib/python2.7/site-packages/PIL/TiffImagePlugin.py:763: UserWarning: Possibly corrupt EXIF data.  Expecting to read 264 bytes but only got 100. Skipping tag 37510\n",
      "  \" Skipping tag %s\" % (size, len(data), tag))\n",
      "/Users/alexander/anaconda3/envs/NewsBiasPython2/lib/python2.7/site-packages/PIL/TiffImagePlugin.py:763: UserWarning: Possibly corrupt EXIF data.  Expecting to read 2893 bytes but only got 280. Skipping tag 37500\n",
      "  \" Skipping tag %s\" % (size, len(data), tag))\n",
      "/Users/alexander/anaconda3/envs/NewsBiasPython2/lib/python2.7/site-packages/PIL/TiffImagePlugin.py:763: UserWarning: Possibly corrupt EXIF data.  Expecting to read 2893 bytes but only got 1304. Skipping tag 37500\n",
      "  \" Skipping tag %s\" % (size, len(data), tag))\n",
      "/Users/alexander/anaconda3/envs/NewsBiasPython2/lib/python2.7/site-packages/PIL/TiffImagePlugin.py:763: UserWarning: Possibly corrupt EXIF data.  Expecting to read 2893 bytes but only got 2328. Skipping tag 37500\n",
      "  \" Skipping tag %s\" % (size, len(data), tag))\n"
     ]
    },
    {
     "name": "stdout",
     "output_type": "stream",
     "text": [
      "('Paper:', 'http://rss.cnn.com/rss/cnn_showbiz.rss')\n"
     ]
    },
    {
     "name": "stderr",
     "output_type": "stream",
     "text": [
      "/Users/alexander/anaconda3/envs/NewsBiasPython2/lib/python2.7/site-packages/PIL/TiffImagePlugin.py:763: UserWarning: Possibly corrupt EXIF data.  Expecting to read 27 bytes but only got 16. Skipping tag 42036\n",
      "  \" Skipping tag %s\" % (size, len(data), tag))\n",
      "/Users/alexander/anaconda3/envs/NewsBiasPython2/lib/python2.7/site-packages/PIL/TiffImagePlugin.py:763: UserWarning: Possibly corrupt EXIF data.  Expecting to read 8 bytes but only got 4. Skipping tag 37381\n",
      "  \" Skipping tag %s\" % (size, len(data), tag))\n",
      "/Users/alexander/anaconda3/envs/NewsBiasPython2/lib/python2.7/site-packages/PIL/TiffImagePlugin.py:763: UserWarning: Possibly corrupt EXIF data.  Expecting to read 8 bytes but only got 4. Skipping tag 33434\n",
      "  \" Skipping tag %s\" % (size, len(data), tag))\n"
     ]
    },
    {
     "name": "stdout",
     "output_type": "stream",
     "text": [
      "('Paper:', 'http://rss.cnn.com/rss/cnn_travel.rss')\n",
      "('Paper:', 'http://rss.cnn.com/rss/cnn_latest.rss')\n",
      "('Paper:', 'http://feeds.bbci.co.uk/news/rss.xml')\n",
      "('Paper:', 'http://feeds.bbci.co.uk/news/world/rss.xml')\n",
      "('Paper:', 'http://feeds.bbci.co.uk/news/world/us_and_canada/rss.xml')\n",
      "('Paper:', 'http://feeds.bbci.co.uk/news/uk/rss.xml')\n",
      "('Paper:', 'http://feeds.bbci.co.uk/news/business/rss.xml')\n",
      "('Paper:', 'http://feeds.bbci.co.uk/news/technology/rss.xml')\n",
      "('Paper:', 'http://feeds.bbci.co.uk/news/science_and_environment/rss.xml')\n",
      "('Paper:', 'http://feeds.bbci.co.uk/news/entertainment_and_arts/rss.xml')\n"
     ]
    }
   ],
   "source": [
    "%%time\n",
    "# Parse all articles:\n",
    "for paper_list in master_paper_list:\n",
    "    for paper in paper_list:\n",
    "        print(\"Paper:\", paper.url)\n",
    "        paper.parse_articles()"
   ]
  },
  {
   "cell_type": "code",
   "execution_count": 9,
   "metadata": {},
   "outputs": [],
   "source": [
    "def write_out_articles(newspaper_obj, filepath, writeout_type='conventional'):\n",
    "    \"\"\"\n",
    "    TODO: finish this docstring\n",
    "    :param newspaper_obj:\n",
    "    :param filepath: str, filepath, WITHOUT the filename\n",
    "    :param writeout_type: str, 'custom' or 'conventional'\n",
    "    :return:\n",
    "    \"\"\"\n",
    "    now = datetime.datetime.now()\n",
    "    current_date = '{}_{}_{}'.format(str(now.year),\n",
    "                                     str(now.month),\n",
    "                                     str(now.day))\n",
    "    if writeout_type == 'custom':\n",
    "        csv_name = filepath + current_date + '_' + newspaper_obj.description \\\n",
    "                   + '.csv'\n",
    "    else:\n",
    "        csv_name = filepath + current_date + '_' + newspaper_obj.brand + '.csv'\n",
    "    with open(csv_name, 'w') as outcsv:\n",
    "        writer = csv.writer(outcsv, encoding='utf-8')\n",
    "        if writeout_type == 'conventional':\n",
    "            header = ['source_url', 'url', 'title', 'movies', 'text',\n",
    "                      'keywords', 'meta_keywords', 'tags', 'authors',\n",
    "                      'publish_date', 'summary', 'html', 'article_html',\n",
    "                      'meta_description', 'meta_data', 'canonical_link']\n",
    "        else:\n",
    "            header = ['source_url', 'url', 'title', 'movies', 'text',\n",
    "                             'keywords', 'meta_keywords', 'tags', 'authors',\n",
    "                             'publish_date', 'summary', 'html', 'article_html',\n",
    "                             'meta_description', 'meta_data', 'canonical_link',\n",
    "                             'rss_title', 'rss_link', 'rss_id', 'rss_published',\n",
    "                             'rss_published_parsed', 'rss_feedburner_origlink',\n",
    "                             'paper_section_name']\n",
    "        writer.writerow(header)\n",
    "        for article in newspaper_obj.articles:\n",
    "            source_url = article.source_url\n",
    "            url = article.url\n",
    "            title = article.title\n",
    "            movies = article.movies\n",
    "            text = article.text\n",
    "            keywords = article.keywords\n",
    "            meta_keywords = article.meta_keywords\n",
    "            tags = article.tags\n",
    "            authors = article.authors\n",
    "            publish_date = article.published_date\n",
    "            summary = article.summary\n",
    "            html = article.html\n",
    "            article_html = article.article_html\n",
    "            meta_description = article.meta_description\n",
    "            meta_data = article.meta_data\n",
    "            canonical_link = article.canonical_link\n",
    "            if writeout_type == 'custom':\n",
    "                rss_title = article.additional_data['rss_title']\n",
    "                rss_link = article.additional_data['rss_link']\n",
    "                rss_id = article.additional_data['rss_id']\n",
    "                rss_published = article.additional_data['rss_published']\n",
    "                rss_published_parsed = \\\n",
    "                    article.additional_data['rss_published_parsed']\n",
    "                rss_feedburner_origlink = \\\n",
    "                    article.additional_data['rss_feedburner_origlink']\n",
    "                data_row = [source_url, url, title, movies, text, keywords,\n",
    "                            meta_keywords, tags, authors, publish_date,\n",
    "                            summary, html, article_html, meta_description,\n",
    "                            meta_data, canonical_link, rss_title, rss_link,\n",
    "                            rss_id, rss_published, rss_published_parsed,\n",
    "                            rss_feedburner_origlink,\n",
    "                            newspaper_obj.description]\n",
    "            else:\n",
    "                data_row = [source_url, url, title, movies, text, keywords,\n",
    "                            meta_keywords, tags, authors, publish_date,\n",
    "                            summary, html, article_html, meta_description,\n",
    "                            meta_data, canonical_link]\n",
    "            writer.writerow(data_row)"
   ]
  },
  {
   "cell_type": "code",
   "execution_count": 10,
   "metadata": {},
   "outputs": [],
   "source": [
    "filepath = 'data_extra/custom_data_pulls/'"
   ]
  },
  {
   "cell_type": "code",
   "execution_count": 11,
   "metadata": {},
   "outputs": [
    {
     "name": "stdout",
     "output_type": "stream",
     "text": [
      "CPU times: user 10.6 s, sys: 6.22 s, total: 16.9 s\n",
      "Wall time: 23.2 s\n"
     ]
    }
   ],
   "source": [
    "%%time\n",
    "for paper_list in master_paper_list:\n",
    "    for paper in paper_list:\n",
    "        write_out_articles(newspaper_obj=paper,\n",
    "                                   filepath=filepath, \n",
    "                                   writeout_type='custom')"
   ]
  },
  {
   "cell_type": "markdown",
   "metadata": {},
   "source": [
    "Check for files:"
   ]
  },
  {
   "cell_type": "code",
   "execution_count": 12,
   "metadata": {},
   "outputs": [],
   "source": [
    "df = pd.read_csv(filepath+ '2019_2_10_rt_main_page.csv')"
   ]
  },
  {
   "cell_type": "code",
   "execution_count": 13,
   "metadata": {},
   "outputs": [
    {
     "data": {
      "text/plain": [
       "0     The INF Treaty that Washington abandoned was a...\n",
       "1     A former US Vice President has urged Venezuela...\n",
       "2     A series of Daily Mail articles claiming to re...\n",
       "3     Furious Chelsea fans are calling for manager M...\n",
       "4     Footage of a bright light in the night skies o...\n",
       "5     These days most 75-year-olds are settling into...\n",
       "6     UFC lightweight champion Khabib Nurmagomedov i...\n",
       "7     An Oregon bear sanctuary has come up with the ...\n",
       "8     The president of Chile has officially declared...\n",
       "9     Venezuela’s state oil company PDVSA has not op...\n",
       "10    More than 50 wild hippos left behind by notori...\n",
       "11    Madrid endured a massive rally on Sunday, as p...\n",
       "12    The US ambassador to Germany says Berlin needs...\n",
       "13    As the US tries to impede Berlin from a joint ...\n",
       "14    Actor Rob Lowe’s tweet mocking Elizabeth Warre...\n",
       "15    French striker Kylian Mbappe has donated $35,0...\n",
       "16    Complete with a huge 'tweet-dashing' sword and...\n",
       "17    Human Rights Watch (HRW) Middle East Director ...\n",
       "18    WBA super-featherweight champion Gervonta Davi...\n",
       "19    Disturbing bodycam video shows Arizona cops ta...\n",
       "20    Liverpool and Egypt star Mohamed Salah has sen...\n",
       "21    A strong earthquake has shaken the south of Ir...\n",
       "22    Conor McGregor says he wants to complete his t...\n",
       "23    Ikea has apologized for an offensive world map...\n",
       "24    A charity that manages eight landmark London g...\n",
       "25    The number of foreigners coming to Russia for ...\n",
       "26    Several luxury sports car owners are counting ...\n",
       "27    After self-proclaimed leader of Venezuela Juan...\n",
       "28    South Korea will pay the US 1.04 trillion won ...\n",
       "29    UFC president Dana White laughed off Kelvin Ga...\n",
       "                            ...                        \n",
       "70    A $500-million project to develop an American ...\n",
       "71    Conservative provocateur Candace Owens has bee...\n",
       "72    Two youths, aged 14 and 18, have been killed b...\n",
       "73    The US military has rejected Russian accusatio...\n",
       "74    An incurable, mad-cow-like brain infection nic...\n",
       "75    The French Defense Ministry says it’s embarked...\n",
       "76    Global credit rating agency Moody's has upgrad...\n",
       "77    A limited experiment with “basic income” in Fi...\n",
       "78    President Trump has confirmed that he will hol...\n",
       "79    However ‘controversial’ such a move might be, ...\n",
       "80    US envoy for Afghanistan Zalmay Khalilzad expr...\n",
       "81    Hot on the heels of the Australian Open, the R...\n",
       "82    Democratic congressional leaders are calling f...\n",
       "83    Being detained in the Guantánamo Bay camp was ...\n",
       "84    At least one person was killed and dozens more...\n",
       "85    Newly elected representative Alexandria Ocasio...\n",
       "86    Venezuela has “no chance” of recovery under Pr...\n",
       "87    Former WBA and IBF featherweight world champio...\n",
       "88    A TV audience of 40 million people in China tu...\n",
       "89    Taking the idea of practicing what one preache...\n",
       "90    MMA legend Anderson Silva has been labeled \"Th...\n",
       "91    Visitors to the French ski resort of Courcheve...\n",
       "92    Whether the Democrats went too hard in their p...\n",
       "93    The ideas of the Yellow Vests describe Europe’...\n",
       "94    Russia is open for dialogue with the US and EU...\n",
       "95    Two Palestinian teenagers were killed by Israe...\n",
       "96    Sportswear giant Adidas has withdrawn all-whit...\n",
       "97    A United Nations investigation into the killin...\n",
       "98    Apple has announced that it will pay an undisc...\n",
       "99    Venezuelan President Nicolas Maduro has reject...\n",
       "Name: text, Length: 100, dtype: object"
      ]
     },
     "execution_count": 13,
     "metadata": {},
     "output_type": "execute_result"
    }
   ],
   "source": [
    "df.text"
   ]
  },
  {
   "cell_type": "code",
   "execution_count": null,
   "metadata": {},
   "outputs": [],
   "source": []
  }
 ],
 "metadata": {
  "kernelspec": {
   "display_name": "Python [conda env:NewsBiasPython2]",
   "language": "python",
   "name": "conda-env-NewsBiasPython2-py"
  },
  "language_info": {
   "codemirror_mode": {
    "name": "ipython",
    "version": 2
   },
   "file_extension": ".py",
   "mimetype": "text/x-python",
   "name": "python",
   "nbconvert_exporter": "python",
   "pygments_lexer": "ipython2",
   "version": "2.7.15"
  }
 },
 "nbformat": 4,
 "nbformat_minor": 2
}
