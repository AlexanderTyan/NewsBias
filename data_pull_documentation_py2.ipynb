{
 "cells": [
  {
   "cell_type": "code",
   "execution_count": 1,
   "metadata": {},
   "outputs": [],
   "source": [
    "%load_ext autoreload\n",
    "%autoreload 2\n",
    "\n",
    "import unicodecsv as csv\n",
    "import datetime\n",
    "import feedparser as fp\n",
    "import newspaper\n",
    "import helpers\n",
    "from newspaper import Source, Article\n",
    "import multiprocessing \n",
    "import pandas as pd"
   ]
  },
  {
   "cell_type": "code",
   "execution_count": 2,
   "metadata": {},
   "outputs": [
    {
     "name": "stdout",
     "output_type": "stream",
     "text": [
      "[Parse lxml ERR] Unicode strings with encoding declaration are not supported. Please use bytes input or XML fragments without declaration.\n",
      "[Source parse ERR] http://rss.cnn.com/rss/cnn_topstories.rss\n",
      "[Parse lxml ERR] Unicode strings with encoding declaration are not supported. Please use bytes input or XML fragments without declaration.\n",
      "[Source parse ERR] http://rss.cnn.com/rss/cnn_world.rss\n",
      "[Parse lxml ERR] Unicode strings with encoding declaration are not supported. Please use bytes input or XML fragments without declaration.\n",
      "[Source parse ERR] http://rss.cnn.com/rss/cnn_us.rss\n",
      "[Parse lxml ERR] Unicode strings with encoding declaration are not supported. Please use bytes input or XML fragments without declaration.\n",
      "[Source parse ERR] http://rss.cnn.com/rss/cnn_allpolitics.rss\n",
      "[Parse lxml ERR] Unicode strings with encoding declaration are not supported. Please use bytes input or XML fragments without declaration.\n",
      "[Source parse ERR] http://rss.cnn.com/rss/cnn_tech.rss\n",
      "[Parse lxml ERR] Unicode strings with encoding declaration are not supported. Please use bytes input or XML fragments without declaration.\n",
      "[Source parse ERR] http://rss.cnn.com/rss/cnn_health.rss\n",
      "[Parse lxml ERR] Unicode strings with encoding declaration are not supported. Please use bytes input or XML fragments without declaration.\n",
      "[Source parse ERR] http://rss.cnn.com/rss/cnn_showbiz.rss\n",
      "[Parse lxml ERR] Unicode strings with encoding declaration are not supported. Please use bytes input or XML fragments without declaration.\n",
      "[Source parse ERR] http://rss.cnn.com/rss/cnn_travel.rss\n",
      "[Parse lxml ERR] Unicode strings with encoding declaration are not supported. Please use bytes input or XML fragments without declaration.\n",
      "[Source parse ERR] http://rss.cnn.com/rss/cnn_latest.rss\n",
      "[Parse lxml ERR] Unicode strings with encoding declaration are not supported. Please use bytes input or XML fragments without declaration.\n",
      "[Source parse ERR] http://feeds.bbci.co.uk/news/rss.xml\n",
      "[Parse lxml ERR] Unicode strings with encoding declaration are not supported. Please use bytes input or XML fragments without declaration.\n",
      "[Source parse ERR] http://feeds.bbci.co.uk/news/world/rss.xml\n",
      "[Parse lxml ERR] Unicode strings with encoding declaration are not supported. Please use bytes input or XML fragments without declaration.\n",
      "[Source parse ERR] http://feeds.bbci.co.uk/news/world/us_and_canada/rss.xml\n",
      "[Parse lxml ERR] Unicode strings with encoding declaration are not supported. Please use bytes input or XML fragments without declaration.\n",
      "[Source parse ERR] http://feeds.bbci.co.uk/news/uk/rss.xml\n",
      "[Parse lxml ERR] Unicode strings with encoding declaration are not supported. Please use bytes input or XML fragments without declaration.\n",
      "[Source parse ERR] http://feeds.bbci.co.uk/news/business/rss.xml\n",
      "[Parse lxml ERR] Unicode strings with encoding declaration are not supported. Please use bytes input or XML fragments without declaration.\n",
      "[Source parse ERR] http://feeds.bbci.co.uk/news/technology/rss.xml\n",
      "[Parse lxml ERR] Unicode strings with encoding declaration are not supported. Please use bytes input or XML fragments without declaration.\n",
      "[Source parse ERR] http://feeds.bbci.co.uk/news/science_and_environment/rss.xml\n",
      "[Parse lxml ERR] Unicode strings with encoding declaration are not supported. Please use bytes input or XML fragments without declaration.\n",
      "[Source parse ERR] http://feeds.bbci.co.uk/news/entertainment_and_arts/rss.xml\n",
      "[Parse lxml ERR] Unicode strings with encoding declaration are not supported. Please use bytes input or XML fragments without declaration.\n",
      "[Source parse ERR] http://feeds.bbci.co.uk/news/health/rss.xml\n",
      "[Parse lxml ERR] Document is empty\n",
      "[Source parse ERR] http://www.feeds.foxnews.com/foxnews/latest\n",
      "[Parse lxml ERR] Unicode strings with encoding declaration are not supported. Please use bytes input or XML fragments without declaration.\n",
      "[Source parse ERR] http://feeds.foxnews.com/foxnews/most-popular\n",
      "[Parse lxml ERR] Unicode strings with encoding declaration are not supported. Please use bytes input or XML fragments without declaration.\n",
      "[Source parse ERR] http://feeds.foxnews.com/foxnews/entertainment\n",
      "[Parse lxml ERR] Unicode strings with encoding declaration are not supported. Please use bytes input or XML fragments without declaration.\n",
      "[Source parse ERR] http://feeds.foxnews.com/foxnews/health\n",
      "[Parse lxml ERR] Unicode strings with encoding declaration are not supported. Please use bytes input or XML fragments without declaration.\n",
      "[Source parse ERR] http://feeds.foxnews.com/foxnews/section/lifestyle\n",
      "[Parse lxml ERR] Unicode strings with encoding declaration are not supported. Please use bytes input or XML fragments without declaration.\n",
      "[Source parse ERR] http://feeds.foxnews.com/foxnews/politics\n",
      "[Parse lxml ERR] Unicode strings with encoding declaration are not supported. Please use bytes input or XML fragments without declaration.\n",
      "[Source parse ERR] http://feeds.foxnews.com/foxnews/science\n",
      "[Parse lxml ERR] Unicode strings with encoding declaration are not supported. Please use bytes input or XML fragments without declaration.\n",
      "[Source parse ERR] http://feeds.foxnews.com/foxnews/sports\n",
      "[Parse lxml ERR] Unicode strings with encoding declaration are not supported. Please use bytes input or XML fragments without declaration.\n",
      "[Source parse ERR] http://feeds.foxnews.com/foxnews/tech\n",
      "[Parse lxml ERR] Unicode strings with encoding declaration are not supported. Please use bytes input or XML fragments without declaration.\n",
      "[Source parse ERR] http://feeds.foxnews.com/foxnews/national\n",
      "[Parse lxml ERR] Unicode strings with encoding declaration are not supported. Please use bytes input or XML fragments without declaration.\n",
      "[Source parse ERR] http://feeds.foxnews.com/foxnews/world\n",
      "[Parse lxml ERR] Unicode strings with encoding declaration are not supported. Please use bytes input or XML fragments without declaration.\n",
      "[Source parse ERR] https://www.rt.com/rss/\n",
      "[Parse lxml ERR] Unicode strings with encoding declaration are not supported. Please use bytes input or XML fragments without declaration.\n",
      "[Source parse ERR] https://www.rt.com/rss/news/\n",
      "[Parse lxml ERR] Unicode strings with encoding declaration are not supported. Please use bytes input or XML fragments without declaration.\n",
      "[Source parse ERR] https://www.rt.com/rss/usa/\n",
      "[Parse lxml ERR] Unicode strings with encoding declaration are not supported. Please use bytes input or XML fragments without declaration.\n",
      "[Source parse ERR] https://www.rt.com/rss/uk/\n",
      "[Parse lxml ERR] Unicode strings with encoding declaration are not supported. Please use bytes input or XML fragments without declaration.\n",
      "[Source parse ERR] http://rss.cnn.com/rss/cnn_health.rss\n",
      "[Parse lxml ERR] Unicode strings with encoding declaration are not supported. Please use bytes input or XML fragments without declaration.\n",
      "[Source parse ERR] http://rss.cnn.com/rss/cnn_showbiz.rss\n",
      "[Parse lxml ERR] Unicode strings with encoding declaration are not supported. Please use bytes input or XML fragments without declaration.\n",
      "[Source parse ERR] http://rss.cnn.com/rss/cnn_travel.rss\n",
      "[Parse lxml ERR] Unicode strings with encoding declaration are not supported. Please use bytes input or XML fragments without declaration.\n",
      "[Source parse ERR] http://rss.cnn.com/rss/cnn_latest.rss\n",
      "CPU times: user 6.92 s, sys: 641 ms, total: 7.56 s\n",
      "Wall time: 12.7 s\n"
     ]
    }
   ],
   "source": [
    "%%time\n",
    "# Compiling papers with using rss information, producing newspaper objects:\n",
    "all_cnn_papers = helpers.compile_papers(rss_feeds_dict=helpers.CNN_LINKS_DICT)\n",
    "all_bbc_papers = helpers.compile_papers(rss_feeds_dict=helpers.BBC_LINKS_DICT)\n",
    "all_fox_papers = helpers.compile_papers(rss_feeds_dict=helpers.FOX_LINKS_DICT)\n",
    "all_rt_papers = helpers.compile_papers(rss_feeds_dict=helpers.RT_LINKS_DICT)\n",
    "# No msnbc rss, so can't used this method with msnbc"
   ]
  },
  {
   "cell_type": "code",
   "execution_count": 3,
   "metadata": {},
   "outputs": [
    {
     "name": "stdout",
     "output_type": "stream",
     "text": [
      "CPU times: user 35.9 s, sys: 6.53 s, total: 42.4 s\n",
      "Wall time: 2min 25s\n"
     ]
    }
   ],
   "source": [
    "%%time\n",
    "# Download articles, i.e. scrapeoff text and other data:\n",
    "helpers.art_multithread_downloads(papers=all_cnn_papers, threads_per_source=2)\n",
    "helpers.art_multithread_downloads(papers=all_bbc_papers, threads_per_source=2)\n",
    "helpers.art_multithread_downloads(papers=all_fox_papers, threads_per_source=2)\n",
    "helpers.art_multithread_downloads(papers=all_rt_papers, threads_per_source=2)"
   ]
  },
  {
   "cell_type": "code",
   "execution_count": 4,
   "metadata": {},
   "outputs": [],
   "source": [
    "master_paper_list = [all_cnn_papers, \n",
    "                     all_bbc_papers,\n",
    "                     all_fox_papers,\n",
    "                     all_rt_papers]"
   ]
  },
  {
   "cell_type": "code",
   "execution_count": 5,
   "metadata": {
    "scrolled": false
   },
   "outputs": [
    {
     "name": "stdout",
     "output_type": "stream",
     "text": [
      "('Paper:', 'http://rss.cnn.com/rss/cnn_topstories.rss')\n"
     ]
    },
    {
     "name": "stderr",
     "output_type": "stream",
     "text": [
      "/Users/alexander/anaconda3/envs/NewsBiasPython2/lib/python2.7/site-packages/PIL/TiffImagePlugin.py:763: UserWarning: Possibly corrupt EXIF data.  Expecting to read 8 bytes but only got 0. Skipping tag 33434\n",
      "  \" Skipping tag %s\" % (size, len(data), tag))\n",
      "/Users/alexander/anaconda3/envs/NewsBiasPython2/lib/python2.7/site-packages/PIL/TiffImagePlugin.py:763: UserWarning: Possibly corrupt EXIF data.  Expecting to read 8 bytes but only got 0. Skipping tag 33437\n",
      "  \" Skipping tag %s\" % (size, len(data), tag))\n",
      "/Users/alexander/anaconda3/envs/NewsBiasPython2/lib/python2.7/site-packages/PIL/TiffImagePlugin.py:763: UserWarning: Possibly corrupt EXIF data.  Expecting to read 20 bytes but only got 0. Skipping tag 36867\n",
      "  \" Skipping tag %s\" % (size, len(data), tag))\n",
      "/Users/alexander/anaconda3/envs/NewsBiasPython2/lib/python2.7/site-packages/PIL/TiffImagePlugin.py:763: UserWarning: Possibly corrupt EXIF data.  Expecting to read 20 bytes but only got 0. Skipping tag 36868\n",
      "  \" Skipping tag %s\" % (size, len(data), tag))\n",
      "/Users/alexander/anaconda3/envs/NewsBiasPython2/lib/python2.7/site-packages/PIL/TiffImagePlugin.py:763: UserWarning: Possibly corrupt EXIF data.  Expecting to read 8 bytes but only got 0. Skipping tag 37377\n",
      "  \" Skipping tag %s\" % (size, len(data), tag))\n",
      "/Users/alexander/anaconda3/envs/NewsBiasPython2/lib/python2.7/site-packages/PIL/TiffImagePlugin.py:763: UserWarning: Possibly corrupt EXIF data.  Expecting to read 8 bytes but only got 0. Skipping tag 37378\n",
      "  \" Skipping tag %s\" % (size, len(data), tag))\n",
      "/Users/alexander/anaconda3/envs/NewsBiasPython2/lib/python2.7/site-packages/PIL/TiffImagePlugin.py:763: UserWarning: Possibly corrupt EXIF data.  Expecting to read 8 bytes but only got 0. Skipping tag 37380\n",
      "  \" Skipping tag %s\" % (size, len(data), tag))\n",
      "/Users/alexander/anaconda3/envs/NewsBiasPython2/lib/python2.7/site-packages/PIL/TiffImagePlugin.py:763: UserWarning: Possibly corrupt EXIF data.  Expecting to read 8 bytes but only got 0. Skipping tag 37381\n",
      "  \" Skipping tag %s\" % (size, len(data), tag))\n",
      "/Users/alexander/anaconda3/envs/NewsBiasPython2/lib/python2.7/site-packages/PIL/TiffImagePlugin.py:763: UserWarning: Possibly corrupt EXIF data.  Expecting to read 8 bytes but only got 0. Skipping tag 37382\n",
      "  \" Skipping tag %s\" % (size, len(data), tag))\n",
      "/Users/alexander/anaconda3/envs/NewsBiasPython2/lib/python2.7/site-packages/PIL/TiffImagePlugin.py:763: UserWarning: Possibly corrupt EXIF data.  Expecting to read 8 bytes but only got 0. Skipping tag 37386\n",
      "  \" Skipping tag %s\" % (size, len(data), tag))\n",
      "/Users/alexander/anaconda3/envs/NewsBiasPython2/lib/python2.7/site-packages/PIL/TiffImagePlugin.py:763: UserWarning: Possibly corrupt EXIF data.  Expecting to read 8 bytes but only got 0. Skipping tag 41486\n",
      "  \" Skipping tag %s\" % (size, len(data), tag))\n",
      "/Users/alexander/anaconda3/envs/NewsBiasPython2/lib/python2.7/site-packages/PIL/TiffImagePlugin.py:763: UserWarning: Possibly corrupt EXIF data.  Expecting to read 8 bytes but only got 0. Skipping tag 41487\n",
      "  \" Skipping tag %s\" % (size, len(data), tag))\n",
      "/Users/alexander/anaconda3/envs/NewsBiasPython2/lib/python2.7/site-packages/PIL/TiffImagePlugin.py:763: UserWarning: Possibly corrupt EXIF data.  Expecting to read 13 bytes but only got 0. Skipping tag 42033\n",
      "  \" Skipping tag %s\" % (size, len(data), tag))\n",
      "/Users/alexander/anaconda3/envs/NewsBiasPython2/lib/python2.7/site-packages/PIL/TiffImagePlugin.py:780: UserWarning: Corrupt EXIF data.  Expecting to read 12 bytes but only got 2. \n",
      "  warnings.warn(str(msg))\n",
      "/Users/alexander/anaconda3/envs/NewsBiasPython2/lib/python2.7/site-packages/PIL/TiffImagePlugin.py:780: UserWarning: Corrupt EXIF data.  Expecting to read 2 bytes but only got 0. \n",
      "  warnings.warn(str(msg))\n",
      "/Users/alexander/anaconda3/envs/NewsBiasPython2/lib/python2.7/site-packages/PIL/TiffImagePlugin.py:763: UserWarning: Possibly corrupt EXIF data.  Expecting to read 18 bytes but only got 0. Skipping tag 33432\n",
      "  \" Skipping tag %s\" % (size, len(data), tag))\n",
      "/Users/alexander/anaconda3/envs/NewsBiasPython2/lib/python2.7/site-packages/PIL/TiffImagePlugin.py:763: UserWarning: Possibly corrupt EXIF data.  Expecting to read 58 bytes but only got 4. Skipping tag 33432\n",
      "  \" Skipping tag %s\" % (size, len(data), tag))\n",
      "/Users/alexander/anaconda3/envs/NewsBiasPython2/lib/python2.7/site-packages/PIL/TiffImagePlugin.py:763: UserWarning: Possibly corrupt EXIF data.  Expecting to read 32 bytes but only got 20. Skipping tag 42034\n",
      "  \" Skipping tag %s\" % (size, len(data), tag))\n",
      "/Users/alexander/anaconda3/envs/NewsBiasPython2/lib/python2.7/site-packages/PIL/TiffImagePlugin.py:763: UserWarning: Possibly corrupt EXIF data.  Expecting to read 24 bytes but only got 0. Skipping tag 42036\n",
      "  \" Skipping tag %s\" % (size, len(data), tag))\n",
      "/Users/alexander/anaconda3/envs/NewsBiasPython2/lib/python2.7/site-packages/PIL/TiffImagePlugin.py:763: UserWarning: Possibly corrupt EXIF data.  Expecting to read 11 bytes but only got 0. Skipping tag 42037\n",
      "  \" Skipping tag %s\" % (size, len(data), tag))\n",
      "/Users/alexander/anaconda3/envs/NewsBiasPython2/lib/python2.7/site-packages/PIL/TiffImagePlugin.py:763: UserWarning: Possibly corrupt EXIF data.  Expecting to read 8 bytes but only got 0. Skipping tag 42240\n",
      "  \" Skipping tag %s\" % (size, len(data), tag))\n",
      "/Users/alexander/anaconda3/envs/NewsBiasPython2/lib/python2.7/site-packages/PIL/TiffImagePlugin.py:780: UserWarning: Corrupt EXIF data.  Expecting to read 12 bytes but only got 6. \n",
      "  warnings.warn(str(msg))\n",
      "/Users/alexander/anaconda3/envs/NewsBiasPython2/lib/python2.7/site-packages/PIL/TiffImagePlugin.py:780: UserWarning: Corrupt EXIF data.  Expecting to read 12 bytes but only got 10. \n",
      "  warnings.warn(str(msg))\n",
      "/Users/alexander/anaconda3/envs/NewsBiasPython2/lib/python2.7/site-packages/PIL/TiffImagePlugin.py:763: UserWarning: Possibly corrupt EXIF data.  Expecting to read 2060 bytes but only got 908. Skipping tag 59932\n",
      "  \" Skipping tag %s\" % (size, len(data), tag))\n",
      "/Users/alexander/anaconda3/envs/NewsBiasPython2/lib/python2.7/site-packages/PIL/TiffImagePlugin.py:763: UserWarning: Possibly corrupt EXIF data.  Expecting to read 2060 bytes but only got 1932. Skipping tag 59932\n",
      "  \" Skipping tag %s\" % (size, len(data), tag))\n",
      "/Users/alexander/anaconda3/envs/NewsBiasPython2/lib/python2.7/site-packages/PIL/TiffImagePlugin.py:763: UserWarning: Possibly corrupt EXIF data.  Expecting to read 2060 bytes but only got 876. Skipping tag 59932\n",
      "  \" Skipping tag %s\" % (size, len(data), tag))\n",
      "/Users/alexander/anaconda3/envs/NewsBiasPython2/lib/python2.7/site-packages/PIL/TiffImagePlugin.py:763: UserWarning: Possibly corrupt EXIF data.  Expecting to read 2060 bytes but only got 1900. Skipping tag 59932\n",
      "  \" Skipping tag %s\" % (size, len(data), tag))\n",
      "/Users/alexander/anaconda3/envs/NewsBiasPython2/lib/python2.7/site-packages/PIL/TiffImagePlugin.py:763: UserWarning: Possibly corrupt EXIF data.  Expecting to read 20 bytes but only got 4. Skipping tag 36868\n",
      "  \" Skipping tag %s\" % (size, len(data), tag))\n",
      "/Users/alexander/anaconda3/envs/NewsBiasPython2/lib/python2.7/site-packages/PIL/TiffImagePlugin.py:763: UserWarning: Possibly corrupt EXIF data.  Expecting to read 8 bytes but only got 0. Skipping tag 37122\n",
      "  \" Skipping tag %s\" % (size, len(data), tag))\n",
      "/Users/alexander/anaconda3/envs/NewsBiasPython2/lib/python2.7/site-packages/PIL/TiffImagePlugin.py:763: UserWarning: Possibly corrupt EXIF data.  Expecting to read 17112 bytes but only got 0. Skipping tag 37500\n",
      "  \" Skipping tag %s\" % (size, len(data), tag))\n",
      "/Users/alexander/anaconda3/envs/NewsBiasPython2/lib/python2.7/site-packages/PIL/TiffImagePlugin.py:763: UserWarning: Possibly corrupt EXIF data.  Expecting to read 44 bytes but only got 0. Skipping tag 37510\n",
      "  \" Skipping tag %s\" % (size, len(data), tag))\n",
      "/Users/alexander/anaconda3/envs/NewsBiasPython2/lib/python2.7/site-packages/PIL/TiffImagePlugin.py:763: UserWarning: Possibly corrupt EXIF data.  Expecting to read 8 bytes but only got 0. Skipping tag 41730\n",
      "  \" Skipping tag %s\" % (size, len(data), tag))\n",
      "/Users/alexander/anaconda3/envs/NewsBiasPython2/lib/python2.7/site-packages/PIL/TiffImagePlugin.py:763: UserWarning: Possibly corrupt EXIF data.  Expecting to read 8 bytes but only got 0. Skipping tag 41988\n",
      "  \" Skipping tag %s\" % (size, len(data), tag))\n",
      "/Users/alexander/anaconda3/envs/NewsBiasPython2/lib/python2.7/site-packages/PIL/TiffImagePlugin.py:763: UserWarning: Possibly corrupt EXIF data.  Expecting to read 17112 bytes but only got 976. Skipping tag 37500\n",
      "  \" Skipping tag %s\" % (size, len(data), tag))\n",
      "/Users/alexander/anaconda3/envs/NewsBiasPython2/lib/python2.7/site-packages/PIL/TiffImagePlugin.py:763: UserWarning: Possibly corrupt EXIF data.  Expecting to read 17112 bytes but only got 2000. Skipping tag 37500\n",
      "  \" Skipping tag %s\" % (size, len(data), tag))\n",
      "/Users/alexander/anaconda3/envs/NewsBiasPython2/lib/python2.7/site-packages/PIL/TiffImagePlugin.py:763: UserWarning: Possibly corrupt EXIF data.  Expecting to read 17112 bytes but only got 3024. Skipping tag 37500\n",
      "  \" Skipping tag %s\" % (size, len(data), tag))\n",
      "/Users/alexander/anaconda3/envs/NewsBiasPython2/lib/python2.7/site-packages/PIL/TiffImagePlugin.py:763: UserWarning: Possibly corrupt EXIF data.  Expecting to read 17112 bytes but only got 4048. Skipping tag 37500\n",
      "  \" Skipping tag %s\" % (size, len(data), tag))\n",
      "/Users/alexander/anaconda3/envs/NewsBiasPython2/lib/python2.7/site-packages/PIL/TiffImagePlugin.py:763: UserWarning: Possibly corrupt EXIF data.  Expecting to read 17112 bytes but only got 5072. Skipping tag 37500\n",
      "  \" Skipping tag %s\" % (size, len(data), tag))\n",
      "/Users/alexander/anaconda3/envs/NewsBiasPython2/lib/python2.7/site-packages/PIL/TiffImagePlugin.py:763: UserWarning: Possibly corrupt EXIF data.  Expecting to read 17112 bytes but only got 6096. Skipping tag 37500\n",
      "  \" Skipping tag %s\" % (size, len(data), tag))\n",
      "/Users/alexander/anaconda3/envs/NewsBiasPython2/lib/python2.7/site-packages/PIL/TiffImagePlugin.py:763: UserWarning: Possibly corrupt EXIF data.  Expecting to read 17112 bytes but only got 7120. Skipping tag 37500\n",
      "  \" Skipping tag %s\" % (size, len(data), tag))\n",
      "/Users/alexander/anaconda3/envs/NewsBiasPython2/lib/python2.7/site-packages/PIL/TiffImagePlugin.py:763: UserWarning: Possibly corrupt EXIF data.  Expecting to read 17112 bytes but only got 8144. Skipping tag 37500\n",
      "  \" Skipping tag %s\" % (size, len(data), tag))\n",
      "/Users/alexander/anaconda3/envs/NewsBiasPython2/lib/python2.7/site-packages/PIL/TiffImagePlugin.py:763: UserWarning: Possibly corrupt EXIF data.  Expecting to read 17112 bytes but only got 9168. Skipping tag 37500\n",
      "  \" Skipping tag %s\" % (size, len(data), tag))\n",
      "/Users/alexander/anaconda3/envs/NewsBiasPython2/lib/python2.7/site-packages/PIL/TiffImagePlugin.py:763: UserWarning: Possibly corrupt EXIF data.  Expecting to read 17112 bytes but only got 10192. Skipping tag 37500\n",
      "  \" Skipping tag %s\" % (size, len(data), tag))\n",
      "/Users/alexander/anaconda3/envs/NewsBiasPython2/lib/python2.7/site-packages/PIL/TiffImagePlugin.py:763: UserWarning: Possibly corrupt EXIF data.  Expecting to read 17112 bytes but only got 11216. Skipping tag 37500\n",
      "  \" Skipping tag %s\" % (size, len(data), tag))\n",
      "/Users/alexander/anaconda3/envs/NewsBiasPython2/lib/python2.7/site-packages/PIL/TiffImagePlugin.py:763: UserWarning: Possibly corrupt EXIF data.  Expecting to read 17112 bytes but only got 12240. Skipping tag 37500\n",
      "  \" Skipping tag %s\" % (size, len(data), tag))\n",
      "/Users/alexander/anaconda3/envs/NewsBiasPython2/lib/python2.7/site-packages/PIL/TiffImagePlugin.py:763: UserWarning: Possibly corrupt EXIF data.  Expecting to read 17112 bytes but only got 13264. Skipping tag 37500\n",
      "  \" Skipping tag %s\" % (size, len(data), tag))\n",
      "/Users/alexander/anaconda3/envs/NewsBiasPython2/lib/python2.7/site-packages/PIL/TiffImagePlugin.py:763: UserWarning: Possibly corrupt EXIF data.  Expecting to read 17112 bytes but only got 14288. Skipping tag 37500\n",
      "  \" Skipping tag %s\" % (size, len(data), tag))\n",
      "/Users/alexander/anaconda3/envs/NewsBiasPython2/lib/python2.7/site-packages/PIL/TiffImagePlugin.py:763: UserWarning: Possibly corrupt EXIF data.  Expecting to read 17112 bytes but only got 15312. Skipping tag 37500\n",
      "  \" Skipping tag %s\" % (size, len(data), tag))\n",
      "/Users/alexander/anaconda3/envs/NewsBiasPython2/lib/python2.7/site-packages/PIL/TiffImagePlugin.py:763: UserWarning: Possibly corrupt EXIF data.  Expecting to read 17112 bytes but only got 16336. Skipping tag 37500\n",
      "  \" Skipping tag %s\" % (size, len(data), tag))\n"
     ]
    },
    {
     "name": "stderr",
     "output_type": "stream",
     "text": [
      "/Users/alexander/anaconda3/envs/NewsBiasPython2/lib/python2.7/site-packages/PIL/TiffImagePlugin.py:763: UserWarning: Possibly corrupt EXIF data.  Expecting to read 8 bytes but only got 4. Skipping tag 37122\n",
      "  \" Skipping tag %s\" % (size, len(data), tag))\n",
      "/Users/alexander/anaconda3/envs/NewsBiasPython2/lib/python2.7/site-packages/PIL/TiffImagePlugin.py:763: UserWarning: Possibly corrupt EXIF data.  Expecting to read 7 bytes but only got 0. Skipping tag 36880\n",
      "  \" Skipping tag %s\" % (size, len(data), tag))\n",
      "/Users/alexander/anaconda3/envs/NewsBiasPython2/lib/python2.7/site-packages/PIL/TiffImagePlugin.py:763: UserWarning: Possibly corrupt EXIF data.  Expecting to read 7 bytes but only got 0. Skipping tag 36881\n",
      "  \" Skipping tag %s\" % (size, len(data), tag))\n",
      "/Users/alexander/anaconda3/envs/NewsBiasPython2/lib/python2.7/site-packages/PIL/TiffImagePlugin.py:763: UserWarning: Possibly corrupt EXIF data.  Expecting to read 7 bytes but only got 0. Skipping tag 36882\n",
      "  \" Skipping tag %s\" % (size, len(data), tag))\n",
      "/Users/alexander/anaconda3/envs/NewsBiasPython2/lib/python2.7/site-packages/PIL/TiffImagePlugin.py:763: UserWarning: Possibly corrupt EXIF data.  Expecting to read 8 bytes but only got 0. Skipping tag 37379\n",
      "  \" Skipping tag %s\" % (size, len(data), tag))\n",
      "/Users/alexander/anaconda3/envs/NewsBiasPython2/lib/python2.7/site-packages/PIL/TiffImagePlugin.py:763: UserWarning: Possibly corrupt EXIF data.  Expecting to read 264 bytes but only got 220. Skipping tag 37510\n",
      "  \" Skipping tag %s\" % (size, len(data), tag))\n",
      "/Users/alexander/anaconda3/envs/NewsBiasPython2/lib/python2.7/site-packages/PIL/TiffImagePlugin.py:763: UserWarning: Possibly corrupt EXIF data.  Expecting to read 21 bytes but only got 0. Skipping tag 36867\n",
      "  \" Skipping tag %s\" % (size, len(data), tag))\n",
      "/Users/alexander/anaconda3/envs/NewsBiasPython2/lib/python2.7/site-packages/PIL/TiffImagePlugin.py:763: UserWarning: Possibly corrupt EXIF data.  Expecting to read 21 bytes but only got 0. Skipping tag 36868\n",
      "  \" Skipping tag %s\" % (size, len(data), tag))\n",
      "/Users/alexander/anaconda3/envs/NewsBiasPython2/lib/python2.7/site-packages/PIL/TiffImagePlugin.py:763: UserWarning: Possibly corrupt EXIF data.  Expecting to read 8 bytes but only got 0. Skipping tag 37510\n",
      "  \" Skipping tag %s\" % (size, len(data), tag))\n",
      "/Users/alexander/anaconda3/envs/NewsBiasPython2/lib/python2.7/site-packages/PIL/TiffImagePlugin.py:763: UserWarning: Possibly corrupt EXIF data.  Expecting to read 8 bytes but only got 0. Skipping tag 42033\n",
      "  \" Skipping tag %s\" % (size, len(data), tag))\n",
      "/Users/alexander/anaconda3/envs/NewsBiasPython2/lib/python2.7/site-packages/PIL/TiffImagePlugin.py:763: UserWarning: Possibly corrupt EXIF data.  Expecting to read 32 bytes but only got 0. Skipping tag 42034\n",
      "  \" Skipping tag %s\" % (size, len(data), tag))\n",
      "/Users/alexander/anaconda3/envs/NewsBiasPython2/lib/python2.7/site-packages/PIL/TiffImagePlugin.py:763: UserWarning: Possibly corrupt EXIF data.  Expecting to read 19 bytes but only got 0. Skipping tag 42036\n",
      "  \" Skipping tag %s\" % (size, len(data), tag))\n"
     ]
    },
    {
     "name": "stdout",
     "output_type": "stream",
     "text": [
      "('Paper:', 'http://rss.cnn.com/rss/cnn_world.rss')\n"
     ]
    },
    {
     "name": "stderr",
     "output_type": "stream",
     "text": [
      "/Users/alexander/anaconda3/envs/NewsBiasPython2/lib/python2.7/site-packages/PIL/TiffImagePlugin.py:763: UserWarning: Possibly corrupt EXIF data.  Expecting to read 28 bytes but only got 0. Skipping tag 42036\n",
      "  \" Skipping tag %s\" % (size, len(data), tag))\n",
      "/Users/alexander/anaconda3/envs/NewsBiasPython2/lib/python2.7/site-packages/PIL/TiffImagePlugin.py:763: UserWarning: Possibly corrupt EXIF data.  Expecting to read 12 bytes but only got 0. Skipping tag 42032\n",
      "  \" Skipping tag %s\" % (size, len(data), tag))\n",
      "/Users/alexander/anaconda3/envs/NewsBiasPython2/lib/python2.7/site-packages/PIL/TiffImagePlugin.py:763: UserWarning: Possibly corrupt EXIF data.  Expecting to read 20 bytes but only got 0. Skipping tag 42036\n",
      "  \" Skipping tag %s\" % (size, len(data), tag))\n",
      "/Users/alexander/anaconda3/envs/NewsBiasPython2/lib/python2.7/site-packages/PIL/TiffImagePlugin.py:780: UserWarning: Corrupt EXIF data.  Expecting to read 4 bytes but only got 2. \n",
      "  warnings.warn(str(msg))\n",
      "/Users/alexander/anaconda3/envs/NewsBiasPython2/lib/python2.7/site-packages/PIL/TiffImagePlugin.py:763: UserWarning: Possibly corrupt EXIF data.  Expecting to read 44 bytes but only got 28. Skipping tag 37510\n",
      "  \" Skipping tag %s\" % (size, len(data), tag))\n",
      "/Users/alexander/anaconda3/envs/NewsBiasPython2/lib/python2.7/site-packages/PIL/TiffImagePlugin.py:763: UserWarning: Possibly corrupt EXIF data.  Expecting to read 264 bytes but only got 0. Skipping tag 37510\n",
      "  \" Skipping tag %s\" % (size, len(data), tag))\n",
      "/Users/alexander/anaconda3/envs/NewsBiasPython2/lib/python2.7/site-packages/PIL/TiffImagePlugin.py:763: UserWarning: Possibly corrupt EXIF data.  Expecting to read 20 bytes but only got 4. Skipping tag 36867\n",
      "  \" Skipping tag %s\" % (size, len(data), tag))\n",
      "/Users/alexander/anaconda3/envs/NewsBiasPython2/lib/python2.7/site-packages/PIL/TiffImagePlugin.py:763: UserWarning: Possibly corrupt EXIF data.  Expecting to read 21 bytes but only got 0. Skipping tag 42036\n",
      "  \" Skipping tag %s\" % (size, len(data), tag))\n",
      "/Users/alexander/anaconda3/envs/NewsBiasPython2/lib/python2.7/site-packages/PIL/TiffImagePlugin.py:763: UserWarning: Possibly corrupt EXIF data.  Expecting to read 34 bytes but only got 4. Skipping tag 42036\n",
      "  \" Skipping tag %s\" % (size, len(data), tag))\n"
     ]
    },
    {
     "name": "stdout",
     "output_type": "stream",
     "text": [
      "('Paper:', 'http://rss.cnn.com/rss/cnn_us.rss')\n"
     ]
    },
    {
     "name": "stderr",
     "output_type": "stream",
     "text": [
      "/Users/alexander/anaconda3/envs/NewsBiasPython2/lib/python2.7/site-packages/PIL/TiffImagePlugin.py:763: UserWarning: Possibly corrupt EXIF data.  Expecting to read 9 bytes but only got 0. Skipping tag 42033\n",
      "  \" Skipping tag %s\" % (size, len(data), tag))\n"
     ]
    },
    {
     "name": "stdout",
     "output_type": "stream",
     "text": [
      "('Paper:', 'http://rss.cnn.com/rss/money_latest.rss')\n",
      "('Paper:', 'http://rss.cnn.com/rss/cnn_allpolitics.rss')\n"
     ]
    },
    {
     "name": "stderr",
     "output_type": "stream",
     "text": [
      "/Users/alexander/anaconda3/envs/NewsBiasPython2/lib/python2.7/site-packages/PIL/TiffImagePlugin.py:763: UserWarning: Possibly corrupt EXIF data.  Expecting to read 43 bytes but only got 0. Skipping tag 42036\n",
      "  \" Skipping tag %s\" % (size, len(data), tag))\n",
      "/Users/alexander/anaconda3/envs/NewsBiasPython2/lib/python2.7/site-packages/PIL/TiffImagePlugin.py:763: UserWarning: Possibly corrupt EXIF data.  Expecting to read 64 bytes but only got 0. Skipping tag 37510\n",
      "  \" Skipping tag %s\" % (size, len(data), tag))\n",
      "/Users/alexander/anaconda3/envs/NewsBiasPython2/lib/python2.7/site-packages/PIL/TiffImagePlugin.py:763: UserWarning: Possibly corrupt EXIF data.  Expecting to read 7 bytes but only got 4. Skipping tag 36882\n",
      "  \" Skipping tag %s\" % (size, len(data), tag))\n",
      "/Users/alexander/anaconda3/envs/NewsBiasPython2/lib/python2.7/site-packages/PIL/TiffImagePlugin.py:763: UserWarning: Possibly corrupt EXIF data.  Expecting to read 33 bytes but only got 0. Skipping tag 42036\n",
      "  \" Skipping tag %s\" % (size, len(data), tag))\n"
     ]
    },
    {
     "name": "stdout",
     "output_type": "stream",
     "text": [
      "('Paper:', 'http://rss.cnn.com/rss/cnn_tech.rss')\n"
     ]
    },
    {
     "name": "stderr",
     "output_type": "stream",
     "text": [
      "/Users/alexander/anaconda3/envs/NewsBiasPython2/lib/python2.7/site-packages/PIL/TiffImagePlugin.py:763: UserWarning: Possibly corrupt EXIF data.  Expecting to read 20 bytes but only got 16. Skipping tag 36868\n",
      "  \" Skipping tag %s\" % (size, len(data), tag))\n",
      "/Users/alexander/anaconda3/envs/NewsBiasPython2/lib/python2.7/site-packages/PIL/TiffImagePlugin.py:763: UserWarning: Possibly corrupt EXIF data.  Expecting to read 8 bytes but only got 4. Skipping tag 42240\n",
      "  \" Skipping tag %s\" % (size, len(data), tag))\n",
      "/Users/alexander/anaconda3/envs/NewsBiasPython2/lib/python2.7/site-packages/PIL/TiffImagePlugin.py:763: UserWarning: Possibly corrupt EXIF data.  Expecting to read 8 bytes but only got 4. Skipping tag 37378\n",
      "  \" Skipping tag %s\" % (size, len(data), tag))\n"
     ]
    },
    {
     "name": "stdout",
     "output_type": "stream",
     "text": [
      "('Paper:', 'http://rss.cnn.com/rss/cnn_health.rss')\n"
     ]
    },
    {
     "name": "stderr",
     "output_type": "stream",
     "text": [
      "/Users/alexander/anaconda3/envs/NewsBiasPython2/lib/python2.7/site-packages/PIL/TiffImagePlugin.py:763: UserWarning: Possibly corrupt EXIF data.  Expecting to read 264 bytes but only got 100. Skipping tag 37510\n",
      "  \" Skipping tag %s\" % (size, len(data), tag))\n",
      "/Users/alexander/anaconda3/envs/NewsBiasPython2/lib/python2.7/site-packages/PIL/TiffImagePlugin.py:763: UserWarning: Possibly corrupt EXIF data.  Expecting to read 264 bytes but only got 148. Skipping tag 37510\n",
      "  \" Skipping tag %s\" % (size, len(data), tag))\n",
      "/Users/alexander/anaconda3/envs/NewsBiasPython2/lib/python2.7/site-packages/PIL/TiffImagePlugin.py:763: UserWarning: Possibly corrupt EXIF data.  Expecting to read 24 bytes but only got 0. Skipping tag 2\n",
      "  \" Skipping tag %s\" % (size, len(data), tag))\n",
      "/Users/alexander/anaconda3/envs/NewsBiasPython2/lib/python2.7/site-packages/PIL/TiffImagePlugin.py:763: UserWarning: Possibly corrupt EXIF data.  Expecting to read 24 bytes but only got 0. Skipping tag 4\n",
      "  \" Skipping tag %s\" % (size, len(data), tag))\n",
      "/Users/alexander/anaconda3/envs/NewsBiasPython2/lib/python2.7/site-packages/PIL/TiffImagePlugin.py:763: UserWarning: Possibly corrupt EXIF data.  Expecting to read 8 bytes but only got 0. Skipping tag 6\n",
      "  \" Skipping tag %s\" % (size, len(data), tag))\n",
      "/Users/alexander/anaconda3/envs/NewsBiasPython2/lib/python2.7/site-packages/PIL/TiffImagePlugin.py:763: UserWarning: Possibly corrupt EXIF data.  Expecting to read 24 bytes but only got 0. Skipping tag 7\n",
      "  \" Skipping tag %s\" % (size, len(data), tag))\n",
      "/Users/alexander/anaconda3/envs/NewsBiasPython2/lib/python2.7/site-packages/PIL/TiffImagePlugin.py:763: UserWarning: Possibly corrupt EXIF data.  Expecting to read 8 bytes but only got 0. Skipping tag 13\n",
      "  \" Skipping tag %s\" % (size, len(data), tag))\n",
      "/Users/alexander/anaconda3/envs/NewsBiasPython2/lib/python2.7/site-packages/PIL/TiffImagePlugin.py:763: UserWarning: Possibly corrupt EXIF data.  Expecting to read 8 bytes but only got 0. Skipping tag 17\n",
      "  \" Skipping tag %s\" % (size, len(data), tag))\n",
      "/Users/alexander/anaconda3/envs/NewsBiasPython2/lib/python2.7/site-packages/PIL/TiffImagePlugin.py:763: UserWarning: Possibly corrupt EXIF data.  Expecting to read 8 bytes but only got 0. Skipping tag 24\n",
      "  \" Skipping tag %s\" % (size, len(data), tag))\n"
     ]
    },
    {
     "name": "stdout",
     "output_type": "stream",
     "text": [
      "('Paper:', 'http://rss.cnn.com/rss/cnn_showbiz.rss')\n"
     ]
    },
    {
     "name": "stderr",
     "output_type": "stream",
     "text": [
      "/Users/alexander/anaconda3/envs/NewsBiasPython2/lib/python2.7/site-packages/PIL/TiffImagePlugin.py:763: UserWarning: Possibly corrupt EXIF data.  Expecting to read 264 bytes but only got 20. Skipping tag 37510\n",
      "  \" Skipping tag %s\" % (size, len(data), tag))\n",
      "/Users/alexander/anaconda3/envs/NewsBiasPython2/lib/python2.7/site-packages/PIL/TiffImagePlugin.py:763: UserWarning: Possibly corrupt EXIF data.  Expecting to read 20 bytes but only got 8. Skipping tag 36867\n",
      "  \" Skipping tag %s\" % (size, len(data), tag))\n",
      "/Users/alexander/anaconda3/envs/NewsBiasPython2/lib/python2.7/site-packages/PIL/TiffImagePlugin.py:763: UserWarning: Possibly corrupt EXIF data.  Expecting to read 20 bytes but only got 16. Skipping tag 36867\n",
      "  \" Skipping tag %s\" % (size, len(data), tag))\n",
      "/Users/alexander/anaconda3/envs/NewsBiasPython2/lib/python2.7/site-packages/PIL/TiffImagePlugin.py:763: UserWarning: Possibly corrupt EXIF data.  Expecting to read 264 bytes but only got 88. Skipping tag 37510\n",
      "  \" Skipping tag %s\" % (size, len(data), tag))\n",
      "/Users/alexander/anaconda3/envs/NewsBiasPython2/lib/python2.7/site-packages/PIL/TiffImagePlugin.py:763: UserWarning: Possibly corrupt EXIF data.  Expecting to read 8 bytes but only got 4. Skipping tag 37379\n",
      "  \" Skipping tag %s\" % (size, len(data), tag))\n",
      "/Users/alexander/anaconda3/envs/NewsBiasPython2/lib/python2.7/site-packages/PIL/TiffImagePlugin.py:763: UserWarning: Possibly corrupt EXIF data.  Expecting to read 16 bytes but only got 0. Skipping tag 42036\n",
      "  \" Skipping tag %s\" % (size, len(data), tag))\n",
      "/Users/alexander/anaconda3/envs/NewsBiasPython2/lib/python2.7/site-packages/PIL/TiffImagePlugin.py:763: UserWarning: Possibly corrupt EXIF data.  Expecting to read 8 bytes but only got 4. Skipping tag 33434\n",
      "  \" Skipping tag %s\" % (size, len(data), tag))\n"
     ]
    },
    {
     "name": "stdout",
     "output_type": "stream",
     "text": [
      "('Paper:', 'http://rss.cnn.com/rss/cnn_travel.rss')\n",
      "('Paper:', 'http://rss.cnn.com/rss/cnn_latest.rss')\n",
      "('Paper:', 'http://feeds.bbci.co.uk/news/rss.xml')\n",
      "('Paper:', 'http://feeds.bbci.co.uk/news/world/rss.xml')\n",
      "('Paper:', 'http://feeds.bbci.co.uk/news/world/us_and_canada/rss.xml')\n",
      "('Paper:', 'http://feeds.bbci.co.uk/news/uk/rss.xml')\n",
      "('Paper:', 'http://feeds.bbci.co.uk/news/business/rss.xml')\n",
      "('Paper:', 'http://feeds.bbci.co.uk/news/technology/rss.xml')\n",
      "('Paper:', 'http://feeds.bbci.co.uk/news/science_and_environment/rss.xml')\n",
      "('Paper:', 'http://feeds.bbci.co.uk/news/entertainment_and_arts/rss.xml')\n",
      "('Paper:', 'http://feeds.bbci.co.uk/news/health/rss.xml')\n",
      "('Paper:', 'http://www.feeds.foxnews.com/foxnews/latest')\n",
      "('Paper:', 'http://feeds.foxnews.com/foxnews/most-popular')\n",
      "('Paper:', 'http://feeds.foxnews.com/foxnews/entertainment')\n",
      "('Paper:', 'http://feeds.foxnews.com/foxnews/health')\n",
      "('Paper:', 'http://feeds.foxnews.com/foxnews/section/lifestyle')\n",
      "('Paper:', 'http://feeds.foxnews.com/foxnews/politics')\n",
      "('Paper:', 'http://feeds.foxnews.com/foxnews/science')\n",
      "('Paper:', 'http://feeds.foxnews.com/foxnews/sports')\n",
      "('Paper:', 'http://feeds.foxnews.com/foxnews/tech')\n",
      "('Paper:', 'http://feeds.foxnews.com/foxnews/national')\n",
      "('Paper:', 'http://feeds.foxnews.com/foxnews/world')\n",
      "('Paper:', 'https://www.rt.com/rss/')\n",
      "('Paper:', 'https://www.rt.com/rss/news/')\n",
      "('Paper:', 'https://www.rt.com/rss/usa/')\n",
      "('Paper:', 'https://www.rt.com/rss/uk/')\n",
      "('Paper:', 'https://www.rt.com/sport/')\n",
      "('Paper:', 'https://www.rt.com/russia/')\n",
      "('Paper:', 'https://www.rt.com/business/')\n",
      "('Paper:', 'http://rss.cnn.com/rss/cnn_health.rss')\n",
      "('Paper:', 'http://rss.cnn.com/rss/cnn_showbiz.rss')\n",
      "('Paper:', 'http://rss.cnn.com/rss/cnn_travel.rss')\n",
      "('Paper:', 'http://rss.cnn.com/rss/cnn_latest.rss')\n",
      "CPU times: user 15min 7s, sys: 21.8 s, total: 15min 29s\n",
      "Wall time: 39min 57s\n"
     ]
    }
   ],
   "source": [
    "%%time\n",
    "# Parse all articles:\n",
    "for paper_list in master_paper_list:\n",
    "    for paper in paper_list:\n",
    "        print(\"Paper:\", paper.url)\n",
    "        paper.parse_articles()"
   ]
  },
  {
   "cell_type": "code",
   "execution_count": 7,
   "metadata": {},
   "outputs": [],
   "source": [
    "def write_out_articles(newspaper_obj, filepath, writeout_type='conventional'):\n",
    "    \"\"\"\n",
    "    TODO: finish this docstring\n",
    "    :param newspaper_obj:\n",
    "    :param filepath: str, filepath, WITHOUT the filename\n",
    "    :param writeout_type: str, 'custom' or 'conventional'\n",
    "    :return:\n",
    "    \"\"\"\n",
    "    now = datetime.datetime.now()\n",
    "    current_date = '{}_{}_{}'.format(str(now.year),\n",
    "                                     str(now.month),\n",
    "                                     str(now.day))\n",
    "    if writeout_type == 'custom':\n",
    "        csv_name = filepath + current_date + '_' + newspaper_obj.description \\\n",
    "                   + '.csv'\n",
    "    else:\n",
    "        csv_name = filepath + current_date + '_' + newspaper_obj.brand + '.csv'\n",
    "    with open(csv_name, 'w') as outcsv:\n",
    "        writer = csv.writer(outcsv, encoding='utf-8')\n",
    "        if writeout_type == 'conventional':\n",
    "            header = ['source_url', 'url', 'title', 'movies', 'text',\n",
    "                      'keywords', 'meta_keywords', 'tags', 'authors',\n",
    "                      'publish_date', 'summary', 'html', 'article_html',\n",
    "                      'meta_description', 'meta_data', 'canonical_link']\n",
    "        else:\n",
    "            header = ['source_url', 'url', 'title', 'movies', 'text',\n",
    "                             'keywords', 'meta_keywords', 'tags', 'authors',\n",
    "                             'publish_date', 'summary', 'html', 'article_html',\n",
    "                             'meta_description', 'meta_data', 'canonical_link',\n",
    "                             'rss_title', 'rss_link', 'rss_id', 'rss_published',\n",
    "                             'rss_published_parsed', 'rss_feedburner_origlink',\n",
    "                             'paper_section_name']\n",
    "        writer.writerow(header)\n",
    "        for article in newspaper_obj.articles:\n",
    "            source_url = article.source_url\n",
    "            url = article.url\n",
    "            title = article.title\n",
    "            movies = article.movies\n",
    "            text = article.text\n",
    "            keywords = article.keywords\n",
    "            meta_keywords = article.meta_keywords\n",
    "            tags = article.tags\n",
    "            authors = article.authors\n",
    "            publish_date = article.published_date\n",
    "            summary = article.summary\n",
    "            html = article.html\n",
    "            article_html = article.article_html\n",
    "            meta_description = article.meta_description\n",
    "            meta_data = article.meta_data\n",
    "            canonical_link = article.canonical_link\n",
    "            if writeout_type == 'custom':\n",
    "                rss_title = article.additional_data['rss_title']\n",
    "                rss_link = article.additional_data['rss_link']\n",
    "                rss_id = article.additional_data['rss_id']\n",
    "                rss_published = article.additional_data['rss_published']\n",
    "                rss_published_parsed = \\\n",
    "                    article.additional_data['rss_published_parsed']\n",
    "                rss_feedburner_origlink = \\\n",
    "                    article.additional_data['rss_feedburner_origlink']\n",
    "                data_row = [source_url, url, title, movies, text, keywords,\n",
    "                            meta_keywords, tags, authors, publish_date,\n",
    "                            summary, html, article_html, meta_description,\n",
    "                            meta_data, canonical_link, rss_title, rss_link,\n",
    "                            rss_id, rss_published, rss_published_parsed,\n",
    "                            rss_feedburner_origlink,\n",
    "                            newspaper_obj.description]\n",
    "            else:\n",
    "                data_row = [source_url, url, title, movies, text, keywords,\n",
    "                            meta_keywords, tags, authors, publish_date,\n",
    "                            summary, html, article_html, meta_description,\n",
    "                            meta_data, canonical_link]\n",
    "            writer.writerow(data_row)"
   ]
  },
  {
   "cell_type": "code",
   "execution_count": 8,
   "metadata": {},
   "outputs": [],
   "source": [
    "filepath = 'data/custom_data_pulls/'"
   ]
  },
  {
   "cell_type": "code",
   "execution_count": 9,
   "metadata": {},
   "outputs": [
    {
     "name": "stdout",
     "output_type": "stream",
     "text": [
      "CPU times: user 10.4 s, sys: 2.06 s, total: 12.4 s\n",
      "Wall time: 12.9 s\n"
     ]
    }
   ],
   "source": [
    "%%time\n",
    "for paper_list in master_paper_list:\n",
    "    for paper in paper_list:\n",
    "        write_out_articles(newspaper_obj=paper,\n",
    "                                   filepath=filepath, \n",
    "                                   writeout_type='custom')"
   ]
  },
  {
   "cell_type": "markdown",
   "metadata": {},
   "source": [
    "Check for files:"
   ]
  },
  {
   "cell_type": "code",
   "execution_count": null,
   "metadata": {},
   "outputs": [],
   "source": [
    "df = pd.read_csv('data/custom_data_pulls/2019_2_3_rt_main_page.csv')"
   ]
  },
  {
   "cell_type": "code",
   "execution_count": null,
   "metadata": {},
   "outputs": [],
   "source": [
    "df.text"
   ]
  },
  {
   "cell_type": "code",
   "execution_count": null,
   "metadata": {},
   "outputs": [],
   "source": []
  }
 ],
 "metadata": {
  "kernelspec": {
   "display_name": "Python [conda env:NewsBiasPython2]",
   "language": "python",
   "name": "conda-env-NewsBiasPython2-py"
  },
  "language_info": {
   "codemirror_mode": {
    "name": "ipython",
    "version": 2
   },
   "file_extension": ".py",
   "mimetype": "text/x-python",
   "name": "python",
   "nbconvert_exporter": "python",
   "pygments_lexer": "ipython2",
   "version": "2.7.15"
  }
 },
 "nbformat": 4,
 "nbformat_minor": 2
}
