{
 "cells": [
  {
   "cell_type": "code",
   "execution_count": 9,
   "metadata": {},
   "outputs": [
    {
     "name": "stdout",
     "output_type": "stream",
     "text": [
      "The autoreload extension is already loaded. To reload it, use:\n",
      "  %reload_ext autoreload\n"
     ]
    }
   ],
   "source": [
    "%load_ext autoreload\n",
    "%autoreload 2\n",
    "\n",
    "import unicodecsv as csv\n",
    "import datetime\n",
    "import feedparser as fp\n",
    "import newspaper\n",
    "import helpers\n",
    "from newspaper import Source, Article\n",
    "import multiprocessing \n",
    "import pandas as pd"
   ]
  },
  {
   "cell_type": "code",
   "execution_count": 10,
   "metadata": {},
   "outputs": [
    {
     "name": "stdout",
     "output_type": "stream",
     "text": [
      "[Parse lxml ERR] Unicode strings with encoding declaration are not supported. Please use bytes input or XML fragments without declaration.\n",
      "[Source parse ERR] http://rss.cnn.com/rss/cnn_topstories.rss\n",
      "[Parse lxml ERR] Unicode strings with encoding declaration are not supported. Please use bytes input or XML fragments without declaration.\n",
      "[Source parse ERR] http://rss.cnn.com/rss/cnn_world.rss\n",
      "[Parse lxml ERR] Unicode strings with encoding declaration are not supported. Please use bytes input or XML fragments without declaration.\n",
      "[Source parse ERR] http://rss.cnn.com/rss/cnn_us.rss\n",
      "[Parse lxml ERR] Unicode strings with encoding declaration are not supported. Please use bytes input or XML fragments without declaration.\n",
      "[Source parse ERR] http://rss.cnn.com/rss/cnn_allpolitics.rss\n",
      "[Parse lxml ERR] Unicode strings with encoding declaration are not supported. Please use bytes input or XML fragments without declaration.\n",
      "[Source parse ERR] http://rss.cnn.com/rss/cnn_tech.rss\n",
      "[Parse lxml ERR] Unicode strings with encoding declaration are not supported. Please use bytes input or XML fragments without declaration.\n",
      "[Source parse ERR] http://rss.cnn.com/rss/cnn_health.rss\n",
      "[Parse lxml ERR] Unicode strings with encoding declaration are not supported. Please use bytes input or XML fragments without declaration.\n",
      "[Source parse ERR] http://rss.cnn.com/rss/cnn_showbiz.rss\n",
      "[Parse lxml ERR] Unicode strings with encoding declaration are not supported. Please use bytes input or XML fragments without declaration.\n",
      "[Source parse ERR] http://rss.cnn.com/rss/cnn_travel.rss\n",
      "[Parse lxml ERR] Unicode strings with encoding declaration are not supported. Please use bytes input or XML fragments without declaration.\n",
      "[Source parse ERR] http://rss.cnn.com/rss/cnn_latest.rss\n",
      "[Parse lxml ERR] Unicode strings with encoding declaration are not supported. Please use bytes input or XML fragments without declaration.\n",
      "[Source parse ERR] http://feeds.bbci.co.uk/news/rss.xml\n",
      "[Parse lxml ERR] Unicode strings with encoding declaration are not supported. Please use bytes input or XML fragments without declaration.\n",
      "[Source parse ERR] http://feeds.bbci.co.uk/news/world/rss.xml\n",
      "[Parse lxml ERR] Unicode strings with encoding declaration are not supported. Please use bytes input or XML fragments without declaration.\n",
      "[Source parse ERR] http://feeds.bbci.co.uk/news/world/us_and_canada/rss.xml\n",
      "[Parse lxml ERR] Unicode strings with encoding declaration are not supported. Please use bytes input or XML fragments without declaration.\n",
      "[Source parse ERR] http://feeds.bbci.co.uk/news/uk/rss.xml\n",
      "[Parse lxml ERR] Unicode strings with encoding declaration are not supported. Please use bytes input or XML fragments without declaration.\n",
      "[Source parse ERR] http://feeds.bbci.co.uk/news/business/rss.xml\n",
      "[Parse lxml ERR] Unicode strings with encoding declaration are not supported. Please use bytes input or XML fragments without declaration.\n",
      "[Source parse ERR] http://feeds.bbci.co.uk/news/technology/rss.xml\n",
      "[Parse lxml ERR] Unicode strings with encoding declaration are not supported. Please use bytes input or XML fragments without declaration.\n",
      "[Source parse ERR] http://feeds.bbci.co.uk/news/science_and_environment/rss.xml\n",
      "[Parse lxml ERR] Unicode strings with encoding declaration are not supported. Please use bytes input or XML fragments without declaration.\n",
      "[Source parse ERR] http://feeds.bbci.co.uk/news/entertainment_and_arts/rss.xml\n",
      "[Parse lxml ERR] Unicode strings with encoding declaration are not supported. Please use bytes input or XML fragments without declaration.\n",
      "[Source parse ERR] http://feeds.bbci.co.uk/news/health/rss.xml\n",
      "[Parse lxml ERR] Document is empty\n",
      "[Source parse ERR] http://www.feeds.foxnews.com/foxnews/latest\n",
      "[Parse lxml ERR] Unicode strings with encoding declaration are not supported. Please use bytes input or XML fragments without declaration.\n",
      "[Source parse ERR] http://feeds.foxnews.com/foxnews/most-popular\n",
      "[Parse lxml ERR] Unicode strings with encoding declaration are not supported. Please use bytes input or XML fragments without declaration.\n",
      "[Source parse ERR] http://feeds.foxnews.com/foxnews/entertainment\n",
      "[Parse lxml ERR] Unicode strings with encoding declaration are not supported. Please use bytes input or XML fragments without declaration.\n",
      "[Source parse ERR] http://feeds.foxnews.com/foxnews/health\n",
      "[Parse lxml ERR] Unicode strings with encoding declaration are not supported. Please use bytes input or XML fragments without declaration.\n",
      "[Source parse ERR] http://feeds.foxnews.com/foxnews/section/lifestyle\n",
      "[Parse lxml ERR] Unicode strings with encoding declaration are not supported. Please use bytes input or XML fragments without declaration.\n",
      "[Source parse ERR] http://feeds.foxnews.com/foxnews/politics\n",
      "[Parse lxml ERR] Unicode strings with encoding declaration are not supported. Please use bytes input or XML fragments without declaration.\n",
      "[Source parse ERR] http://feeds.foxnews.com/foxnews/science\n",
      "[Parse lxml ERR] Unicode strings with encoding declaration are not supported. Please use bytes input or XML fragments without declaration.\n",
      "[Source parse ERR] http://feeds.foxnews.com/foxnews/sports\n",
      "[Parse lxml ERR] Unicode strings with encoding declaration are not supported. Please use bytes input or XML fragments without declaration.\n",
      "[Source parse ERR] http://feeds.foxnews.com/foxnews/tech\n",
      "[Parse lxml ERR] Unicode strings with encoding declaration are not supported. Please use bytes input or XML fragments without declaration.\n",
      "[Source parse ERR] http://feeds.foxnews.com/foxnews/national\n",
      "[Parse lxml ERR] Unicode strings with encoding declaration are not supported. Please use bytes input or XML fragments without declaration.\n",
      "[Source parse ERR] http://feeds.foxnews.com/foxnews/world\n",
      "[Parse lxml ERR] Unicode strings with encoding declaration are not supported. Please use bytes input or XML fragments without declaration.\n",
      "[Source parse ERR] https://www.rt.com/rss/\n",
      "[Parse lxml ERR] Unicode strings with encoding declaration are not supported. Please use bytes input or XML fragments without declaration.\n",
      "[Source parse ERR] https://www.rt.com/rss/news/\n",
      "[Parse lxml ERR] Unicode strings with encoding declaration are not supported. Please use bytes input or XML fragments without declaration.\n",
      "[Source parse ERR] https://www.rt.com/rss/usa/\n",
      "[Parse lxml ERR] Unicode strings with encoding declaration are not supported. Please use bytes input or XML fragments without declaration.\n",
      "[Source parse ERR] https://www.rt.com/rss/uk/\n",
      "[Parse lxml ERR] Unicode strings with encoding declaration are not supported. Please use bytes input or XML fragments without declaration.\n",
      "[Source parse ERR] http://rss.cnn.com/rss/cnn_health.rss\n",
      "[Parse lxml ERR] Unicode strings with encoding declaration are not supported. Please use bytes input or XML fragments without declaration.\n",
      "[Source parse ERR] http://rss.cnn.com/rss/cnn_showbiz.rss\n",
      "[Parse lxml ERR] Unicode strings with encoding declaration are not supported. Please use bytes input or XML fragments without declaration.\n",
      "[Source parse ERR] http://rss.cnn.com/rss/cnn_travel.rss\n",
      "[Parse lxml ERR] Unicode strings with encoding declaration are not supported. Please use bytes input or XML fragments without declaration.\n",
      "[Source parse ERR] http://rss.cnn.com/rss/cnn_latest.rss\n",
      "CPU times: user 7.48 s, sys: 1.03 s, total: 8.52 s\n",
      "Wall time: 17.6 s\n"
     ]
    }
   ],
   "source": [
    "%%time\n",
    "# Compiling papers with using rss information, producing newspaper objects:\n",
    "all_cnn_papers = helpers.compile_papers(rss_feeds_dict=helpers.CNN_LINKS_DICT)\n",
    "all_bbc_papers = helpers.compile_papers(rss_feeds_dict=helpers.BBC_LINKS_DICT)\n",
    "all_fox_papers = helpers.compile_papers(rss_feeds_dict=helpers.FOX_LINKS_DICT)\n",
    "all_rt_papers = helpers.compile_papers(rss_feeds_dict=helpers.RT_LINKS_DICT)\n",
    "# No msnbc rss, so can't used this method with msnbc"
   ]
  },
  {
   "cell_type": "code",
   "execution_count": 11,
   "metadata": {},
   "outputs": [
    {
     "name": "stdout",
     "output_type": "stream",
     "text": [
      "CPU times: user 36.2 s, sys: 8.27 s, total: 44.5 s\n",
      "Wall time: 3min 1s\n"
     ]
    }
   ],
   "source": [
    "%%time\n",
    "# Download articles, i.e. scrapeoff text and other data:\n",
    "helpers.art_multithread_downloads(papers=all_cnn_papers, threads_per_source=2)\n",
    "helpers.art_multithread_downloads(papers=all_bbc_papers, threads_per_source=2)\n",
    "helpers.art_multithread_downloads(papers=all_fox_papers, threads_per_source=2)\n",
    "helpers.art_multithread_downloads(papers=all_rt_papers, threads_per_source=2)"
   ]
  },
  {
   "cell_type": "code",
   "execution_count": 12,
   "metadata": {},
   "outputs": [],
   "source": [
    "master_paper_list = [all_cnn_papers, \n",
    "                     all_bbc_papers,\n",
    "                     all_fox_papers,\n",
    "                     all_rt_papers]"
   ]
  },
  {
   "cell_type": "code",
   "execution_count": null,
   "metadata": {
    "scrolled": false
   },
   "outputs": [
    {
     "name": "stdout",
     "output_type": "stream",
     "text": [
      "('Paper:', 'http://rss.cnn.com/rss/cnn_topstories.rss')\n"
     ]
    },
    {
     "name": "stderr",
     "output_type": "stream",
     "text": [
      "/Users/alexander/anaconda3/envs/NewsBiasPython2/lib/python2.7/site-packages/PIL/TiffImagePlugin.py:763: UserWarning: Possibly corrupt EXIF data.  Expecting to read 8 bytes but only got 0. Skipping tag 37379\n",
      "  \" Skipping tag %s\" % (size, len(data), tag))\n",
      "/Users/alexander/anaconda3/envs/NewsBiasPython2/lib/python2.7/site-packages/PIL/TiffImagePlugin.py:763: UserWarning: Possibly corrupt EXIF data.  Expecting to read 64 bytes but only got 0. Skipping tag 37510\n",
      "  \" Skipping tag %s\" % (size, len(data), tag))\n",
      "/Users/alexander/anaconda3/envs/NewsBiasPython2/lib/python2.7/site-packages/PIL/TiffImagePlugin.py:763: UserWarning: Possibly corrupt EXIF data.  Expecting to read 58 bytes but only got 4. Skipping tag 33432\n",
      "  \" Skipping tag %s\" % (size, len(data), tag))\n",
      "/Users/alexander/anaconda3/envs/NewsBiasPython2/lib/python2.7/site-packages/PIL/TiffImagePlugin.py:763: UserWarning: Possibly corrupt EXIF data.  Expecting to read 32 bytes but only got 20. Skipping tag 42034\n",
      "  \" Skipping tag %s\" % (size, len(data), tag))\n",
      "/Users/alexander/anaconda3/envs/NewsBiasPython2/lib/python2.7/site-packages/PIL/TiffImagePlugin.py:763: UserWarning: Possibly corrupt EXIF data.  Expecting to read 2060 bytes but only got 908. Skipping tag 59932\n",
      "  \" Skipping tag %s\" % (size, len(data), tag))\n",
      "/Users/alexander/anaconda3/envs/NewsBiasPython2/lib/python2.7/site-packages/PIL/TiffImagePlugin.py:763: UserWarning: Possibly corrupt EXIF data.  Expecting to read 2060 bytes but only got 1932. Skipping tag 59932\n",
      "  \" Skipping tag %s\" % (size, len(data), tag))\n",
      "/Users/alexander/anaconda3/envs/NewsBiasPython2/lib/python2.7/site-packages/PIL/TiffImagePlugin.py:763: UserWarning: Possibly corrupt EXIF data.  Expecting to read 2060 bytes but only got 876. Skipping tag 59932\n",
      "  \" Skipping tag %s\" % (size, len(data), tag))\n",
      "/Users/alexander/anaconda3/envs/NewsBiasPython2/lib/python2.7/site-packages/PIL/TiffImagePlugin.py:763: UserWarning: Possibly corrupt EXIF data.  Expecting to read 2060 bytes but only got 1900. Skipping tag 59932\n",
      "  \" Skipping tag %s\" % (size, len(data), tag))\n",
      "/Users/alexander/anaconda3/envs/NewsBiasPython2/lib/python2.7/site-packages/PIL/TiffImagePlugin.py:763: UserWarning: Possibly corrupt EXIF data.  Expecting to read 8 bytes but only got 4. Skipping tag 37122\n",
      "  \" Skipping tag %s\" % (size, len(data), tag))\n",
      "/Users/alexander/anaconda3/envs/NewsBiasPython2/lib/python2.7/site-packages/PIL/TiffImagePlugin.py:763: UserWarning: Possibly corrupt EXIF data.  Expecting to read 264 bytes but only got 220. Skipping tag 37510\n",
      "  \" Skipping tag %s\" % (size, len(data), tag))\n",
      "/Users/alexander/anaconda3/envs/NewsBiasPython2/lib/python2.7/site-packages/PIL/TiffImagePlugin.py:763: UserWarning: Possibly corrupt EXIF data.  Expecting to read 8 bytes but only got 0. Skipping tag 37510\n",
      "  \" Skipping tag %s\" % (size, len(data), tag))\n"
     ]
    },
    {
     "name": "stdout",
     "output_type": "stream",
     "text": [
      "('Paper:', 'http://rss.cnn.com/rss/cnn_world.rss')\n"
     ]
    },
    {
     "name": "stderr",
     "output_type": "stream",
     "text": [
      "/Users/alexander/anaconda3/envs/NewsBiasPython2/lib/python2.7/site-packages/PIL/TiffImagePlugin.py:763: UserWarning: Possibly corrupt EXIF data.  Expecting to read 12 bytes but only got 0. Skipping tag 42032\n",
      "  \" Skipping tag %s\" % (size, len(data), tag))\n",
      "/Users/alexander/anaconda3/envs/NewsBiasPython2/lib/python2.7/site-packages/PIL/TiffImagePlugin.py:763: UserWarning: Possibly corrupt EXIF data.  Expecting to read 20 bytes but only got 0. Skipping tag 42036\n",
      "  \" Skipping tag %s\" % (size, len(data), tag))\n",
      "/Users/alexander/anaconda3/envs/NewsBiasPython2/lib/python2.7/site-packages/PIL/TiffImagePlugin.py:780: UserWarning: Corrupt EXIF data.  Expecting to read 4 bytes but only got 2. \n",
      "  warnings.warn(str(msg))\n",
      "/Users/alexander/anaconda3/envs/NewsBiasPython2/lib/python2.7/site-packages/PIL/TiffImagePlugin.py:763: UserWarning: Possibly corrupt EXIF data.  Expecting to read 44 bytes but only got 28. Skipping tag 37510\n",
      "  \" Skipping tag %s\" % (size, len(data), tag))\n",
      "/Users/alexander/anaconda3/envs/NewsBiasPython2/lib/python2.7/site-packages/PIL/TiffImagePlugin.py:763: UserWarning: Possibly corrupt EXIF data.  Expecting to read 34 bytes but only got 4. Skipping tag 42036\n",
      "  \" Skipping tag %s\" % (size, len(data), tag))\n"
     ]
    },
    {
     "name": "stdout",
     "output_type": "stream",
     "text": [
      "('Paper:', 'http://rss.cnn.com/rss/cnn_us.rss')\n"
     ]
    },
    {
     "name": "stderr",
     "output_type": "stream",
     "text": [
      "/Users/alexander/anaconda3/envs/NewsBiasPython2/lib/python2.7/site-packages/PIL/TiffImagePlugin.py:763: UserWarning: Possibly corrupt EXIF data.  Expecting to read 9 bytes but only got 0. Skipping tag 42033\n",
      "  \" Skipping tag %s\" % (size, len(data), tag))\n"
     ]
    },
    {
     "name": "stdout",
     "output_type": "stream",
     "text": [
      "('Paper:', 'http://rss.cnn.com/rss/money_latest.rss')\n",
      "('Paper:', 'http://rss.cnn.com/rss/cnn_allpolitics.rss')\n"
     ]
    },
    {
     "name": "stderr",
     "output_type": "stream",
     "text": [
      "/Users/alexander/anaconda3/envs/NewsBiasPython2/lib/python2.7/site-packages/PIL/TiffImagePlugin.py:763: UserWarning: Possibly corrupt EXIF data.  Expecting to read 43 bytes but only got 0. Skipping tag 42036\n",
      "  \" Skipping tag %s\" % (size, len(data), tag))\n",
      "/Users/alexander/anaconda3/envs/NewsBiasPython2/lib/python2.7/site-packages/PIL/TiffImagePlugin.py:763: UserWarning: Possibly corrupt EXIF data.  Expecting to read 7 bytes but only got 4. Skipping tag 36882\n",
      "  \" Skipping tag %s\" % (size, len(data), tag))\n",
      "/Users/alexander/anaconda3/envs/NewsBiasPython2/lib/python2.7/site-packages/PIL/TiffImagePlugin.py:763: UserWarning: Possibly corrupt EXIF data.  Expecting to read 33 bytes but only got 0. Skipping tag 42036\n",
      "  \" Skipping tag %s\" % (size, len(data), tag))\n"
     ]
    },
    {
     "name": "stdout",
     "output_type": "stream",
     "text": [
      "('Paper:', 'http://rss.cnn.com/rss/cnn_tech.rss')\n"
     ]
    },
    {
     "name": "stderr",
     "output_type": "stream",
     "text": [
      "/Users/alexander/anaconda3/envs/NewsBiasPython2/lib/python2.7/site-packages/PIL/TiffImagePlugin.py:763: UserWarning: Possibly corrupt EXIF data.  Expecting to read 20 bytes but only got 16. Skipping tag 36868\n",
      "  \" Skipping tag %s\" % (size, len(data), tag))\n"
     ]
    },
    {
     "name": "stdout",
     "output_type": "stream",
     "text": [
      "('Paper:', 'http://rss.cnn.com/rss/cnn_health.rss')\n"
     ]
    },
    {
     "name": "stderr",
     "output_type": "stream",
     "text": [
      "/Users/alexander/anaconda3/envs/NewsBiasPython2/lib/python2.7/site-packages/PIL/TiffImagePlugin.py:763: UserWarning: Possibly corrupt EXIF data.  Expecting to read 264 bytes but only got 100. Skipping tag 37510\n",
      "  \" Skipping tag %s\" % (size, len(data), tag))\n"
     ]
    }
   ],
   "source": [
    "%%time\n",
    "# Parse all articles:\n",
    "for paper_list in master_paper_list:\n",
    "    for paper in paper_list:\n",
    "        print(\"Paper:\", paper.url)\n",
    "        paper.parse_articles()"
   ]
  },
  {
   "cell_type": "code",
   "execution_count": 6,
   "metadata": {},
   "outputs": [],
   "source": [
    "def write_out_articles(newspaper_obj, filepath, writeout_type='conventional'):\n",
    "    \"\"\"\n",
    "    TODO: finish this docstring\n",
    "    :param newspaper_obj:\n",
    "    :param filepath: str, filepath, WITHOUT the filename\n",
    "    :param writeout_type: str, 'custom' or 'conventional'\n",
    "    :return:\n",
    "    \"\"\"\n",
    "    now = datetime.datetime.now()\n",
    "    current_date = '{}_{}_{}'.format(str(now.year),\n",
    "                                     str(now.month),\n",
    "                                     str(now.day))\n",
    "    if writeout_type == 'custom':\n",
    "        csv_name = filepath + current_date + '_' + newspaper_obj.description \\\n",
    "                   + '.csv'\n",
    "    else:\n",
    "        csv_name = filepath + current_date + '_' + newspaper_obj.brand + '.csv'\n",
    "    with open(csv_name, 'w') as outcsv:\n",
    "        writer = csv.writer(outcsv, encoding='utf-8')\n",
    "        if writeout_type == 'conventional':\n",
    "            header = ['source_url', 'url', 'title', 'movies', 'text',\n",
    "                      'keywords', 'meta_keywords', 'tags', 'authors',\n",
    "                      'publish_date', 'summary', 'html', 'article_html',\n",
    "                      'meta_description', 'meta_data', 'canonical_link']\n",
    "        else:\n",
    "            header = ['source_url', 'url', 'title', 'movies', 'text',\n",
    "                             'keywords', 'meta_keywords', 'tags', 'authors',\n",
    "                             'publish_date', 'summary', 'html', 'article_html',\n",
    "                             'meta_description', 'meta_data', 'canonical_link',\n",
    "                             'rss_title', 'rss_link', 'rss_id', 'rss_published',\n",
    "                             'rss_published_parsed', 'rss_feedburner_origlink',\n",
    "                             'paper_section_name']\n",
    "        writer.writerow(header)\n",
    "        for article in newspaper_obj.articles:\n",
    "            source_url = article.source_url\n",
    "            url = article.url\n",
    "            title = article.title\n",
    "            movies = article.movies\n",
    "            text = article.text\n",
    "            keywords = article.keywords\n",
    "            meta_keywords = article.meta_keywords\n",
    "            tags = article.tags\n",
    "            authors = article.authors\n",
    "            publish_date = article.published_date\n",
    "            summary = article.summary\n",
    "            html = article.html\n",
    "            article_html = article.article_html\n",
    "            meta_description = article.meta_description\n",
    "            meta_data = article.meta_data\n",
    "            canonical_link = article.canonical_link\n",
    "            if writeout_type == 'custom':\n",
    "                rss_title = article.additional_data['rss_title']\n",
    "                rss_link = article.additional_data['rss_link']\n",
    "                rss_id = article.additional_data['rss_id']\n",
    "                rss_published = article.additional_data['rss_published']\n",
    "                rss_published_parsed = \\\n",
    "                    article.additional_data['rss_published_parsed']\n",
    "                rss_feedburner_origlink = \\\n",
    "                    article.additional_data['rss_feedburner_origlink']\n",
    "                data_row = [source_url, url, title, movies, text, keywords,\n",
    "                            meta_keywords, tags, authors, publish_date,\n",
    "                            summary, html, article_html, meta_description,\n",
    "                            meta_data, canonical_link, rss_title, rss_link,\n",
    "                            rss_id, rss_published, rss_published_parsed,\n",
    "                            rss_feedburner_origlink,\n",
    "                            newspaper_obj.description]\n",
    "            else:\n",
    "                data_row = [source_url, url, title, movies, text, keywords,\n",
    "                            meta_keywords, tags, authors, publish_date,\n",
    "                            summary, html, article_html, meta_description,\n",
    "                            meta_data, canonical_link]\n",
    "            writer.writerow(data_row)"
   ]
  },
  {
   "cell_type": "code",
   "execution_count": 7,
   "metadata": {},
   "outputs": [],
   "source": [
    "filepath = 'data/custom_data_pulls/'"
   ]
  },
  {
   "cell_type": "code",
   "execution_count": 8,
   "metadata": {},
   "outputs": [
    {
     "name": "stdout",
     "output_type": "stream",
     "text": [
      "CPU times: user 10.9 s, sys: 5.95 s, total: 16.8 s\n",
      "Wall time: 23.6 s\n"
     ]
    }
   ],
   "source": [
    "%%time\n",
    "for paper_list in master_paper_list:\n",
    "    for paper in paper_list:\n",
    "        write_out_articles(newspaper_obj=paper,\n",
    "                                   filepath=filepath, \n",
    "                                   writeout_type='custom')"
   ]
  },
  {
   "cell_type": "markdown",
   "metadata": {},
   "source": [
    "Check for files:"
   ]
  },
  {
   "cell_type": "code",
   "execution_count": null,
   "metadata": {},
   "outputs": [],
   "source": [
    "df = pd.read_csv('data/custom_data_pulls/2019_2_3_rt_main_page.csv')"
   ]
  },
  {
   "cell_type": "code",
   "execution_count": null,
   "metadata": {},
   "outputs": [],
   "source": [
    "df.text"
   ]
  },
  {
   "cell_type": "code",
   "execution_count": null,
   "metadata": {},
   "outputs": [],
   "source": []
  }
 ],
 "metadata": {
  "kernelspec": {
   "display_name": "Python [conda env:NewsBiasPython2]",
   "language": "python",
   "name": "conda-env-NewsBiasPython2-py"
  },
  "language_info": {
   "codemirror_mode": {
    "name": "ipython",
    "version": 2
   },
   "file_extension": ".py",
   "mimetype": "text/x-python",
   "name": "python",
   "nbconvert_exporter": "python",
   "pygments_lexer": "ipython2",
   "version": "2.7.15"
  }
 },
 "nbformat": 4,
 "nbformat_minor": 2
}
