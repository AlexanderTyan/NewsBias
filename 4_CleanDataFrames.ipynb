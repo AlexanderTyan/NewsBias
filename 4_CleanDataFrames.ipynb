{
 "cells": [
  {
   "cell_type": "code",
   "execution_count": null,
   "metadata": {},
   "outputs": [],
   "source": []
  },
  {
   "cell_type": "code",
   "execution_count": null,
   "metadata": {},
   "outputs": [],
   "source": [
    "processed_dir_file_1 = 'data/processed/2019_03_27_BBC_NoDupesWithin.csv'\n",
    "processed_dir_file_2 = 'data/processed/2019_03_27_BBC_NoDupesAtAll.csv'\n",
    "processed_dir_file_1 = 'data/processed/2019_03_27_FOX_NoDupesWithin.csv'\n",
    "processed_dir_file_2 = 'data/processed/2019_03_27_FOX_NoDupesAtAll.csv'\n",
    "processed_dir_file_1 = 'data/processed/2019_03_28_CNN_NoDupesWithin.csv'\n",
    "processed_dir_file_2 = 'data/processed/2019_03_28_CNN_NoDupesAtAll.csv'"
   ]
  },
  {
   "cell_type": "code",
   "execution_count": null,
   "metadata": {},
   "outputs": [],
   "source": [
    "df_bbc_clean_nodupes_csv = pd.read_csv(processed_dir_file_1)\n",
    "df_bbc_clean_nodupes_atall_csv = pd.read_csv(processed_dir_file_2)\n",
    "df_fox_clean_nodupes_csv = pd.read_csv(processed_dir_file_1)\n",
    "df_fox_clean_nodupes_atall_csv = pd.read_csv(processed_dir_file_2)\n",
    "df_cnn_clean_nodupes_csv = pd.read_csv(processed_dir_file_1)\n",
    "df_cnn_clean_nodupes_atall_csv = pd.read_csv(processed_dir_file_2)\n"
   ]
  }
 ],
 "metadata": {
  "kernelspec": {
   "display_name": "Python 3",
   "language": "python",
   "name": "python3"
  },
  "language_info": {
   "codemirror_mode": {
    "name": "ipython",
    "version": 3
   },
   "file_extension": ".py",
   "mimetype": "text/x-python",
   "name": "python",
   "nbconvert_exporter": "python",
   "pygments_lexer": "ipython3",
   "version": "3.6.8"
  }
 },
 "nbformat": 4,
 "nbformat_minor": 2
}
