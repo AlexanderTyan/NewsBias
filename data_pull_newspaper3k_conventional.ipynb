{
 "cells": [
  {
   "cell_type": "code",
   "execution_count": 1,
   "metadata": {},
   "outputs": [],
   "source": [
    "%load_ext autoreload\n",
    "%autoreload 2\n",
    "\n",
    "import datetime\n",
    "import multiprocessing\n",
    "import multiprocess\n",
    "import feedparser as fp\n",
    "import newspaper\n",
    "from newspaper import news_pool\n",
    "import helpers\n",
    "from newspaper import Source, Article\n",
    "import pandas as pd"
   ]
  },
  {
   "cell_type": "markdown",
   "metadata": {},
   "source": [
    "## 1.\n",
    "This is downloading newspapers as one would conventionally using the $newspaper3k$ package "
   ]
  },
  {
   "cell_type": "code",
   "execution_count": 2,
   "metadata": {},
   "outputs": [
    {
     "name": "stdout",
     "output_type": "stream",
     "text": [
      "CPU times: user 7.1 s, sys: 867 ms, total: 7.97 s\n",
      "Wall time: 20.6 s\n"
     ]
    }
   ],
   "source": [
    "%%time\n",
    "# Do conventional newspaper3k build...\n",
    "cnn_3k_paper = newspaper.build('https://www.cnn.com/', memoize_articles=False)\n",
    "rt_3k_paper = newspaper.build('https://www.rt.com/', memoize_articles=False)\n",
    "bbc_3k_paper = newspaper.build('https://www.bbc.com/news', memoize_articles=False)\n",
    "fox_3k_paper = newspaper.build('https://www.foxnews.com/', memoize_articles=False)\n",
    "msnbc_3k_paper = newspaper.build('https://www.msnbc.com/', memoize_articles=False)"
   ]
  },
  {
   "cell_type": "code",
   "execution_count": 3,
   "metadata": {},
   "outputs": [
    {
     "name": "stdout",
     "output_type": "stream",
     "text": [
      "CPU times: user 1min 2s, sys: 8.64 s, total: 1min 10s\n",
      "Wall time: 8min 2s\n"
     ]
    }
   ],
   "source": [
    "%%time\n",
    "# ... and multithread download:\n",
    "papers = [cnn_3k_paper, \n",
    "          rt_3k_paper,\n",
    "          bbc_3k_paper,\n",
    "          fox_3k_paper,\n",
    "          msnbc_3k_paper]\n",
    "news_pool.set(papers, threads_per_source=2) # (5*2) = 10 threads total\n",
    "news_pool.join()"
   ]
  },
  {
   "cell_type": "code",
   "execution_count": 4,
   "metadata": {},
   "outputs": [
    {
     "name": "stdout",
     "output_type": "stream",
     "text": [
      "CPU times: user 7min 44s, sys: 16 s, total: 8min\n",
      "Wall time: 8min 34s\n"
     ]
    }
   ],
   "source": [
    "%%time\n",
    "# Process the downloaded texts:\n",
    "for paper in papers:\n",
    "    paper.parse_articles()"
   ]
  },
  {
   "cell_type": "code",
   "execution_count": 5,
   "metadata": {},
   "outputs": [],
   "source": [
    "filepath = 'data_extra/conventional_data_pulls/'"
   ]
  },
  {
   "cell_type": "code",
   "execution_count": 6,
   "metadata": {},
   "outputs": [
    {
     "name": "stdout",
     "output_type": "stream",
     "text": [
      "CPU times: user 26.1 s, sys: 4.21 s, total: 30.3 s\n",
      "Wall time: 31.4 s\n"
     ]
    }
   ],
   "source": [
    "%%time\n",
    "for paper in papers:\n",
    "    helpers.write_out_articles(newspaper_obj=paper,\n",
    "                               filepath=filepath, \n",
    "                               writeout_type='conventional')"
   ]
  },
  {
   "cell_type": "markdown",
   "metadata": {},
   "source": [
    "Check for files:"
   ]
  },
  {
   "cell_type": "code",
   "execution_count": 7,
   "metadata": {},
   "outputs": [],
   "source": [
    "df = pd.read_csv(filepath + '2019_3_26_bbc.csv')"
   ]
  },
  {
   "cell_type": "code",
   "execution_count": 8,
   "metadata": {},
   "outputs": [
    {
     "data": {
      "text/plain": [
       "0      Image copyright Getty Images\\n\\nPurdue Pharma,...\n",
       "1      Image caption Funding from the Sackler Trust h...\n",
       "2      Image copyright Eyevine/Shutterstock Image cap...\n",
       "3      This story is published in collaboration with ...\n",
       "4      Image copyright UK Parliament/Mark Duffy\\n\\nTh...\n",
       "5      Image copyright UK Parliament/Mark Duffy\\n\\nTh...\n",
       "6      Image caption Trump won 70% of the vote in Pop...\n",
       "7      Image copyright Getty Images Image caption Fen...\n",
       "8      Image copyright AFP/Getty Image caption Presid...\n",
       "9      Media playback is unsupported on your device M...\n",
       "10     Image copyright Reuters Image caption Kvitova ...\n",
       "11     Image copyright Getty Images Image caption Stu...\n",
       "12     Image copyright Getty Images Image caption Stu...\n",
       "13     Image copyright Getty Images\\n\\nJubilation, an...\n",
       "14     Media playback is unsupported on your device M...\n",
       "15     Image copyright Getty Images Image caption Pro...\n",
       "16     Image copyright Getty Images Image caption Att...\n",
       "17     Image copyright Reuters\\n\\nWhat was that film ...\n",
       "18     Image copyright Benedict Nelson Image caption ...\n",
       "19     Almost three years ago the UK voted in favour ...\n",
       "20     Image copyright EPA Image caption Theresa May ...\n",
       "21     Image copyright Cecilia Leslie / Instagram\\n\\n...\n",
       "22     Image caption Frank Liu says his company Intco...\n",
       "23     Image copyright Andrew Morris Image caption An...\n",
       "24     A stillborn baby provides the mother with the ...\n",
       "25     Image copyright Reuters Image caption Actors F...\n",
       "26     Image copyright Reuters\\n\\nThis is the story o...\n",
       "27     Image copyright NurPhoto/Getty Images\\n\\nThe l...\n",
       "28     “We are never completely sure who we are deali...\n",
       "29     Image copyright SAFFRONART Image caption This ...\n",
       "                             ...                        \n",
       "80     Image copyright AFP Image caption A man injure...\n",
       "81     Image copyright Getty Images\\n\\nEU leaders hav...\n",
       "82     Image copyright Getty Images\\n\\nEU leaders hav...\n",
       "83     Image copyright Getty Images\\n\\nWe now know th...\n",
       "84     Media playback is unsupported on your device M...\n",
       "85     Image copyright NASA\\n\\nThe number of planets ...\n",
       "86     A new beach has opened to the public in Nigeri...\n",
       "87     Our selection of some of the most striking new...\n",
       "88     Cyclone Idai has ravaged parts of Mozambique, ...\n",
       "89     Photographer Ed Gold interviewed soldiers who ...\n",
       "90     Media playback is unsupported on your device M...\n",
       "91     Image copyright UK Parliament/Mark Duffy\\n\\nTh...\n",
       "92     Image copyright Reuters Image caption Kvitova ...\n",
       "93     Image copyright Dr Benjamin Pohl Image caption...\n",
       "94     Image copyright Cecilia Leslie / Instagram\\n\\n...\n",
       "95     Image copyright Getty Images Image caption Ado...\n",
       "96     Image copyright Muzmatch Image caption Shahzad...\n",
       "97     Comedian Joe Lycett has said that the LGBT com...\n",
       "98     Image copyright Getty Images Image caption Dr ...\n",
       "99     The demand for on-demand TV has never been hig...\n",
       "100    Image caption AC-12's finest? Vicky McClure, M...\n",
       "101    Image copyright Getty Images Image caption Wom...\n",
       "102    Image copyright Majestic Wine\\n\\nMajestic Wine...\n",
       "103    Image copyright Eddie Mitchell Image caption S...\n",
       "104    The shortlist for the 2019 Sony World Photogra...\n",
       "105    Image copyright 20th Century Fox/New Regency I...\n",
       "106    Image caption Circumcision demonstration on a ...\n",
       "107    Image caption Midge Ure called Walker \"the man...\n",
       "108    Image copyright Getty Images Image caption Wal...\n",
       "109    Image copyright Ruth Carroll Image caption Rut...\n",
       "Name: text, Length: 110, dtype: object"
      ]
     },
     "execution_count": 8,
     "metadata": {},
     "output_type": "execute_result"
    }
   ],
   "source": [
    "df.text"
   ]
  },
  {
   "cell_type": "code",
   "execution_count": null,
   "metadata": {},
   "outputs": [],
   "source": []
  }
 ],
 "metadata": {
  "kernelspec": {
   "display_name": "Python 3",
   "language": "python",
   "name": "python3"
  },
  "language_info": {
   "codemirror_mode": {
    "name": "ipython",
    "version": 3
   },
   "file_extension": ".py",
   "mimetype": "text/x-python",
   "name": "python",
   "nbconvert_exporter": "python",
   "pygments_lexer": "ipython3",
   "version": "3.6.8"
  }
 },
 "nbformat": 4,
 "nbformat_minor": 2
}
