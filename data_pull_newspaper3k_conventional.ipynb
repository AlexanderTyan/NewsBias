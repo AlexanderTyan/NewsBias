{
 "cells": [
  {
   "cell_type": "code",
   "execution_count": 1,
   "metadata": {},
   "outputs": [],
   "source": [
    "%load_ext autoreload\n",
    "%autoreload 2\n",
    "\n",
    "import datetime\n",
    "import multiprocessing\n",
    "import multiprocess\n",
    "import feedparser as fp\n",
    "import newspaper\n",
    "from newspaper import news_pool\n",
    "import helpers\n",
    "from newspaper import Source, Article\n",
    "import pandas as pd"
   ]
  },
  {
   "cell_type": "markdown",
   "metadata": {},
   "source": [
    "## 1.\n",
    "This is downloading newspapers as one would conventionally using the $newspaper3k$ package "
   ]
  },
  {
   "cell_type": "code",
   "execution_count": 2,
   "metadata": {},
   "outputs": [
    {
     "name": "stdout",
     "output_type": "stream",
     "text": [
      "CPU times: user 7.06 s, sys: 835 ms, total: 7.9 s\n",
      "Wall time: 27.4 s\n"
     ]
    }
   ],
   "source": [
    "%%time\n",
    "# Do conventional newspaper3k build...\n",
    "cnn_3k_paper = newspaper.build('https://www.cnn.com/', memoize_articles=False)\n",
    "rt_3k_paper = newspaper.build('https://www.rt.com/', memoize_articles=False)\n",
    "bbc_3k_paper = newspaper.build('https://www.bbc.com/news', memoize_articles=False)\n",
    "fox_3k_paper = newspaper.build('https://www.foxnews.com/', memoize_articles=False)\n",
    "msnbc_3k_paper = newspaper.build('https://www.msnbc.com/', memoize_articles=False)"
   ]
  },
  {
   "cell_type": "code",
   "execution_count": 3,
   "metadata": {},
   "outputs": [
    {
     "name": "stdout",
     "output_type": "stream",
     "text": [
      "CPU times: user 1min 8s, sys: 9.96 s, total: 1min 18s\n",
      "Wall time: 9min 37s\n"
     ]
    }
   ],
   "source": [
    "%%time\n",
    "# ... and multithread download:\n",
    "papers = [cnn_3k_paper, \n",
    "          rt_3k_paper,\n",
    "          bbc_3k_paper,\n",
    "          fox_3k_paper,\n",
    "          msnbc_3k_paper]\n",
    "news_pool.set(papers, threads_per_source=2) # (5*2) = 10 threads total\n",
    "news_pool.join()"
   ]
  },
  {
   "cell_type": "code",
   "execution_count": 4,
   "metadata": {},
   "outputs": [
    {
     "name": "stdout",
     "output_type": "stream",
     "text": [
      "CPU times: user 7min 30s, sys: 16 s, total: 7min 46s\n",
      "Wall time: 8min 15s\n"
     ]
    }
   ],
   "source": [
    "%%time\n",
    "# Process the downloaded texts:\n",
    "for paper in papers:\n",
    "    paper.parse_articles()"
   ]
  },
  {
   "cell_type": "code",
   "execution_count": 5,
   "metadata": {},
   "outputs": [],
   "source": [
    "filepath = 'data_extra/conventional_data_pulls/'"
   ]
  },
  {
   "cell_type": "code",
   "execution_count": 6,
   "metadata": {},
   "outputs": [
    {
     "name": "stdout",
     "output_type": "stream",
     "text": [
      "CPU times: user 27.7 s, sys: 4.97 s, total: 32.7 s\n",
      "Wall time: 34.6 s\n"
     ]
    }
   ],
   "source": [
    "%%time\n",
    "for paper in papers:\n",
    "    helpers.write_out_articles(newspaper_obj=paper,\n",
    "                               filepath=filepath, \n",
    "                               writeout_type='conventional')"
   ]
  },
  {
   "cell_type": "markdown",
   "metadata": {},
   "source": [
    "Check for files:"
   ]
  },
  {
   "cell_type": "code",
   "execution_count": 11,
   "metadata": {},
   "outputs": [],
   "source": [
    "df = pd.read_csv(filepath + '2019_3_18_bbc.csv')"
   ]
  },
  {
   "cell_type": "code",
   "execution_count": 12,
   "metadata": {},
   "outputs": [
    {
     "data": {
      "text/plain": [
       "0      Image copyright @PolitieUtrecht / Twitter Imag...\n",
       "1      Media playback is unsupported on your device M...\n",
       "2      Media playback is unsupported on your device M...\n",
       "3      Media playback is unsupported on your device M...\n",
       "4      Image copyright Nebraska DOT\\n\\nThawing snowpa...\n",
       "5      Image copyright Pipa Image caption Armando, pi...\n",
       "6      Media playback is unsupported on your device M...\n",
       "7      Image copyright AFP/Getty Images Image caption...\n",
       "8      Image copyright Facebook Image caption Images ...\n",
       "9      Image copyright AFP Image caption Koffi Olomid...\n",
       "10     Image copyright Getty Images Image caption Bet...\n",
       "11     Image copyright Getty Images Image caption Tho...\n",
       "12     Image copyright Getty Images Image caption Tho...\n",
       "13     Image copyright Megan Janetsky Image caption E...\n",
       "14     Image copyright Mansi Thapliyal Image caption ...\n",
       "15     Image copyright Getty Images\\n\\nIt's no secret...\n",
       "16     Media playback is unsupported on your device M...\n",
       "17     Image copyright Getty Images\\n\\nThe US homelan...\n",
       "18     Image copyright Reuters\\n\\nNew Zealand's Prime...\n",
       "19     “We are never completely sure who we are deali...\n",
       "20     “How can somebody be so cruel?”\\n\\nLenny lets ...\n",
       "21     Image copyright YTBYTN/YouTube Image caption F...\n",
       "22     Image copyright Encarni Pindado Image caption ...\n",
       "23     Image copyright Reuters Image caption Top Cana...\n",
       "24     Image copyright Getty Images\\n\\nSam Smith has ...\n",
       "25     Image copyright Getty Images Image caption Art...\n",
       "26     Six years ago my brother took his own life. He...\n",
       "27     The amount of time you spend working on someth...\n",
       "28     Though Singapore celebrated its 50th year of i...\n",
       "29     The ‘r’ sound is the Doctor Who of speech soun...\n",
       "                             ...                        \n",
       "77     Our selection of some of the most striking new...\n",
       "78     Image copyright Reuters\\n\\nResidents of Caraca...\n",
       "79     Image copyright EPA\\n\\nNew Zealand is likely t...\n",
       "80     Image copyright Getty Images\\n\\nIndia has unde...\n",
       "81     Image copyright Getty Images\\n\\nThe UK is sche...\n",
       "82     Image copyright PA\\n\\nThe backstop plan for th...\n",
       "83     Image copyright Getty Images\\n\\nIt is becoming...\n",
       "84     In April 2018, India's Prime Minister, Narendr...\n",
       "85     Image copyright Reuters\\n\\nNew Zealand's Prime...\n",
       "86     Image copyright EPA\\n\\nNew Zealand is likely t...\n",
       "87     Image copyright Getty Images Image caption The...\n",
       "88     Image copyright Getty Images Image caption A p...\n",
       "89     Image copyright Reuters\\n\\nThe deaths of three...\n",
       "90     Image copyright Getty Images\\n\\nIndia has unde...\n",
       "91     Image copyright Getty Images\\n\\nThe UK is sche...\n",
       "92     Image copyright Getty Images\\n\\nIt is becoming...\n",
       "93     Image copyright PA\\n\\nThe backstop plan for th...\n",
       "94     Image copyright Getty Images\\n\\nParis has come...\n",
       "95     Image copyright Getty Images Image caption Soc...\n",
       "96     Image copyright AFP Image caption Berlin women...\n",
       "97     Image copyright AFP/Getty Image caption One of...\n",
       "98     Image copyright WorldPay\\n\\nA payment processi...\n",
       "99     Image copyright Getty Images Image caption The...\n",
       "100    Image copyright Getty Images Image caption Kat...\n",
       "101    Image copyright Getty Images\\n\\nThe \"internal ...\n",
       "102    Image copyright Getty Images Image caption Oft...\n",
       "103    Image copyright Getty Images\\n\\nThree months a...\n",
       "104    Image copyright Ben Hanan Image caption Sarah ...\n",
       "105    Our selection of some of the most striking new...\n",
       "106    Image copyright Reuters\\n\\nResidents of Caraca...\n",
       "Name: text, Length: 107, dtype: object"
      ]
     },
     "execution_count": 12,
     "metadata": {},
     "output_type": "execute_result"
    }
   ],
   "source": [
    "df.text"
   ]
  },
  {
   "cell_type": "code",
   "execution_count": null,
   "metadata": {},
   "outputs": [],
   "source": []
  }
 ],
 "metadata": {
  "kernelspec": {
   "display_name": "Python 3",
   "language": "python",
   "name": "python3"
  },
  "language_info": {
   "codemirror_mode": {
    "name": "ipython",
    "version": 3
   },
   "file_extension": ".py",
   "mimetype": "text/x-python",
   "name": "python",
   "nbconvert_exporter": "python",
   "pygments_lexer": "ipython3",
   "version": "3.6.8"
  }
 },
 "nbformat": 4,
 "nbformat_minor": 2
}
