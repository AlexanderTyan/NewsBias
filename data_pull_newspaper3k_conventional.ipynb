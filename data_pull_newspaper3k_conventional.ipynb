{
 "cells": [
  {
   "cell_type": "code",
   "execution_count": 12,
   "metadata": {},
   "outputs": [
    {
     "name": "stdout",
     "output_type": "stream",
     "text": [
      "The autoreload extension is already loaded. To reload it, use:\n",
      "  %reload_ext autoreload\n"
     ]
    }
   ],
   "source": [
    "%load_ext autoreload\n",
    "%autoreload 2\n",
    "\n",
    "import datetime\n",
    "import multiprocessing\n",
    "import multiprocess\n",
    "import feedparser as fp\n",
    "import newspaper\n",
    "from newspaper import news_pool\n",
    "import helpers\n",
    "from newspaper import Source, Article\n",
    "import pandas as pd"
   ]
  },
  {
   "cell_type": "markdown",
   "metadata": {},
   "source": [
    "## 1.\n",
    "This is downloading newspapers as one would conventionally using the $newspaper3k$ package "
   ]
  },
  {
   "cell_type": "code",
   "execution_count": 13,
   "metadata": {},
   "outputs": [
    {
     "name": "stdout",
     "output_type": "stream",
     "text": [
      "CPU times: user 7.32 s, sys: 1.79 s, total: 9.11 s\n",
      "Wall time: 17.7 s\n"
     ]
    }
   ],
   "source": [
    "%%time\n",
    "# Do conventional newspaper3k build...\n",
    "cnn_3k_paper = newspaper.build('https://www.cnn.com/', memoize_articles=False)\n",
    "rt_3k_paper = newspaper.build('https://www.rt.com/', memoize_articles=False)\n",
    "bbc_3k_paper = newspaper.build('https://www.bbc.com/news', memoize_articles=False)\n",
    "fox_3k_paper = newspaper.build('https://www.foxnews.com/', memoize_articles=False)\n",
    "msnbc_3k_paper = newspaper.build('https://www.msnbc.com/', memoize_articles=False)"
   ]
  },
  {
   "cell_type": "code",
   "execution_count": 14,
   "metadata": {},
   "outputs": [
    {
     "name": "stdout",
     "output_type": "stream",
     "text": [
      "CPU times: user 1min 13s, sys: 13.6 s, total: 1min 26s\n",
      "Wall time: 5min 33s\n"
     ]
    }
   ],
   "source": [
    "%%time\n",
    "# ... and multithread download:\n",
    "papers = [cnn_3k_paper, \n",
    "          rt_3k_paper,\n",
    "          bbc_3k_paper,\n",
    "          fox_3k_paper,\n",
    "          msnbc_3k_paper]\n",
    "news_pool.set(papers, threads_per_source=2) # (5*2) = 10 threads total\n",
    "news_pool.join()"
   ]
  },
  {
   "cell_type": "code",
   "execution_count": 15,
   "metadata": {},
   "outputs": [
    {
     "name": "stdout",
     "output_type": "stream",
     "text": [
      "CPU times: user 7min 13s, sys: 13.5 s, total: 7min 26s\n",
      "Wall time: 7min 41s\n"
     ]
    }
   ],
   "source": [
    "%%time\n",
    "# Process the downloaded texts:\n",
    "for paper in papers:\n",
    "    paper.parse_articles()"
   ]
  },
  {
   "cell_type": "code",
   "execution_count": 16,
   "metadata": {},
   "outputs": [],
   "source": [
    "filepath = 'data/conventional_data_pulls/'"
   ]
  },
  {
   "cell_type": "code",
   "execution_count": 17,
   "metadata": {},
   "outputs": [
    {
     "name": "stdout",
     "output_type": "stream",
     "text": [
      "CPU times: user 26.6 s, sys: 5.05 s, total: 31.7 s\n",
      "Wall time: 37.9 s\n"
     ]
    }
   ],
   "source": [
    "%%time\n",
    "for paper in papers:\n",
    "    helpers.write_out_articles(newspaper_obj=paper,\n",
    "                               filepath=filepath, \n",
    "                               writeout_type='conventional')"
   ]
  },
  {
   "cell_type": "markdown",
   "metadata": {},
   "source": [
    "Check for files:"
   ]
  },
  {
   "cell_type": "code",
   "execution_count": 18,
   "metadata": {},
   "outputs": [],
   "source": [
    "df = pd.read_csv('data/conventional_data_pulls/2019_2_6_bbc.csv')"
   ]
  },
  {
   "cell_type": "code",
   "execution_count": 19,
   "metadata": {},
   "outputs": [
    {
     "data": {
      "text/plain": [
       "'Image copyright Nissan\\n\\nNissan\\'s change of heart over making the X-Trail in Sunderland set Brexit alarm bells ringing over the weekend.\\n\\nIt was further evidence, to some, that car investment in the UK is drying up as we head towards the EU exit - ripping up promises made by Margaret Thatcher to Japanese manufacturers that they should consider the UK as their natural manufacturing outpost within the EU.\\n\\nWhile it is wrong to think that Brexit was the main reason Nissan pulled the X-Trail from Sunderland, it is still right to think that Brexit is proving a powerful deterrent for investment in the UK car industry.\\n\\nSome of the technical issues it throws up could start affecting UK car exports as soon as next week.\\n\\nBut there are three other important factors affecting the UK car industry.\\n\\n1. Diesel sales continue to fall in Europe\\n\\nNissan is not the only company to have been caught off guard by the sudden and rapid slump in diesel sales across Europe.\\n\\nThe VW emissions scandal and the subsequent confusion about diesel among regulators and consumers, have dealt a heavy blow to sales and production with JLR being the most conspicuous casualty.\\n\\nUnder current market conditions it simply made no sense for Nissan to invest in a new diesel manufacturing facility in northern Europe.\\n\\nThe fact that the UK is about to leave the world\\'s biggest trading bloc creating border uncertainty is an aggravating factor for sure but not Nissan\\'s primary reason.\\n\\n2. EU-Japan Trade Deal makes UK less important\\n\\nThere are other powerful forces at work.\\n\\nAs of last week, the free trade agreement between the EU and Japan came into force.\\n\\nUnder that deal, tariffs on Japanese car exports to the EU begin to taper towards zero over the next ten years.\\n\\nThat means there is a dwindling rationale for Japan to manufacture cars for European customers in the EU.\\n\\nIn fact, post Brexit, cars from Japan entering the EU could attract lower tariffs than cars made in the UK.\\n\\n3. Businesses are worried about losing existing trade access\\n\\nThere is another Brexit problem.\\n\\nOne of the highest growth areas for UK exports has been South Korea after trade has been stimulated by a trade agreement with the EU.\\n\\nCurrently the UK enjoys the preferential terms thanks to its membership of the EU. After March 29th it won\\'t.\\n\\nGiven it takes six weeks to transport cars to South East Asia, from mid-February (end of next week) manufacturers face the prospect of loading ships with exports to markets without knowing what tariffs will apply to those products when they come off at the other end.\\n\\nInternational Trade secretary Dr Liam Fox has been confident that we can replicate this and simply tippex out \"EU\" on the front page of nearly 40 free trade agreements and replace it with \"UK\".\\n\\nIt\\'s not that simple.\\n\\nFor products to enjoy preferential terms under a trade deal, there is a requirement for them to be predominantly made of components from that country.\\n\\nIn the trade deal the EU has with South Korea, 55% of the car components must be from the EU.\\n\\nIf the same test was applied to the UK as a stand-alone country, none of the cars manufactured here would pass a test requiring 55% of components to come from the UK.\\n\\nIt is possible that the terms of a future UK-EU trade deal would include asking South Korea, Morocco, Mexico and others if they would allow UK and EU parts to be added together to pass the test but it\\'s far from clear they would agree.\\n\\nSo far Liam Fox has only managed to ensure a trade continuity deal with Chile.\\n\\nIn an uncertain world, we can say one thing with certainty. Investment in the UK car industry has collapsed.\\n\\nIn 2015, companies invested £2.5bn, last year it was less than £600m - a fall of nearly 80% in just three years.\\n\\nBrexit may not have done for the X-Trail, but it is having a corrosive effect on the wider car industry.'"
      ]
     },
     "execution_count": 19,
     "metadata": {},
     "output_type": "execute_result"
    }
   ],
   "source": [
    "df['text'][95]"
   ]
  },
  {
   "cell_type": "code",
   "execution_count": null,
   "metadata": {},
   "outputs": [],
   "source": []
  }
 ],
 "metadata": {
  "kernelspec": {
   "display_name": "Python 3",
   "language": "python",
   "name": "python3"
  },
  "language_info": {
   "codemirror_mode": {
    "name": "ipython",
    "version": 3
   },
   "file_extension": ".py",
   "mimetype": "text/x-python",
   "name": "python",
   "nbconvert_exporter": "python",
   "pygments_lexer": "ipython3",
   "version": "3.6.8"
  }
 },
 "nbformat": 4,
 "nbformat_minor": 2
}
