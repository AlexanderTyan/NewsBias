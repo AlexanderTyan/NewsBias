{
 "cells": [
  {
   "cell_type": "code",
   "execution_count": 9,
   "metadata": {},
   "outputs": [
    {
     "name": "stdout",
     "output_type": "stream",
     "text": [
      "The autoreload extension is already loaded. To reload it, use:\n",
      "  %reload_ext autoreload\n"
     ]
    }
   ],
   "source": [
    "%load_ext autoreload\n",
    "%autoreload 2\n",
    "\n",
    "import datetime\n",
    "import multiprocessing\n",
    "import multiprocess\n",
    "import feedparser as fp\n",
    "import newspaper\n",
    "from newspaper import news_pool\n",
    "import helpers\n",
    "from newspaper import Source, Article\n",
    "import pandas as pd"
   ]
  },
  {
   "cell_type": "code",
   "execution_count": 10,
   "metadata": {},
   "outputs": [
    {
     "name": "stdout",
     "output_type": "stream",
     "text": [
      "CPU times: user 9.97 s, sys: 1.51 s, total: 11.5 s\n",
      "Wall time: 11.2 s\n"
     ]
    }
   ],
   "source": [
    "%%time\n",
    "# Do conventional newspaper3k build...\n",
    "cnn_3k_paper = newspaper.build('https://www.cnn.com/', memoize_articles=False)\n",
    "rt_3k_paper = newspaper.build('https://www.rt.com/', memoize_articles=False)\n",
    "bbc_3k_paper = newspaper.build('https://www.bbc.com/news', memoize_articles=False)\n",
    "fox_3k_paper = newspaper.build('https://www.foxnews.com/', memoize_articles=False)\n",
    "msnbc_3k_paper = newspaper.build('https://www.msnbc.com/', memoize_articles=False)"
   ]
  },
  {
   "cell_type": "code",
   "execution_count": 11,
   "metadata": {},
   "outputs": [
    {
     "name": "stdout",
     "output_type": "stream",
     "text": [
      "CPU times: user 1min 10s, sys: 10.2 s, total: 1min 20s\n",
      "Wall time: 6min 10s\n"
     ]
    }
   ],
   "source": [
    "%%time\n",
    "# ... and multithread download:\n",
    "papers = [cnn_3k_paper, \n",
    "          rt_3k_paper,\n",
    "          bbc_3k_paper,\n",
    "          fox_3k_paper,\n",
    "          msnbc_3k_paper]\n",
    "news_pool.set(papers, threads_per_source=2) # (5*2) = 10 threads total\n",
    "news_pool.join()"
   ]
  },
  {
   "cell_type": "code",
   "execution_count": 12,
   "metadata": {},
   "outputs": [
    {
     "name": "stdout",
     "output_type": "stream",
     "text": [
      "CPU times: user 7min 23s, sys: 18.3 s, total: 7min 41s\n",
      "Wall time: 8min 4s\n"
     ]
    }
   ],
   "source": [
    "%%time\n",
    "# Process the downloaded texts:\n",
    "for paper in papers:\n",
    "    paper.parse_articles()"
   ]
  },
  {
   "cell_type": "code",
   "execution_count": 18,
   "metadata": {},
   "outputs": [],
   "source": [
    "filepath = 'data/conventional_data_pulls/'"
   ]
  },
  {
   "cell_type": "code",
   "execution_count": 19,
   "metadata": {},
   "outputs": [
    {
     "name": "stdout",
     "output_type": "stream",
     "text": [
      "CPU times: user 27 s, sys: 4.36 s, total: 31.4 s\n",
      "Wall time: 32.1 s\n"
     ]
    }
   ],
   "source": [
    "%%time\n",
    "for paper in papers:\n",
    "    helpers.write_out_articles(newspaper_obj=paper,\n",
    "                               filepath=filepath, \n",
    "                               writeout_type='conventional')"
   ]
  },
  {
   "cell_type": "code",
   "execution_count": 112,
   "metadata": {},
   "outputs": [],
   "source": [
    "df = pd.read_csv('data/conventional_data_pulls/2019_1_31_bbc.csv')"
   ]
  },
  {
   "cell_type": "code",
   "execution_count": 115,
   "metadata": {},
   "outputs": [
    {
     "data": {
      "text/plain": [
       "'Image copyright Reuters Image caption The Federal Reserve has been gradually raising interest rates since 2015\\n\\nThe Federal Reserve has indicated it won\\'t raise interest rates anytime soon, marking an abrupt turnaround from earlier statements that suggested it would gradually increase rates.\\n\\nThe US central bank pledged to be \"patient\" citing muted inflation and recent economic \"cross currents\".\\n\\nIt made its statement after the Fed\\'s January meeting, where it held interest rates unchanged, as expected.\\n\\nMarkets, which have been worried about higher rates, jumped on the news.\\n\\nThe Dow Jones Industrial Average ended the day more than 1.75% higher, the S&P 500 gained 1.56% and the Nasdaq increased 2.2%.\\n\\n\\'Uncertainties\\'\\n\\nThe Fed has been slowly raising rates since 2015, arguing that a stronger US economy meant the ultra-low rates put in place during the financial crisis were no longer necessary.\\n\\nBut Federal Reserve Chair Jerome \"Jay\" Powell said changes in recent months warranted a more cautious approach.\\n\\n\"We see these uncertainties,\" he said at a press conference in Washington, pointing to an economic slowdown in Europe and China, the recent government shutdown in the US and the possibility of a hard Brexit.\\n\\n\"We can afford to wait.\"\\n\\nAnalysis by Andrew Walker, BBC World Service economics correspondent:\\n\\nImage copyright Getty Images\\n\\nNo change in policy from the Fed, but there are some revealing changes to the statement compared with what they said in December.\\n\\nThe suggestion that further increases in interest rates will be consistent with achieving their economic objectives has gone, as has the view that risks to the economic outlook are balanced.\\n\\nInflation pressures are now seen as muted and the Fed says it will be patient in making decisions about interest rates.\\n\\nThe changes all point in the same direction: a central bank that is more wary about the economic outlook in terms of growth and is less worried about the risks of significantly higher inflation.\\n\\nThat\\'s not to say the Fed is anywhere near suggesting that a recession is an imminent danger.\\n\\nIt still sees sustained growth as the most likely path for the economy.\\n\\nBut there are what the Fed Chairman Jerome Powell called cross currents, such as the trade tension with China, which suggest there are increased risks of a less favourable outcome.\\n\\nHowever, Mr Powell demurred when asked if this marked an end to rate rises.\\n\\n\"The length of this patient period is going to depend entirely on incoming data and its implications for the outlook,\" he said.\\n\\nSeveral analysts said they thought the Fed would raise rates again this year, assuming the US economy remains healthy.\\n\\n\"This reads more like a pause than a strong signal that they believe that they are the end of the hiking cycle,\" said Fitch Ratings chief economist Brian Coulton.\\n\\n\"Barring a very significant global downturn, we still see further rate increases later this year.\"\\n\\nThe US central bank also provided more detail about its plans to shrink its portfolio of bonds and mortgage-backed securities.\\n\\nThe Fed said it would retain an \"ample\" supply of reserves and could adjust the pace of the sell-off if the economy deteriorates.\\n\\nThe statement followed investor demand for greater clarity.'"
      ]
     },
     "execution_count": 115,
     "metadata": {},
     "output_type": "execute_result"
    }
   ],
   "source": [
    "df['text'][95]"
   ]
  },
  {
   "cell_type": "code",
   "execution_count": null,
   "metadata": {},
   "outputs": [],
   "source": []
  }
 ],
 "metadata": {
  "kernelspec": {
   "display_name": "Python 3",
   "language": "python",
   "name": "python3"
  },
  "language_info": {
   "codemirror_mode": {
    "name": "ipython",
    "version": 3
   },
   "file_extension": ".py",
   "mimetype": "text/x-python",
   "name": "python",
   "nbconvert_exporter": "python",
   "pygments_lexer": "ipython3",
   "version": "3.6.8"
  }
 },
 "nbformat": 4,
 "nbformat_minor": 2
}
