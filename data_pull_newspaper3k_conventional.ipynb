{
 "cells": [
  {
   "cell_type": "code",
   "execution_count": 1,
   "metadata": {},
   "outputs": [],
   "source": [
    "%load_ext autoreload\n",
    "%autoreload 2\n",
    "\n",
    "import datetime\n",
    "import multiprocessing\n",
    "import multiprocess\n",
    "import feedparser as fp\n",
    "import newspaper\n",
    "from newspaper import news_pool\n",
    "import helpers\n",
    "from newspaper import Source, Article\n",
    "import pandas as pd"
   ]
  },
  {
   "cell_type": "markdown",
   "metadata": {},
   "source": [
    "## 1.\n",
    "This is downloading newspapers as one would conventionally using the $newspaper3k$ package "
   ]
  },
  {
   "cell_type": "code",
   "execution_count": 2,
   "metadata": {},
   "outputs": [
    {
     "name": "stdout",
     "output_type": "stream",
     "text": [
      "CPU times: user 6.94 s, sys: 840 ms, total: 7.78 s\n",
      "Wall time: 25.3 s\n"
     ]
    }
   ],
   "source": [
    "%%time\n",
    "# Do conventional newspaper3k build...\n",
    "cnn_3k_paper = newspaper.build('https://www.cnn.com/', memoize_articles=False)\n",
    "rt_3k_paper = newspaper.build('https://www.rt.com/', memoize_articles=False)\n",
    "bbc_3k_paper = newspaper.build('https://www.bbc.com/news', memoize_articles=False)\n",
    "fox_3k_paper = newspaper.build('https://www.foxnews.com/', memoize_articles=False)\n",
    "msnbc_3k_paper = newspaper.build('https://www.msnbc.com/', memoize_articles=False)"
   ]
  },
  {
   "cell_type": "code",
   "execution_count": 3,
   "metadata": {},
   "outputs": [
    {
     "name": "stdout",
     "output_type": "stream",
     "text": [
      "CPU times: user 1min 4s, sys: 8.66 s, total: 1min 13s\n",
      "Wall time: 9min 20s\n"
     ]
    }
   ],
   "source": [
    "%%time\n",
    "# ... and multithread download:\n",
    "papers = [cnn_3k_paper, \n",
    "          rt_3k_paper,\n",
    "          bbc_3k_paper,\n",
    "          fox_3k_paper,\n",
    "          msnbc_3k_paper]\n",
    "news_pool.set(papers, threads_per_source=2) # (5*2) = 10 threads total\n",
    "news_pool.join()"
   ]
  },
  {
   "cell_type": "code",
   "execution_count": 4,
   "metadata": {},
   "outputs": [
    {
     "name": "stdout",
     "output_type": "stream",
     "text": [
      "CPU times: user 8min 11s, sys: 18.2 s, total: 8min 29s\n",
      "Wall time: 9min 10s\n"
     ]
    }
   ],
   "source": [
    "%%time\n",
    "# Process the downloaded texts:\n",
    "for paper in papers:\n",
    "    paper.parse_articles()"
   ]
  },
  {
   "cell_type": "code",
   "execution_count": 5,
   "metadata": {},
   "outputs": [],
   "source": [
    "filepath = 'data_extra/conventional_data_pulls/'"
   ]
  },
  {
   "cell_type": "code",
   "execution_count": 6,
   "metadata": {},
   "outputs": [
    {
     "name": "stdout",
     "output_type": "stream",
     "text": [
      "CPU times: user 29.4 s, sys: 5.8 s, total: 35.3 s\n",
      "Wall time: 1min\n"
     ]
    }
   ],
   "source": [
    "%%time\n",
    "for paper in papers:\n",
    "    helpers.write_out_articles(newspaper_obj=paper,\n",
    "                               filepath=filepath, \n",
    "                               writeout_type='conventional')"
   ]
  },
  {
   "cell_type": "markdown",
   "metadata": {},
   "source": [
    "Check for files:"
   ]
  },
  {
   "cell_type": "code",
   "execution_count": 7,
   "metadata": {},
   "outputs": [],
   "source": [
    "df = pd.read_csv(filepath + '2019_3_17_bbc.csv')"
   ]
  },
  {
   "cell_type": "code",
   "execution_count": 8,
   "metadata": {},
   "outputs": [
    {
     "data": {
      "text/plain": [
       "0      Image copyright Reuters\\n\\nFlight data from th...\n",
       "1      Image copyright Reuters Image caption Some fam...\n",
       "2      Image copyright Hassan Katende / Facebook / Ha...\n",
       "3      Image copyright Boeing Image caption The 737 M...\n",
       "4      Media playback is unsupported on your device M...\n",
       "5      Image copyright EPA Image caption Michael Ben-...\n",
       "6      Image copyright Getty Images Image caption An ...\n",
       "7      Image copyright Reuters Image caption Proteste...\n",
       "8      Image copyright AFP Image caption Malawi has a...\n",
       "9      Image copyright Sinn Féin Image caption Mary L...\n",
       "10     Image copyright FIFA via Getty Images Image ca...\n",
       "11     Media playback is unsupported on your device M...\n",
       "12     Media playback is unsupported on your device M...\n",
       "13     Image copyright AFP Image caption A tribute in...\n",
       "14     Image copyright EPA, Getty Images, Reuters\\n\\n...\n",
       "15     Image copyright Getty Images\\n\\nThree months a...\n",
       "16     Image copyright Getty Images\\n\\nThe US homelan...\n",
       "17     Image copyright AFP Image caption Young Algeri...\n",
       "18     Image copyright Getty Images\\n\\nIt's no secret...\n",
       "19     Image copyright Getty Images\\n\\nIndia's plumme...\n",
       "20     Image copyright centro sefarad Image caption T...\n",
       "21     Image copyright Mahka Eslami Image caption Mic...\n",
       "22     When Stephanie Elderton's twin boys caught a c...\n",
       "23     Image copyright Encarni Pindado Image caption ...\n",
       "24     Media playback is unsupported on your device M...\n",
       "25     Image copyright Brendan Marshall Image caption...\n",
       "26     Six years ago my brother took his own life. He...\n",
       "27     “I am young, ambitious and ready to transform ...\n",
       "28     Though Singapore celebrated its 50th year of i...\n",
       "29     Earlier in March, the British poet Brian Bilst...\n",
       "                             ...                        \n",
       "78     Image copyright D. Gorton Image caption Seeing...\n",
       "79     Photographers Jennifer McCord, Iulia David, Ho...\n",
       "80     Image copyright EPA\\n\\nA mass shooting at two ...\n",
       "81     Image copyright Getty Images\\n\\nIndia has unde...\n",
       "82     Image copyright Getty Images\\n\\nThe UK is sche...\n",
       "83     Image copyright PA\\n\\nThe backstop plan for th...\n",
       "84     Image copyright Getty Images\\n\\nIt is becoming...\n",
       "85     Image copyright Getty Images Image caption A p...\n",
       "86     Image copyright Reuters\\n\\nThe deaths of three...\n",
       "87     Image copyright EPA\\n\\nA mass shooting at two ...\n",
       "88     Image copyright Getty Images\\n\\nIndia has unde...\n",
       "89     Image copyright Getty Images\\n\\nThe UK is sche...\n",
       "90     Image copyright Getty Images\\n\\nIt is becoming...\n",
       "91     Image copyright PA\\n\\nThe backstop plan for th...\n",
       "92     Image copyright Getty Images\\n\\nThe Indian gov...\n",
       "93     Image copyright Getty Images\\n\\nMPs have voted...\n",
       "94     Image copyright Reuters\\n\\nFlight data from th...\n",
       "95     Media playback is unsupported on your device M...\n",
       "96     Image copyright EPA Image caption Michael Ben-...\n",
       "97     Image copyright Getty Images\\n\\nMarks and Spen...\n",
       "98     Image copyright Levi's Image caption Nick Kame...\n",
       "99     Image copyright Getty Images\\n\\nTwo fatal acci...\n",
       "100    Image copyright Getty Images Image caption An ...\n",
       "101    Media playback is unsupported on your device M...\n",
       "102    Image copyright Getty Images\\n\\nThe \"internal ...\n",
       "103    Media playback is unsupported on your device M...\n",
       "104    Image copyright Getty Images\\n\\nA new type of ...\n",
       "105    Image copyright Reuters\\n\\nResidents of Caraca...\n",
       "106    Image copyright D. Gorton Image caption Seeing...\n",
       "107    Photographers Jennifer McCord, Iulia David, Ho...\n",
       "Name: text, Length: 108, dtype: object"
      ]
     },
     "execution_count": 8,
     "metadata": {},
     "output_type": "execute_result"
    }
   ],
   "source": [
    "df.text"
   ]
  },
  {
   "cell_type": "code",
   "execution_count": null,
   "metadata": {},
   "outputs": [],
   "source": []
  }
 ],
 "metadata": {
  "kernelspec": {
   "display_name": "Python 3",
   "language": "python",
   "name": "python3"
  },
  "language_info": {
   "codemirror_mode": {
    "name": "ipython",
    "version": 3
   },
   "file_extension": ".py",
   "mimetype": "text/x-python",
   "name": "python",
   "nbconvert_exporter": "python",
   "pygments_lexer": "ipython3",
   "version": "3.6.8"
  }
 },
 "nbformat": 4,
 "nbformat_minor": 2
}
