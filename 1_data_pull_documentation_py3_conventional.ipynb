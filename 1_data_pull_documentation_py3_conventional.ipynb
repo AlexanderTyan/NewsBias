{
 "cells": [
  {
   "cell_type": "code",
   "execution_count": 1,
   "metadata": {},
   "outputs": [],
   "source": [
    "%load_ext autoreload\n",
    "%autoreload 2\n",
    "\n",
    "import datetime\n",
    "import multiprocessing\n",
    "import multiprocess\n",
    "import feedparser as fp\n",
    "import newspaper\n",
    "from newspaper import news_pool\n",
    "import helpers\n",
    "from newspaper import Source, Article\n",
    "import pandas as pd"
   ]
  },
  {
   "cell_type": "markdown",
   "metadata": {},
   "source": [
    "## 1.\n",
    "This is downloading newspapers as one would conventionally using the $newspaper3k$ package "
   ]
  },
  {
   "cell_type": "code",
   "execution_count": 2,
   "metadata": {},
   "outputs": [
    {
     "name": "stdout",
     "output_type": "stream",
     "text": [
      "CPU times: user 7.24 s, sys: 884 ms, total: 8.13 s\n",
      "Wall time: 31.2 s\n"
     ]
    }
   ],
   "source": [
    "%%time\n",
    "# Do conventional newspaper3k build...\n",
    "cnn_3k_paper = newspaper.build('https://www.cnn.com/', memoize_articles=False)\n",
    "rt_3k_paper = newspaper.build('https://www.rt.com/', memoize_articles=False)\n",
    "bbc_3k_paper = newspaper.build('https://www.bbc.com/news', memoize_articles=False)\n",
    "fox_3k_paper = newspaper.build('https://www.foxnews.com/', memoize_articles=False)\n",
    "msnbc_3k_paper = newspaper.build('https://www.msnbc.com/', memoize_articles=False)"
   ]
  },
  {
   "cell_type": "code",
   "execution_count": 3,
   "metadata": {},
   "outputs": [
    {
     "name": "stdout",
     "output_type": "stream",
     "text": [
      "CPU times: user 1min 21s, sys: 10.5 s, total: 1min 31s\n",
      "Wall time: 8min 28s\n"
     ]
    }
   ],
   "source": [
    "%%time\n",
    "# ... and multithread download:\n",
    "papers = [cnn_3k_paper, \n",
    "          rt_3k_paper,\n",
    "          bbc_3k_paper,\n",
    "          fox_3k_paper,\n",
    "          msnbc_3k_paper]\n",
    "news_pool.set(papers, threads_per_source=2) # (5*2) = 10 threads total\n",
    "news_pool.join()"
   ]
  },
  {
   "cell_type": "code",
   "execution_count": 4,
   "metadata": {},
   "outputs": [
    {
     "name": "stdout",
     "output_type": "stream",
     "text": [
      "CPU times: user 9min 16s, sys: 20.5 s, total: 9min 36s\n",
      "Wall time: 10min 8s\n"
     ]
    }
   ],
   "source": [
    "%%time\n",
    "# Process the downloaded texts:\n",
    "for paper in papers:\n",
    "    paper.parse_articles()"
   ]
  },
  {
   "cell_type": "code",
   "execution_count": 5,
   "metadata": {},
   "outputs": [],
   "source": [
    "filepath = 'data_extra_2/conventional_data_pulls/'"
   ]
  },
  {
   "cell_type": "code",
   "execution_count": 6,
   "metadata": {},
   "outputs": [
    {
     "name": "stdout",
     "output_type": "stream",
     "text": [
      "CPU times: user 34 s, sys: 8.47 s, total: 42.5 s\n",
      "Wall time: 1min 22s\n"
     ]
    }
   ],
   "source": [
    "%%time\n",
    "for paper in papers:\n",
    "    helpers.write_out_articles(newspaper_obj=paper,\n",
    "                               filepath=filepath, \n",
    "                               writeout_type='conventional')"
   ]
  },
  {
   "cell_type": "markdown",
   "metadata": {},
   "source": [
    "Check for files:"
   ]
  },
  {
   "cell_type": "code",
   "execution_count": 7,
   "metadata": {},
   "outputs": [],
   "source": [
    "df = pd.read_csv(filepath + '2019_3_27_bbc.csv')"
   ]
  },
  {
   "cell_type": "code",
   "execution_count": 8,
   "metadata": {},
   "outputs": [
    {
     "data": {
      "text/plain": [
       "0      Media playback is unsupported on your device M...\n",
       "1      Media playback is unsupported on your device M...\n",
       "2      Image copyright Getty Images\\n\\nMPs have voted...\n",
       "3      Image copyright Reuters\\n\\nTheresa May is addr...\n",
       "4      Image copyright AFP\\n\\nThere is a very strange...\n",
       "5      Image copyright Getty Images\\n\\nToo much autho...\n",
       "6      Image copyright Getty Images\\n\\nChicago's mayo...\n",
       "7      Image copyright Getty Images Image caption In ...\n",
       "8      Image copyright Barcroft Media/Getty Images Im...\n",
       "9      Image copyright Reuters Image caption Police w...\n",
       "10     Image copyright Getty Images Image caption Unf...\n",
       "11     Image copyright City Realty\\n\\nThe UK governme...\n",
       "12     Image copyright York Regional Police Image cap...\n",
       "13     Image copyright AFP Image caption Rafael Henze...\n",
       "14     Image copyright Getty Images Image caption Dmi...\n",
       "15     Image copyright Disney Enterprises, Inc. Image...\n",
       "16     When Tara died, social media immediately becam...\n",
       "17     Image copyright Thomas Ronge/AWI Image caption...\n",
       "18     Image copyright Getty Images Image caption Mic...\n",
       "19     Image caption Ricci Shannon, a cocktail server...\n",
       "20     Image copyright Free Joseon/YouTube Image capt...\n",
       "21     Image copyright EPA Image caption The Philippi...\n",
       "22     Image copyright EPA Image caption Theresa May ...\n",
       "23     Image copyright Getty Images Image caption Mr ...\n",
       "24     Bethany and Rob had been secretly dating for w...\n",
       "25     This story is published in collaboration with ...\n",
       "26     Image copyright Reuters\\n\\nThis is the story o...\n",
       "27     Image copyright NurPhoto/Getty Images\\n\\nThe l...\n",
       "28     Image copyright Reuters Image caption Actors F...\n",
       "29     Image copyright Trevor Burrows\\n\\nLewis Hardy ...\n",
       "                             ...                        \n",
       "81     Cyclone Idai has ravaged parts of Mozambique, ...\n",
       "82     Media playback is unsupported on your device M...\n",
       "83     Image copyright Getty Images\\n\\nToo much autho...\n",
       "84     Image copyright Getty Images\\n\\nChicago's mayo...\n",
       "85     Image copyright PA\\n\\nSpeed limiting technolog...\n",
       "86     Image copyright EPA Image caption Homes and ve...\n",
       "87     Image copyright Getty Images\\n\\nPurdue Pharma,...\n",
       "88     Image copyright Getty Images Image caption Des...\n",
       "89     Image copyright Marvel Studios Image caption B...\n",
       "90     Image copyright University of Toronto Image ca...\n",
       "91     Image copyright Steven Falk Image caption Ther...\n",
       "92     Image copyright Trevor Burrows\\n\\nLewis Hardy ...\n",
       "93     Image copyright Steve Forrest Image caption Co...\n",
       "94     The shortlist for the 2019 Sony World Photogra...\n",
       "95     A new beach has opened to the public in Nigeri...\n",
       "96     Cyclone Idai has ravaged parts of Mozambique, ...\n",
       "97     Image copyright Getty Images\\n\\nWe now know th...\n",
       "98     Image copyright UK Parliament\\n\\nMPs have deci...\n",
       "99     Image copyright Getty Images\\n\\nEU leaders hav...\n",
       "100    Image copyright AFP Image caption A man injure...\n",
       "101    Image copyright Getty Images\\n\\nMPs have voted...\n",
       "102    Image copyright PA\\n\\nWinter is the season whe...\n",
       "103    Image copyright UK Parliament\\n\\nMPs have deci...\n",
       "104    Image copyright AFP\\n\\nThe Indian Prime Minist...\n",
       "105    Image copyright Getty Images\\n\\nOne of the ter...\n",
       "106    Image copyright Getty Images Image caption The...\n",
       "107    Image copyright Getty Images\\n\\nA group of Lab...\n",
       "108    Image copyright Getty Images\\n\\nIndia's urban ...\n",
       "109    Image copyright AFP Image caption A man injure...\n",
       "110    Image copyright Getty Images\\n\\nEU leaders hav...\n",
       "Name: text, Length: 111, dtype: object"
      ]
     },
     "execution_count": 8,
     "metadata": {},
     "output_type": "execute_result"
    }
   ],
   "source": [
    "df.text"
   ]
  },
  {
   "cell_type": "code",
   "execution_count": null,
   "metadata": {},
   "outputs": [],
   "source": []
  }
 ],
 "metadata": {
  "kernelspec": {
   "display_name": "Python 3",
   "language": "python",
   "name": "python3"
  },
  "language_info": {
   "codemirror_mode": {
    "name": "ipython",
    "version": 3
   },
   "file_extension": ".py",
   "mimetype": "text/x-python",
   "name": "python",
   "nbconvert_exporter": "python",
   "pygments_lexer": "ipython3",
   "version": "3.6.8"
  }
 },
 "nbformat": 4,
 "nbformat_minor": 2
}
